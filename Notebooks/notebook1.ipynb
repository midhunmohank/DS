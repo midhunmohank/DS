{
  "cells": [
    {
      "cell_type": "markdown",
      "source": [
        "**Abstract:**<br>\n",
        "Source: https://www.kaggle.com/ishadss/productivity-prediction-of-garment-employees\n",
        "\n",
        "Context:<br>\n",
        "\n",
        "The Garment Industry is one of the key examples of the industrial globalization of this modern era. It is a highly labour-intensive industry with lots of manual processes. Satisfying the huge global demand for garment products is mostly dependent on the production and delivery performance of the employees in the garment manufacturing companies. So, it is highly desirable among the decision makers in the garments industry to track, analyse and predict the productivity performance of the working teams in their factories\n",
        "\n",
        "Goal:<br>\n",
        "Predict the productivity of employee in terms of percentage % of work delivered by employees.\n",
        "\n",
        "Content:<br>\n",
        "\n",
        "This dataset includes important attributes of the garment manufacturing process and the productivity of the employees which had been collected manually and also been validated by the industry experts.\n",
        "\n",
        "<h3>Attribute Information:</h3>\n",
        "<li>date : Date in MM-DD-YYYY </li>\n",
        "<li>day : Day of the Week</li>\n",
        "<li>quarter : A portion of the month. A month was divided into four quarters</li>\n",
        "<li>department : Associated department with the instance</li>\n",
        "<li>teamno : Associated team number with the instance </li>\n",
        "<li>noofworkers : Number of workers in each team </li>\n",
        "<li>noofstylechange : Number of changes in the style of a particular product</li>\n",
        "<li>targetedproductivity : Targeted productivity set by the Authority for each team for each day. </li>\n",
        "<li>smv : Standard Minute Value, it is the allocated time for a task </li>\n",
        "<li>wip : Work in progress. Includes the number of unfinished items for products </li>\n",
        "<li>overtime : Represents the amount of overtime by each team in minutes</li>\n",
        "<li>incentive : Represents the amount of financial incentive (in BDT) that enables or motivates a particular course of action.</li>\n",
        "<li>idletime : The amount of time when the production was interrupted due to several reasons </li>\n",
        "<li>idlemen : The number of workers who were idle due to production interruption</li>\n",
        "<li>actual_productivity : The actual % of productivity that was delivered by the workers. It ranges from 0-1.</li>"
      ],
      "metadata": {
        "id": "xtfxuBvoFTl7"
      }
    },
    {
      "cell_type": "code",
      "execution_count": 239,
      "metadata": {
        "colab": {
          "base_uri": "https://localhost:8080/"
        },
        "id": "vvIb8mhW37c1",
        "outputId": "e6f2a1f8-2d1e-4847-904d-9f873c46a16b"
      },
      "outputs": [
        {
          "output_type": "stream",
          "name": "stdout",
          "text": [
            "Requirement already satisfied: h2o in /usr/local/lib/python3.7/dist-packages (3.36.0.2)\n",
            "Requirement already satisfied: future in /usr/local/lib/python3.7/dist-packages (from h2o) (0.16.0)\n",
            "Requirement already satisfied: requests in /usr/local/lib/python3.7/dist-packages (from h2o) (2.23.0)\n",
            "Requirement already satisfied: tabulate in /usr/local/lib/python3.7/dist-packages (from h2o) (0.8.9)\n",
            "Requirement already satisfied: urllib3!=1.25.0,!=1.25.1,<1.26,>=1.21.1 in /usr/local/lib/python3.7/dist-packages (from requests->h2o) (1.24.3)\n",
            "Requirement already satisfied: certifi>=2017.4.17 in /usr/local/lib/python3.7/dist-packages (from requests->h2o) (2021.10.8)\n",
            "Requirement already satisfied: chardet<4,>=3.0.2 in /usr/local/lib/python3.7/dist-packages (from requests->h2o) (3.0.4)\n",
            "Requirement already satisfied: idna<3,>=2.5 in /usr/local/lib/python3.7/dist-packages (from requests->h2o) (2.10)\n",
            "Requirement already satisfied: requests in /usr/local/lib/python3.7/dist-packages (2.23.0)\n",
            "Requirement already satisfied: urllib3!=1.25.0,!=1.25.1,<1.26,>=1.21.1 in /usr/local/lib/python3.7/dist-packages (from requests) (1.24.3)\n",
            "Requirement already satisfied: chardet<4,>=3.0.2 in /usr/local/lib/python3.7/dist-packages (from requests) (3.0.4)\n",
            "Requirement already satisfied: idna<3,>=2.5 in /usr/local/lib/python3.7/dist-packages (from requests) (2.10)\n",
            "Requirement already satisfied: certifi>=2017.4.17 in /usr/local/lib/python3.7/dist-packages (from requests) (2021.10.8)\n",
            "Requirement already satisfied: tabulate in /usr/local/lib/python3.7/dist-packages (0.8.9)\n",
            "Requirement already satisfied: colorama>=0.3.8 in /usr/local/lib/python3.7/dist-packages (0.4.4)\n",
            "Requirement already satisfied: future in /usr/local/lib/python3.7/dist-packages (0.16.0)\n"
          ]
        }
      ],
      "source": [
        "#Installing required packages\n",
        "!pip install h2o\n",
        "!pip install requests\n",
        "!pip install tabulate\n",
        "!pip install \"colorama>=0.3.8\"\n",
        "!pip install future\n",
        "\n",
        "\n",
        "\n",
        "# !pip install -f http://h2o-release.s3.amazonaws.com/h2o/latest_stable_Py.html h2o\n",
        "# # Note: When installing H2O from !pip in OS X El Capitan, users must include the --user flag.\n",
        "\n",
        "# !pip install -f http://h2o-release.s3.amazonaws.com/h2o/latest_stable_Py.html h2o --user\n",
        "# # See Downloading & Installing H2O http://docs.h2o.ai/h2o/latest-stable/h2o-docs/downloading.html"
      ]
    },
    {
      "cell_type": "code",
      "execution_count": 240,
      "metadata": {
        "id": "aQhymb4ia34m"
      },
      "outputs": [],
      "source": [
        "# Set a minimum memory size and a run time in seconds\n",
        "min_mem_size=7\n",
        "run_time=222\n",
        "# Train AutoML"
      ]
    },
    {
      "cell_type": "code",
      "execution_count": 241,
      "metadata": {
        "id": "Gd1cvfCcb4kF"
      },
      "outputs": [],
      "source": [
        "#Import Required Packages\n",
        "import h2o\n",
        "from h2o.automl import H2OAutoML\n",
        "import pandas as pd\n",
        "import numpy as np\n",
        "import matplotlib.pyplot as plt"
      ]
    },
    {
      "cell_type": "code",
      "execution_count": 242,
      "metadata": {
        "colab": {
          "base_uri": "https://localhost:8080/",
          "height": 406
        },
        "id": "jPOb2iDto1KQ",
        "outputId": "ccedcd0a-7905-495d-a74b-023ad7e38f13"
      },
      "outputs": [
        {
          "output_type": "stream",
          "name": "stdout",
          "text": [
            "Checking whether there is an H2O instance running at http://localhost:54321 . connected.\n"
          ]
        },
        {
          "output_type": "display_data",
          "data": {
            "text/html": [
              "<div style=\"overflow:auto\"><table style=\"width:50%\"><tr><td>H2O_cluster_uptime:</td>\n",
              "<td>4 hours 45 mins</td></tr>\n",
              "<tr><td>H2O_cluster_timezone:</td>\n",
              "<td>Etc/UTC</td></tr>\n",
              "<tr><td>H2O_data_parsing_timezone:</td>\n",
              "<td>UTC</td></tr>\n",
              "<tr><td>H2O_cluster_version:</td>\n",
              "<td>3.36.0.2</td></tr>\n",
              "<tr><td>H2O_cluster_version_age:</td>\n",
              "<td>19 days </td></tr>\n",
              "<tr><td>H2O_cluster_name:</td>\n",
              "<td>H2O_from_python_unknownUser_xfyjug</td></tr>\n",
              "<tr><td>H2O_cluster_total_nodes:</td>\n",
              "<td>1</td></tr>\n",
              "<tr><td>H2O_cluster_free_memory:</td>\n",
              "<td>3.027 Gb</td></tr>\n",
              "<tr><td>H2O_cluster_total_cores:</td>\n",
              "<td>2</td></tr>\n",
              "<tr><td>H2O_cluster_allowed_cores:</td>\n",
              "<td>2</td></tr>\n",
              "<tr><td>H2O_cluster_status:</td>\n",
              "<td>locked, healthy</td></tr>\n",
              "<tr><td>H2O_connection_url:</td>\n",
              "<td>http://localhost:54321</td></tr>\n",
              "<tr><td>H2O_connection_proxy:</td>\n",
              "<td>{\"http\": null, \"https\": null}</td></tr>\n",
              "<tr><td>H2O_internal_security:</td>\n",
              "<td>False</td></tr>\n",
              "<tr><td>H2O_API_Extensions:</td>\n",
              "<td>Amazon S3, XGBoost, Algos, Infogram, AutoML, Core V3, TargetEncoder, Core V4</td></tr>\n",
              "<tr><td>Python_version:</td>\n",
              "<td>3.7.12 final</td></tr></table></div>"
            ],
            "text/plain": [
              "--------------------------  ----------------------------------------------------------------------------\n",
              "H2O_cluster_uptime:         4 hours 45 mins\n",
              "H2O_cluster_timezone:       Etc/UTC\n",
              "H2O_data_parsing_timezone:  UTC\n",
              "H2O_cluster_version:        3.36.0.2\n",
              "H2O_cluster_version_age:    19 days\n",
              "H2O_cluster_name:           H2O_from_python_unknownUser_xfyjug\n",
              "H2O_cluster_total_nodes:    1\n",
              "H2O_cluster_free_memory:    3.027 Gb\n",
              "H2O_cluster_total_cores:    2\n",
              "H2O_cluster_allowed_cores:  2\n",
              "H2O_cluster_status:         locked, healthy\n",
              "H2O_connection_url:         http://localhost:54321\n",
              "H2O_connection_proxy:       {\"http\": null, \"https\": null}\n",
              "H2O_internal_security:      False\n",
              "H2O_API_Extensions:         Amazon S3, XGBoost, Algos, Infogram, AutoML, Core V3, TargetEncoder, Core V4\n",
              "Python_version:             3.7.12 final\n",
              "--------------------------  ----------------------------------------------------------------------------"
            ]
          },
          "metadata": {}
        },
        {
          "output_type": "stream",
          "name": "stdout",
          "text": [
            "Parse progress: |████████████████████████████████████████████████████████████████| (done) 100%\n"
          ]
        }
      ],
      "source": [
        "#Ingesting the Dataset into the dataframe\n",
        "h2o.init()\n",
        "url = \"https://raw.githubusercontent.com/midhunmohank/AutoML/main/garments_worker_productivity.csv\"\n",
        "df = h2o.import_file(path = url)"
      ]
    },
    {
      "cell_type": "code",
      "execution_count": 243,
      "metadata": {
        "colab": {
          "base_uri": "https://localhost:8080/"
        },
        "id": "11NEjpsca34o",
        "outputId": "a8699adc-8b19-4402-eeb3-501f6291b47c"
      },
      "outputs": [
        {
          "output_type": "stream",
          "name": "stdout",
          "text": [
            "date\n",
            "quarter\n",
            "department\n",
            "day\n",
            "team\n",
            "targeted_productivity\n",
            "smv\n",
            "wip\n",
            "over_time\n",
            "incentive\n",
            "idle_time\n",
            "idle_men\n",
            "no_of_style_change\n",
            "no_of_workers\n",
            "actual_productivity\n"
          ]
        }
      ],
      "source": [
        "X = (df.columns)\n",
        "for i in X:\n",
        "    print(i)"
      ]
    },
    {
      "cell_type": "markdown",
      "metadata": {
        "id": "zK0slTEJo28e",
        "outputId": "efe63690-a081-4ee2-ff96-cbaa0b580678"
      },
      "source": [
        "<h3>Attribute Information:</h3>\n",
        "<li>date : Date in MM-DD-YYYY  </li>\n",
        "<li>day : Day of the Week </li>\n",
        "<li>quarter : A portion of the month. A month was divided into four quarters </li>\n",
        "<li>department : Associated department with the instance </li>\n",
        "<li>teamno : Associated team number with the instance </li>\n",
        "<li>noofworkers : Number of workers in each team </li>\n",
        "<li>noofstylechange : Number of changes in the style of a particular product </li>\n",
        "<li>targetedproductivity : Targeted productivity set by the Authority for each team for each day. </li>\n",
        "<li>smv : Standard Minute Value, it is the allocated time for a task </li>\n",
        "<li>wip : Work in progress. Includes the number of unfinished items for products </li>\n",
        "<li>overtime : Represents the amount of overtime by each team in minutes </li>\n",
        "<li>incentive : Represents the amount of financial incentive (in BDT) that enables or motivates a particular course of action. </li>\n",
        "<li>idletime : The amount of time when the production was interrupted due to several reasons </li>\n",
        "<li>idlemen : The number of workers who were idle due to production interruption </li>\n",
        "<li>actual_productivity : The actual % of productivity that was delivered by the workers. It ranges from 0-1.</li>"
      ]
    },
    {
      "cell_type": "code",
      "execution_count": 244,
      "metadata": {
        "colab": {
          "base_uri": "https://localhost:8080/"
        },
        "id": "5hRmB9HFpBYG",
        "outputId": "77ed4b29-278e-429c-bc50-92c09c0f1759"
      },
      "outputs": [
        {
          "output_type": "execute_result",
          "data": {
            "text/plain": [
              "{'actual_productivity': 'real',\n",
              " 'date': 'time',\n",
              " 'day': 'enum',\n",
              " 'department': 'enum',\n",
              " 'idle_men': 'int',\n",
              " 'idle_time': 'real',\n",
              " 'incentive': 'int',\n",
              " 'no_of_style_change': 'int',\n",
              " 'no_of_workers': 'real',\n",
              " 'over_time': 'int',\n",
              " 'quarter': 'enum',\n",
              " 'smv': 'real',\n",
              " 'targeted_productivity': 'real',\n",
              " 'team': 'int',\n",
              " 'wip': 'int'}"
            ]
          },
          "metadata": {},
          "execution_count": 244
        }
      ],
      "source": [
        "#Checking the Data Types\n",
        "df.types"
      ]
    },
    {
      "cell_type": "code",
      "execution_count": 245,
      "metadata": {
        "colab": {
          "base_uri": "https://localhost:8080/",
          "height": 145
        },
        "id": "5mhnW7Mfa34q",
        "outputId": "40a6a32c-324c-494f-f743-516ffb6b6200"
      },
      "outputs": [
        {
          "output_type": "display_data",
          "data": {
            "text/html": [
              "<table>\n",
              "<thead>\n",
              "<tr><th>date               </th><th>quarter  </th><th>department  </th><th>day     </th><th style=\"text-align: right;\">  team</th><th style=\"text-align: right;\">  targeted_productivity</th><th style=\"text-align: right;\">  smv</th><th style=\"text-align: right;\">  wip</th><th style=\"text-align: right;\">  over_time</th><th style=\"text-align: right;\">  incentive</th><th style=\"text-align: right;\">  idle_time</th><th style=\"text-align: right;\">  idle_men</th><th style=\"text-align: right;\">  no_of_style_change</th><th style=\"text-align: right;\">  no_of_workers</th><th style=\"text-align: right;\">  actual_productivity</th></tr>\n",
              "</thead>\n",
              "<tbody>\n",
              "<tr><td>2015-01-01 00:00:00</td><td>Quarter1 </td><td>sweing      </td><td>Thursday</td><td style=\"text-align: right;\">     8</td><td style=\"text-align: right;\">                   0.8 </td><td style=\"text-align: right;\">26.16</td><td style=\"text-align: right;\"> 1108</td><td style=\"text-align: right;\">       7080</td><td style=\"text-align: right;\">         98</td><td style=\"text-align: right;\">          0</td><td style=\"text-align: right;\">         0</td><td style=\"text-align: right;\">                   0</td><td style=\"text-align: right;\">           59  </td><td style=\"text-align: right;\">             0.940725</td></tr>\n",
              "<tr><td>2015-01-01 00:00:00</td><td>Quarter1 </td><td>finishing   </td><td>Thursday</td><td style=\"text-align: right;\">     1</td><td style=\"text-align: right;\">                   0.75</td><td style=\"text-align: right;\"> 3.94</td><td style=\"text-align: right;\">  nan</td><td style=\"text-align: right;\">        960</td><td style=\"text-align: right;\">          0</td><td style=\"text-align: right;\">          0</td><td style=\"text-align: right;\">         0</td><td style=\"text-align: right;\">                   0</td><td style=\"text-align: right;\">            8  </td><td style=\"text-align: right;\">             0.8865  </td></tr>\n",
              "<tr><td>2015-01-01 00:00:00</td><td>Quarter1 </td><td>sweing      </td><td>Thursday</td><td style=\"text-align: right;\">    11</td><td style=\"text-align: right;\">                   0.8 </td><td style=\"text-align: right;\">11.41</td><td style=\"text-align: right;\">  968</td><td style=\"text-align: right;\">       3660</td><td style=\"text-align: right;\">         50</td><td style=\"text-align: right;\">          0</td><td style=\"text-align: right;\">         0</td><td style=\"text-align: right;\">                   0</td><td style=\"text-align: right;\">           30.5</td><td style=\"text-align: right;\">             0.80057 </td></tr>\n",
              "<tr><td>2015-01-01 00:00:00</td><td>Quarter1 </td><td>sweing      </td><td>Thursday</td><td style=\"text-align: right;\">    12</td><td style=\"text-align: right;\">                   0.8 </td><td style=\"text-align: right;\">11.41</td><td style=\"text-align: right;\">  968</td><td style=\"text-align: right;\">       3660</td><td style=\"text-align: right;\">         50</td><td style=\"text-align: right;\">          0</td><td style=\"text-align: right;\">         0</td><td style=\"text-align: right;\">                   0</td><td style=\"text-align: right;\">           30.5</td><td style=\"text-align: right;\">             0.80057 </td></tr>\n",
              "<tr><td>2015-01-01 00:00:00</td><td>Quarter1 </td><td>sweing      </td><td>Thursday</td><td style=\"text-align: right;\">     6</td><td style=\"text-align: right;\">                   0.8 </td><td style=\"text-align: right;\">25.9 </td><td style=\"text-align: right;\"> 1170</td><td style=\"text-align: right;\">       1920</td><td style=\"text-align: right;\">         50</td><td style=\"text-align: right;\">          0</td><td style=\"text-align: right;\">         0</td><td style=\"text-align: right;\">                   0</td><td style=\"text-align: right;\">           56  </td><td style=\"text-align: right;\">             0.800382</td></tr>\n",
              "</tbody>\n",
              "</table>"
            ]
          },
          "metadata": {}
        },
        {
          "output_type": "execute_result",
          "data": {
            "text/plain": [
              ""
            ]
          },
          "metadata": {},
          "execution_count": 245
        }
      ],
      "source": [
        "df.head(5)"
      ]
    },
    {
      "cell_type": "markdown",
      "metadata": {
        "id": "ywi4p4FKa34r"
      },
      "source": [
        "<h3>Splitting the dataframe into Train and Test dataframes:</h3>"
      ]
    },
    {
      "cell_type": "code",
      "execution_count": 246,
      "metadata": {
        "id": "qOZZrxPiDEz8"
      },
      "outputs": [],
      "source": [
        "#Split the data by 80/20 for training and testing \n",
        "\n",
        "train, test = df.split_frame(ratios = [0.80])"
      ]
    },
    {
      "cell_type": "code",
      "execution_count": 247,
      "metadata": {
        "colab": {
          "base_uri": "https://localhost:8080/"
        },
        "id": "D9iflddIa34r",
        "outputId": "780388b4-7a5b-4964-aa3d-68f5d81f1c36"
      },
      "outputs": [
        {
          "output_type": "stream",
          "name": "stdout",
          "text": [
            "Dataset Shape:(1197, 15) ,Train Dataset Shape:(971, 15) , Test Dataset Shape: (226, 15)\n"
          ]
        }
      ],
      "source": [
        "print('Dataset Shape:{} ,Train Dataset Shape:{} , Test Dataset Shape: {}'.format(df.shape,train.shape,test.shape))"
      ]
    },
    {
      "cell_type": "code",
      "execution_count": 248,
      "metadata": {
        "colab": {
          "base_uri": "https://localhost:8080/"
        },
        "id": "Fci2_q7bG-0S",
        "outputId": "58feefb2-3e76-4f1a-8be9-508a135bfd99",
        "scrolled": true
      },
      "outputs": [
        {
          "output_type": "stream",
          "name": "stdout",
          "text": [
            "['date', 'quarter', 'department', 'day', 'team', 'targeted_productivity', 'smv', 'wip', 'over_time', 'incentive', 'idle_time', 'idle_men', 'no_of_style_change', 'no_of_workers', 'actual_productivity']\n"
          ]
        }
      ],
      "source": [
        "#Setting Features \n",
        "x = train.columns\n",
        "print(x)"
      ]
    },
    {
      "cell_type": "code",
      "execution_count": 249,
      "metadata": {
        "colab": {
          "base_uri": "https://localhost:8080/"
        },
        "id": "kgPaUsZJa34s",
        "outputId": "268ff4aa-62ae-49d7-f4a7-5790af495b65"
      },
      "outputs": [
        {
          "output_type": "stream",
          "name": "stdout",
          "text": [
            "['date', 'quarter', 'department', 'day', 'team', 'targeted_productivity', 'smv', 'wip', 'over_time', 'incentive', 'idle_time', 'idle_men', 'no_of_style_change', 'no_of_workers']\n"
          ]
        }
      ],
      "source": [
        "#Setting Targets\n",
        "\n",
        "y = 'actual_productivity'\n",
        "x.remove(y)\n",
        "print(x)"
      ]
    },
    {
      "cell_type": "code",
      "execution_count": 250,
      "metadata": {
        "id": "9V5u5nviL4Ou"
      },
      "outputs": [],
      "source": [
        "max_models = 20\n",
        "min_mem_size=6 \n",
        "run_time=222\n",
        "aml = H2OAutoML(max_runtime_secs=run_time, seed=1)\n"
      ]
    },
    {
      "cell_type": "markdown",
      "metadata": {
        "id": "2R3m3aQfa34s"
      },
      "source": [
        "<h3>Regression</h3>"
      ]
    },
    {
      "cell_type": "code",
      "execution_count": 251,
      "metadata": {
        "colab": {
          "base_uri": "https://localhost:8080/"
        },
        "id": "WOQs3JztPnCL",
        "outputId": "85f02d70-97a5-4367-df9c-4dbf925402eb"
      },
      "outputs": [
        {
          "output_type": "stream",
          "name": "stdout",
          "text": [
            "AutoML progress: |███████████████████████████████████████████████████████████████| (done) 100%\n",
            "\n",
            "04:21:42.149: GBM_lr_annealing_selection_AutoML_5_20220214_41756 [GBM lr_annealing] failed: water.exceptions.H2OIllegalArgumentException: Can only convert jobs producing a single Model or ModelContainer.\n",
            "\n",
            "Model Details\n",
            "=============\n",
            "H2OStackedEnsembleEstimator :  Stacked Ensemble\n",
            "Model Key:  StackedEnsemble_BestOfFamily_4_AutoML_5_20220214_41756\n",
            "\n",
            "No model summary for this model\n",
            "\n",
            "ModelMetricsRegressionGLM: stackedensemble\n",
            "** Reported on train data. **\n",
            "\n",
            "MSE: 0.003316650291787141\n",
            "RMSE: 0.05759036631058306\n",
            "MAE: 0.036564891357874926\n",
            "RMSLE: 0.03583510508838118\n",
            "R^2: 0.892387955673909\n",
            "Mean Residual Deviance: 0.003316650291787141\n",
            "Null degrees of freedom: 970\n",
            "Residual degrees of freedom: 966\n",
            "Null deviance: 29.926644861114188\n",
            "Residual deviance: 3.2204674333253136\n",
            "AIC: -2775.6661235024594\n",
            "\n",
            "ModelMetricsRegressionGLM: stackedensemble\n",
            "** Reported on cross-validation data. **\n",
            "\n",
            "MSE: 0.013640065828757085\n",
            "RMSE: 0.11679069238923573\n",
            "MAE: 0.07430524887961062\n",
            "RMSLE: 0.0720598615132891\n",
            "R^2: 0.5574343872763152\n",
            "Mean Residual Deviance: 0.013640065828757085\n",
            "Null degrees of freedom: 970\n",
            "Residual degrees of freedom: 964\n",
            "Null deviance: 29.985379970934652\n",
            "Residual deviance: 13.24450391972313\n",
            "AIC: -1398.6175987275064\n"
          ]
        },
        {
          "output_type": "execute_result",
          "data": {
            "text/plain": [
              ""
            ]
          },
          "metadata": {},
          "execution_count": 251
        }
      ],
      "source": [
        "aml.train(x=x,y=y, training_frame=train) "
      ]
    },
    {
      "cell_type": "code",
      "execution_count": 252,
      "metadata": {
        "id": "1d333pxaQSsH",
        "colab": {
          "base_uri": "https://localhost:8080/",
          "height": 267
        },
        "outputId": "89d1b540-fa4d-4ef0-8f1d-02bf525939a6"
      },
      "outputs": [
        {
          "output_type": "display_data",
          "data": {
            "text/html": [
              "<table>\n",
              "<thead>\n",
              "<tr><th>model_id                                              </th><th style=\"text-align: right;\">  mean_residual_deviance</th><th style=\"text-align: right;\">    rmse</th><th style=\"text-align: right;\">      mse</th><th style=\"text-align: right;\">      mae</th><th style=\"text-align: right;\">    rmsle</th></tr>\n",
              "</thead>\n",
              "<tbody>\n",
              "<tr><td>StackedEnsemble_BestOfFamily_4_AutoML_5_20220214_41756</td><td style=\"text-align: right;\">               0.0136401</td><td style=\"text-align: right;\">0.116791</td><td style=\"text-align: right;\">0.0136401</td><td style=\"text-align: right;\">0.0743052</td><td style=\"text-align: right;\">0.0720599</td></tr>\n",
              "<tr><td>StackedEnsemble_BestOfFamily_3_AutoML_5_20220214_41756</td><td style=\"text-align: right;\">               0.013689 </td><td style=\"text-align: right;\">0.117   </td><td style=\"text-align: right;\">0.013689 </td><td style=\"text-align: right;\">0.0745044</td><td style=\"text-align: right;\">0.0722237</td></tr>\n",
              "<tr><td>StackedEnsemble_AllModels_2_AutoML_5_20220214_41756   </td><td style=\"text-align: right;\">               0.0137652</td><td style=\"text-align: right;\">0.117325</td><td style=\"text-align: right;\">0.0137652</td><td style=\"text-align: right;\">0.0745843</td><td style=\"text-align: right;\">0.0723745</td></tr>\n",
              "<tr><td>StackedEnsemble_BestOfFamily_2_AutoML_5_20220214_41756</td><td style=\"text-align: right;\">               0.0138445</td><td style=\"text-align: right;\">0.117662</td><td style=\"text-align: right;\">0.0138445</td><td style=\"text-align: right;\">0.0748264</td><td style=\"text-align: right;\">0.0728341</td></tr>\n",
              "<tr><td>GBM_5_AutoML_5_20220214_41756                         </td><td style=\"text-align: right;\">               0.0138498</td><td style=\"text-align: right;\">0.117685</td><td style=\"text-align: right;\">0.0138498</td><td style=\"text-align: right;\">0.0752237</td><td style=\"text-align: right;\">0.0725213</td></tr>\n",
              "<tr><td>StackedEnsemble_AllModels_3_AutoML_5_20220214_41756   </td><td style=\"text-align: right;\">               0.0140596</td><td style=\"text-align: right;\">0.118573</td><td style=\"text-align: right;\">0.0140596</td><td style=\"text-align: right;\">0.0759781</td><td style=\"text-align: right;\">0.0734201</td></tr>\n",
              "<tr><td>StackedEnsemble_AllModels_1_AutoML_5_20220214_41756   </td><td style=\"text-align: right;\">               0.014099 </td><td style=\"text-align: right;\">0.118739</td><td style=\"text-align: right;\">0.014099 </td><td style=\"text-align: right;\">0.0754341</td><td style=\"text-align: right;\">0.0734346</td></tr>\n",
              "<tr><td>StackedEnsemble_AllModels_4_AutoML_5_20220214_41756   </td><td style=\"text-align: right;\">               0.0141006</td><td style=\"text-align: right;\">0.118746</td><td style=\"text-align: right;\">0.0141006</td><td style=\"text-align: right;\">0.076089 </td><td style=\"text-align: right;\">0.073532 </td></tr>\n",
              "<tr><td>DRF_1_AutoML_5_20220214_41756                         </td><td style=\"text-align: right;\">               0.0141626</td><td style=\"text-align: right;\">0.119007</td><td style=\"text-align: right;\">0.0141626</td><td style=\"text-align: right;\">0.0765129</td><td style=\"text-align: right;\">0.0738027</td></tr>\n",
              "<tr><td>GBM_grid_1_AutoML_5_20220214_41756_model_2            </td><td style=\"text-align: right;\">               0.0142602</td><td style=\"text-align: right;\">0.119416</td><td style=\"text-align: right;\">0.0142602</td><td style=\"text-align: right;\">0.0776241</td><td style=\"text-align: right;\">0.0737398</td></tr>\n",
              "</tbody>\n",
              "</table>"
            ]
          },
          "metadata": {}
        },
        {
          "output_type": "stream",
          "name": "stdout",
          "text": [
            "\n"
          ]
        }
      ],
      "source": [
        "#Checking model-wise accuracy \n",
        "\n",
        "print(aml.leaderboard)"
      ]
    },
    {
      "cell_type": "code",
      "execution_count": 253,
      "metadata": {
        "colab": {
          "base_uri": "https://localhost:8080/"
        },
        "id": "-lQgptfUa34t",
        "outputId": "c0b71d30-9416-4526-9051-61baa223767e"
      },
      "outputs": [
        {
          "output_type": "stream",
          "name": "stdout",
          "text": [
            "Model Details\n",
            "=============\n",
            "H2OStackedEnsembleEstimator :  Stacked Ensemble\n",
            "Model Key:  StackedEnsemble_BestOfFamily_4_AutoML_5_20220214_41756\n",
            "\n",
            "No model summary for this model\n",
            "\n",
            "ModelMetricsRegressionGLM: stackedensemble\n",
            "** Reported on train data. **\n",
            "\n",
            "MSE: 0.003316650291787141\n",
            "RMSE: 0.05759036631058306\n",
            "MAE: 0.036564891357874926\n",
            "RMSLE: 0.03583510508838118\n",
            "R^2: 0.892387955673909\n",
            "Mean Residual Deviance: 0.003316650291787141\n",
            "Null degrees of freedom: 970\n",
            "Residual degrees of freedom: 966\n",
            "Null deviance: 29.926644861114188\n",
            "Residual deviance: 3.2204674333253136\n",
            "AIC: -2775.6661235024594\n",
            "\n",
            "ModelMetricsRegressionGLM: stackedensemble\n",
            "** Reported on cross-validation data. **\n",
            "\n",
            "MSE: 0.013640065828757085\n",
            "RMSE: 0.11679069238923573\n",
            "MAE: 0.07430524887961062\n",
            "RMSLE: 0.0720598615132891\n",
            "R^2: 0.5574343872763152\n",
            "Mean Residual Deviance: 0.013640065828757085\n",
            "Null degrees of freedom: 970\n",
            "Residual degrees of freedom: 964\n",
            "Null deviance: 29.985379970934652\n",
            "Residual deviance: 13.24450391972313\n",
            "AIC: -1398.6175987275064\n",
            "\n"
          ]
        }
      ],
      "source": [
        "print(aml.leader)"
      ]
    },
    {
      "cell_type": "markdown",
      "source": [
        "**RMSE Comparison and Understanding the Leaderboard:**"
      ],
      "metadata": {
        "id": "VEOkDpM7d5b8"
      }
    },
    {
      "cell_type": "code",
      "source": [
        "model_index=0\n",
        "glm_index=0\n",
        "glm_model=''\n",
        "aml_leaderboard_df=aml.leaderboard.as_data_frame()\n",
        "models_dict={}\n",
        "for m in aml_leaderboard_df['model_id']:\n",
        "  models_dict[m]=model_index\n",
        "  if 'StackedEnsemble' not in m:\n",
        "    break \n",
        "  model_index=model_index+1  \n",
        "\n",
        "for m in aml_leaderboard_df['model_id']:\n",
        "  if 'GLM' in m:\n",
        "    models_dict[m]=glm_index\n",
        "    break  \n",
        "  glm_index=glm_index+1     \n",
        "models_dict"
      ],
      "metadata": {
        "colab": {
          "base_uri": "https://localhost:8080/"
        },
        "id": "gt4c9-eVd4WH",
        "outputId": "b4e8025e-1f1f-4b77-e1d4-e7e9446fb496"
      },
      "execution_count": 271,
      "outputs": [
        {
          "output_type": "execute_result",
          "data": {
            "text/plain": [
              "{'GBM_5_AutoML_5_20220214_41756': 4,\n",
              " 'GLM_1_AutoML_5_20220214_41756': 67,\n",
              " 'StackedEnsemble_AllModels_2_AutoML_5_20220214_41756': 2,\n",
              " 'StackedEnsemble_BestOfFamily_2_AutoML_5_20220214_41756': 3,\n",
              " 'StackedEnsemble_BestOfFamily_3_AutoML_5_20220214_41756': 1,\n",
              " 'StackedEnsemble_BestOfFamily_4_AutoML_5_20220214_41756': 0}"
            ]
          },
          "metadata": {},
          "execution_count": 271
        }
      ]
    },
    {
      "cell_type": "markdown",
      "source": [
        "**Examining the Best Model:**"
      ],
      "metadata": {
        "id": "JVOnCryqePLh"
      }
    },
    {
      "cell_type": "code",
      "execution_count": 272,
      "metadata": {
        "id": "eiUW8Puga34t",
        "colab": {
          "base_uri": "https://localhost:8080/"
        },
        "outputId": "2ab06196-6c32-4f48-c368-3111ffd0e36d"
      },
      "outputs": [
        {
          "output_type": "stream",
          "name": "stdout",
          "text": [
            "4\n"
          ]
        }
      ],
      "source": [
        "print(model_index)\n",
        "best_model = h2o.get_model(aml.leaderboard[model_index,'model_id'])"
      ]
    },
    {
      "cell_type": "code",
      "execution_count": 273,
      "metadata": {
        "colab": {
          "base_uri": "https://localhost:8080/",
          "height": 37
        },
        "id": "4bqdsIYNa34u",
        "outputId": "507a7f3f-d254-47a7-a84d-a833f36db20a"
      },
      "outputs": [
        {
          "output_type": "execute_result",
          "data": {
            "application/vnd.google.colaboratory.intrinsic+json": {
              "type": "string"
            },
            "text/plain": [
              "'gbm'"
            ]
          },
          "metadata": {},
          "execution_count": 273
        }
      ],
      "source": [
        "best_model.algo"
      ]
    },
    {
      "cell_type": "code",
      "execution_count": 256,
      "metadata": {
        "colab": {
          "base_uri": "https://localhost:8080/",
          "height": 37
        },
        "id": "87gSWuO9a34u",
        "outputId": "5e8f65b4-4586-40b3-e5b9-08eb1e004b1a"
      },
      "outputs": [
        {
          "output_type": "execute_result",
          "data": {
            "application/vnd.google.colaboratory.intrinsic+json": {
              "type": "string"
            },
            "text/plain": [
              "'gbm'"
            ]
          },
          "metadata": {},
          "execution_count": 256
        }
      ],
      "source": [
        "best_model.algo"
      ]
    },
    {
      "cell_type": "code",
      "execution_count": 275,
      "metadata": {
        "id": "vKxFMxAva34u"
      },
      "outputs": [],
      "source": [
        "import matplotlib.pyplot as plt\n",
        "%matplotlib inline\n",
        "\n",
        "import warnings\n",
        "import matplotlib.cbook\n",
        "warnings.filterwarnings(\"ignore\", category = matplotlib.cbook.mplDeprecation)"
      ]
    },
    {
      "cell_type": "markdown",
      "source": [
        "**Partail Dependence Plots:**"
      ],
      "metadata": {
        "id": "-8hGy6qVfuID"
      }
    },
    {
      "cell_type": "code",
      "execution_count": 265,
      "metadata": {
        "colab": {
          "base_uri": "https://localhost:8080/",
          "height": 1000
        },
        "id": "XDSUE1PLa34y",
        "outputId": "7bd096bf-f4d3-499f-d8bb-4a4a10d0bb19"
      },
      "outputs": [
        {
          "output_type": "stream",
          "name": "stdout",
          "text": [
            "PartialDependencePlot progress: |████████████████████████████████████████████████| (done) 100%\n",
            "\n",
            "PartialDependence: Partial Dependence Plot of model GBM_5_AutoML_5_20220214_41756 on column 'targeted_productivity'.\n"
          ]
        },
        {
          "output_type": "display_data",
          "data": {
            "text/html": [
              "\n",
              "  <div id=\"df-fdedb89a-70f7-44f3-ae3a-8cf765478a66\">\n",
              "    <div class=\"colab-df-container\">\n",
              "      <div>\n",
              "<style scoped>\n",
              "    .dataframe tbody tr th:only-of-type {\n",
              "        vertical-align: middle;\n",
              "    }\n",
              "\n",
              "    .dataframe tbody tr th {\n",
              "        vertical-align: top;\n",
              "    }\n",
              "\n",
              "    .dataframe thead th {\n",
              "        text-align: right;\n",
              "    }\n",
              "</style>\n",
              "<table border=\"1\" class=\"dataframe\">\n",
              "  <thead>\n",
              "    <tr style=\"text-align: right;\">\n",
              "      <th></th>\n",
              "      <th>targeted_productivity</th>\n",
              "      <th>mean_response</th>\n",
              "      <th>stddev_response</th>\n",
              "      <th>std_error_mean_response</th>\n",
              "    </tr>\n",
              "  </thead>\n",
              "  <tbody>\n",
              "    <tr>\n",
              "      <th>0</th>\n",
              "      <td>0.070000</td>\n",
              "      <td>0.587996</td>\n",
              "      <td>0.127120</td>\n",
              "      <td>0.003674</td>\n",
              "    </tr>\n",
              "    <tr>\n",
              "      <th>1</th>\n",
              "      <td>0.108421</td>\n",
              "      <td>0.587996</td>\n",
              "      <td>0.127120</td>\n",
              "      <td>0.003674</td>\n",
              "    </tr>\n",
              "    <tr>\n",
              "      <th>2</th>\n",
              "      <td>0.146842</td>\n",
              "      <td>0.587996</td>\n",
              "      <td>0.127120</td>\n",
              "      <td>0.003674</td>\n",
              "    </tr>\n",
              "    <tr>\n",
              "      <th>3</th>\n",
              "      <td>0.185263</td>\n",
              "      <td>0.587996</td>\n",
              "      <td>0.127120</td>\n",
              "      <td>0.003674</td>\n",
              "    </tr>\n",
              "    <tr>\n",
              "      <th>4</th>\n",
              "      <td>0.223684</td>\n",
              "      <td>0.576062</td>\n",
              "      <td>0.135877</td>\n",
              "      <td>0.003927</td>\n",
              "    </tr>\n",
              "    <tr>\n",
              "      <th>5</th>\n",
              "      <td>0.262105</td>\n",
              "      <td>0.576062</td>\n",
              "      <td>0.135877</td>\n",
              "      <td>0.003927</td>\n",
              "    </tr>\n",
              "    <tr>\n",
              "      <th>6</th>\n",
              "      <td>0.300526</td>\n",
              "      <td>0.576062</td>\n",
              "      <td>0.135877</td>\n",
              "      <td>0.003927</td>\n",
              "    </tr>\n",
              "    <tr>\n",
              "      <th>7</th>\n",
              "      <td>0.338947</td>\n",
              "      <td>0.576062</td>\n",
              "      <td>0.135877</td>\n",
              "      <td>0.003927</td>\n",
              "    </tr>\n",
              "    <tr>\n",
              "      <th>8</th>\n",
              "      <td>0.377368</td>\n",
              "      <td>0.574097</td>\n",
              "      <td>0.132637</td>\n",
              "      <td>0.003834</td>\n",
              "    </tr>\n",
              "    <tr>\n",
              "      <th>9</th>\n",
              "      <td>0.415789</td>\n",
              "      <td>0.574905</td>\n",
              "      <td>0.132626</td>\n",
              "      <td>0.003833</td>\n",
              "    </tr>\n",
              "    <tr>\n",
              "      <th>10</th>\n",
              "      <td>0.454211</td>\n",
              "      <td>0.616175</td>\n",
              "      <td>0.114038</td>\n",
              "      <td>0.003296</td>\n",
              "    </tr>\n",
              "    <tr>\n",
              "      <th>11</th>\n",
              "      <td>0.492632</td>\n",
              "      <td>0.616106</td>\n",
              "      <td>0.113952</td>\n",
              "      <td>0.003294</td>\n",
              "    </tr>\n",
              "    <tr>\n",
              "      <th>12</th>\n",
              "      <td>0.531053</td>\n",
              "      <td>0.616155</td>\n",
              "      <td>0.113878</td>\n",
              "      <td>0.003291</td>\n",
              "    </tr>\n",
              "    <tr>\n",
              "      <th>13</th>\n",
              "      <td>0.569474</td>\n",
              "      <td>0.640417</td>\n",
              "      <td>0.110721</td>\n",
              "      <td>0.003200</td>\n",
              "    </tr>\n",
              "    <tr>\n",
              "      <th>14</th>\n",
              "      <td>0.607895</td>\n",
              "      <td>0.642159</td>\n",
              "      <td>0.110707</td>\n",
              "      <td>0.003200</td>\n",
              "    </tr>\n",
              "    <tr>\n",
              "      <th>15</th>\n",
              "      <td>0.646316</td>\n",
              "      <td>0.684296</td>\n",
              "      <td>0.099812</td>\n",
              "      <td>0.002885</td>\n",
              "    </tr>\n",
              "    <tr>\n",
              "      <th>16</th>\n",
              "      <td>0.684737</td>\n",
              "      <td>0.702550</td>\n",
              "      <td>0.098480</td>\n",
              "      <td>0.002846</td>\n",
              "    </tr>\n",
              "    <tr>\n",
              "      <th>17</th>\n",
              "      <td>0.723158</td>\n",
              "      <td>0.703188</td>\n",
              "      <td>0.097972</td>\n",
              "      <td>0.002832</td>\n",
              "    </tr>\n",
              "    <tr>\n",
              "      <th>18</th>\n",
              "      <td>0.761579</td>\n",
              "      <td>0.754171</td>\n",
              "      <td>0.101131</td>\n",
              "      <td>0.002923</td>\n",
              "    </tr>\n",
              "    <tr>\n",
              "      <th>19</th>\n",
              "      <td>0.800000</td>\n",
              "      <td>0.771241</td>\n",
              "      <td>0.104704</td>\n",
              "      <td>0.003026</td>\n",
              "    </tr>\n",
              "  </tbody>\n",
              "</table>\n",
              "</div>\n",
              "      <button class=\"colab-df-convert\" onclick=\"convertToInteractive('df-fdedb89a-70f7-44f3-ae3a-8cf765478a66')\"\n",
              "              title=\"Convert this dataframe to an interactive table.\"\n",
              "              style=\"display:none;\">\n",
              "        \n",
              "  <svg xmlns=\"http://www.w3.org/2000/svg\" height=\"24px\"viewBox=\"0 0 24 24\"\n",
              "       width=\"24px\">\n",
              "    <path d=\"M0 0h24v24H0V0z\" fill=\"none\"/>\n",
              "    <path d=\"M18.56 5.44l.94 2.06.94-2.06 2.06-.94-2.06-.94-.94-2.06-.94 2.06-2.06.94zm-11 1L8.5 8.5l.94-2.06 2.06-.94-2.06-.94L8.5 2.5l-.94 2.06-2.06.94zm10 10l.94 2.06.94-2.06 2.06-.94-2.06-.94-.94-2.06-.94 2.06-2.06.94z\"/><path d=\"M17.41 7.96l-1.37-1.37c-.4-.4-.92-.59-1.43-.59-.52 0-1.04.2-1.43.59L10.3 9.45l-7.72 7.72c-.78.78-.78 2.05 0 2.83L4 21.41c.39.39.9.59 1.41.59.51 0 1.02-.2 1.41-.59l7.78-7.78 2.81-2.81c.8-.78.8-2.07 0-2.86zM5.41 20L4 18.59l7.72-7.72 1.47 1.35L5.41 20z\"/>\n",
              "  </svg>\n",
              "      </button>\n",
              "      \n",
              "  <style>\n",
              "    .colab-df-container {\n",
              "      display:flex;\n",
              "      flex-wrap:wrap;\n",
              "      gap: 12px;\n",
              "    }\n",
              "\n",
              "    .colab-df-convert {\n",
              "      background-color: #E8F0FE;\n",
              "      border: none;\n",
              "      border-radius: 50%;\n",
              "      cursor: pointer;\n",
              "      display: none;\n",
              "      fill: #1967D2;\n",
              "      height: 32px;\n",
              "      padding: 0 0 0 0;\n",
              "      width: 32px;\n",
              "    }\n",
              "\n",
              "    .colab-df-convert:hover {\n",
              "      background-color: #E2EBFA;\n",
              "      box-shadow: 0px 1px 2px rgba(60, 64, 67, 0.3), 0px 1px 3px 1px rgba(60, 64, 67, 0.15);\n",
              "      fill: #174EA6;\n",
              "    }\n",
              "\n",
              "    [theme=dark] .colab-df-convert {\n",
              "      background-color: #3B4455;\n",
              "      fill: #D2E3FC;\n",
              "    }\n",
              "\n",
              "    [theme=dark] .colab-df-convert:hover {\n",
              "      background-color: #434B5C;\n",
              "      box-shadow: 0px 1px 3px 1px rgba(0, 0, 0, 0.15);\n",
              "      filter: drop-shadow(0px 1px 2px rgba(0, 0, 0, 0.3));\n",
              "      fill: #FFFFFF;\n",
              "    }\n",
              "  </style>\n",
              "\n",
              "      <script>\n",
              "        const buttonEl =\n",
              "          document.querySelector('#df-fdedb89a-70f7-44f3-ae3a-8cf765478a66 button.colab-df-convert');\n",
              "        buttonEl.style.display =\n",
              "          google.colab.kernel.accessAllowed ? 'block' : 'none';\n",
              "\n",
              "        async function convertToInteractive(key) {\n",
              "          const element = document.querySelector('#df-fdedb89a-70f7-44f3-ae3a-8cf765478a66');\n",
              "          const dataTable =\n",
              "            await google.colab.kernel.invokeFunction('convertToInteractive',\n",
              "                                                     [key], {});\n",
              "          if (!dataTable) return;\n",
              "\n",
              "          const docLinkHtml = 'Like what you see? Visit the ' +\n",
              "            '<a target=\"_blank\" href=https://colab.research.google.com/notebooks/data_table.ipynb>data table notebook</a>'\n",
              "            + ' to learn more about interactive tables.';\n",
              "          element.innerHTML = '';\n",
              "          dataTable['output_type'] = 'display_data';\n",
              "          await google.colab.output.renderOutput(dataTable, element);\n",
              "          const docLink = document.createElement('div');\n",
              "          docLink.innerHTML = docLinkHtml;\n",
              "          element.appendChild(docLink);\n",
              "        }\n",
              "      </script>\n",
              "    </div>\n",
              "  </div>\n",
              "  "
            ],
            "text/plain": [
              "    targeted_productivity  ...  std_error_mean_response\n",
              "0                0.070000  ...                 0.003674\n",
              "1                0.108421  ...                 0.003674\n",
              "2                0.146842  ...                 0.003674\n",
              "3                0.185263  ...                 0.003674\n",
              "4                0.223684  ...                 0.003927\n",
              "5                0.262105  ...                 0.003927\n",
              "6                0.300526  ...                 0.003927\n",
              "7                0.338947  ...                 0.003927\n",
              "8                0.377368  ...                 0.003834\n",
              "9                0.415789  ...                 0.003833\n",
              "10               0.454211  ...                 0.003296\n",
              "11               0.492632  ...                 0.003294\n",
              "12               0.531053  ...                 0.003291\n",
              "13               0.569474  ...                 0.003200\n",
              "14               0.607895  ...                 0.003200\n",
              "15               0.646316  ...                 0.002885\n",
              "16               0.684737  ...                 0.002846\n",
              "17               0.723158  ...                 0.002832\n",
              "18               0.761579  ...                 0.002923\n",
              "19               0.800000  ...                 0.003026\n",
              "\n",
              "[20 rows x 4 columns]"
            ]
          },
          "metadata": {}
        },
        {
          "output_type": "execute_result",
          "data": {
            "text/plain": [
              "[]"
            ]
          },
          "metadata": {},
          "execution_count": 265
        },
        {
          "output_type": "display_data",
          "data": {
            "image/png": "[encoded data removed]",
            "text/plain": [
              "<Figure size 504x720 with 1 Axes>"
            ]
          },
          "metadata": {
            "needs_background": "light"
          }
        }
      ],
      "source": [
        "best_model.partial_plot(df, cols=['targeted_productivity'])"
      ]
    },
    {
      "cell_type": "code",
      "source": [
        "if glm_index is not 0:\n",
        "  print(glm_index)\n",
        "  glm_model=h2o.get_model(aml.leaderboard[glm_index,'model_id'])\n",
        "  print(glm_model.algo) \n",
        "  glm_model.std_coef_plot()"
      ],
      "metadata": {
        "colab": {
          "base_uri": "https://localhost:8080/",
          "height": 646
        },
        "id": "A9LusWsNf7lA",
        "outputId": "270a16ea-92d7-4ae1-f8fc-ba7fdc93b188"
      },
      "execution_count": 281,
      "outputs": [
        {
          "output_type": "stream",
          "name": "stdout",
          "text": [
            "67\n",
            "glm\n"
          ]
        },
        {
          "output_type": "display_data",
          "data": {
            "image/png": "[encoded data removed]",
            "text/plain": [
              "<Figure size 1008x720 with 1 Axes>"
            ]
          },
          "metadata": {
            "needs_background": "light"
          }
        }
      ]
    },
    {
      "cell_type": "code",
      "execution_count": 276,
      "metadata": {
        "colab": {
          "base_uri": "https://localhost:8080/"
        },
        "id": "EATQYDf-a34w",
        "outputId": "26d0d8ab-47cd-4d67-d410-47df6e1235d2"
      },
      "outputs": [
        {
          "output_type": "stream",
          "name": "stdout",
          "text": [
            "0.06699101396601273\n"
          ]
        }
      ],
      "source": [
        "# Best model rmse\n",
        "print(best_model.rmse(train = True))\n"
      ]
    },
    {
      "cell_type": "code",
      "execution_count": 277,
      "metadata": {
        "colab": {
          "base_uri": "https://localhost:8080/"
        },
        "id": "LWI3x587a34x",
        "outputId": "448a5b13-9f9f-4df0-97c3-17229998fb9c"
      },
      "outputs": [
        {
          "output_type": "stream",
          "name": "stdout",
          "text": [
            "gbm prediction progress: |███████████████████████████████████████████████████████| (done) 100%\n"
          ]
        }
      ],
      "source": [
        "# Fitting the best model for predictions\n",
        "\n",
        "predictions = best_model.predict(test)"
      ]
    },
    {
      "cell_type": "code",
      "execution_count": 278,
      "metadata": {
        "colab": {
          "base_uri": "https://localhost:8080/",
          "height": 204
        },
        "id": "5l5Bdedea34x",
        "outputId": "76d91777-79e4-4134-8180-a422e8197296"
      },
      "outputs": [
        {
          "output_type": "execute_result",
          "data": {
            "text/html": [
              "\n",
              "  <div id=\"df-039e2b00-3b7d-4ecc-a6e6-9d99fdbfca28\">\n",
              "    <div class=\"colab-df-container\">\n",
              "      <div>\n",
              "<style scoped>\n",
              "    .dataframe tbody tr th:only-of-type {\n",
              "        vertical-align: middle;\n",
              "    }\n",
              "\n",
              "    .dataframe tbody tr th {\n",
              "        vertical-align: top;\n",
              "    }\n",
              "\n",
              "    .dataframe thead th {\n",
              "        text-align: right;\n",
              "    }\n",
              "</style>\n",
              "<table border=\"1\" class=\"dataframe\">\n",
              "  <thead>\n",
              "    <tr style=\"text-align: right;\">\n",
              "      <th></th>\n",
              "      <th>predict</th>\n",
              "    </tr>\n",
              "  </thead>\n",
              "  <tbody>\n",
              "    <tr>\n",
              "      <th>0</th>\n",
              "      <td>0.800978</td>\n",
              "    </tr>\n",
              "    <tr>\n",
              "      <th>1</th>\n",
              "      <td>0.813602</td>\n",
              "    </tr>\n",
              "    <tr>\n",
              "      <th>2</th>\n",
              "      <td>0.745908</td>\n",
              "    </tr>\n",
              "    <tr>\n",
              "      <th>3</th>\n",
              "      <td>0.604298</td>\n",
              "    </tr>\n",
              "    <tr>\n",
              "      <th>4</th>\n",
              "      <td>0.684270</td>\n",
              "    </tr>\n",
              "  </tbody>\n",
              "</table>\n",
              "</div>\n",
              "      <button class=\"colab-df-convert\" onclick=\"convertToInteractive('df-039e2b00-3b7d-4ecc-a6e6-9d99fdbfca28')\"\n",
              "              title=\"Convert this dataframe to an interactive table.\"\n",
              "              style=\"display:none;\">\n",
              "        \n",
              "  <svg xmlns=\"http://www.w3.org/2000/svg\" height=\"24px\"viewBox=\"0 0 24 24\"\n",
              "       width=\"24px\">\n",
              "    <path d=\"M0 0h24v24H0V0z\" fill=\"none\"/>\n",
              "    <path d=\"M18.56 5.44l.94 2.06.94-2.06 2.06-.94-2.06-.94-.94-2.06-.94 2.06-2.06.94zm-11 1L8.5 8.5l.94-2.06 2.06-.94-2.06-.94L8.5 2.5l-.94 2.06-2.06.94zm10 10l.94 2.06.94-2.06 2.06-.94-2.06-.94-.94-2.06-.94 2.06-2.06.94z\"/><path d=\"M17.41 7.96l-1.37-1.37c-.4-.4-.92-.59-1.43-.59-.52 0-1.04.2-1.43.59L10.3 9.45l-7.72 7.72c-.78.78-.78 2.05 0 2.83L4 21.41c.39.39.9.59 1.41.59.51 0 1.02-.2 1.41-.59l7.78-7.78 2.81-2.81c.8-.78.8-2.07 0-2.86zM5.41 20L4 18.59l7.72-7.72 1.47 1.35L5.41 20z\"/>\n",
              "  </svg>\n",
              "      </button>\n",
              "      \n",
              "  <style>\n",
              "    .colab-df-container {\n",
              "      display:flex;\n",
              "      flex-wrap:wrap;\n",
              "      gap: 12px;\n",
              "    }\n",
              "\n",
              "    .colab-df-convert {\n",
              "      background-color: #E8F0FE;\n",
              "      border: none;\n",
              "      border-radius: 50%;\n",
              "      cursor: pointer;\n",
              "      display: none;\n",
              "      fill: #1967D2;\n",
              "      height: 32px;\n",
              "      padding: 0 0 0 0;\n",
              "      width: 32px;\n",
              "    }\n",
              "\n",
              "    .colab-df-convert:hover {\n",
              "      background-color: #E2EBFA;\n",
              "      box-shadow: 0px 1px 2px rgba(60, 64, 67, 0.3), 0px 1px 3px 1px rgba(60, 64, 67, 0.15);\n",
              "      fill: #174EA6;\n",
              "    }\n",
              "\n",
              "    [theme=dark] .colab-df-convert {\n",
              "      background-color: #3B4455;\n",
              "      fill: #D2E3FC;\n",
              "    }\n",
              "\n",
              "    [theme=dark] .colab-df-convert:hover {\n",
              "      background-color: #434B5C;\n",
              "      box-shadow: 0px 1px 3px 1px rgba(0, 0, 0, 0.15);\n",
              "      filter: drop-shadow(0px 1px 2px rgba(0, 0, 0, 0.3));\n",
              "      fill: #FFFFFF;\n",
              "    }\n",
              "  </style>\n",
              "\n",
              "      <script>\n",
              "        const buttonEl =\n",
              "          document.querySelector('#df-039e2b00-3b7d-4ecc-a6e6-9d99fdbfca28 button.colab-df-convert');\n",
              "        buttonEl.style.display =\n",
              "          google.colab.kernel.accessAllowed ? 'block' : 'none';\n",
              "\n",
              "        async function convertToInteractive(key) {\n",
              "          const element = document.querySelector('#df-039e2b00-3b7d-4ecc-a6e6-9d99fdbfca28');\n",
              "          const dataTable =\n",
              "            await google.colab.kernel.invokeFunction('convertToInteractive',\n",
              "                                                     [key], {});\n",
              "          if (!dataTable) return;\n",
              "\n",
              "          const docLinkHtml = 'Like what you see? Visit the ' +\n",
              "            '<a target=\"_blank\" href=https://colab.research.google.com/notebooks/data_table.ipynb>data table notebook</a>'\n",
              "            + ' to learn more about interactive tables.';\n",
              "          element.innerHTML = '';\n",
              "          dataTable['output_type'] = 'display_data';\n",
              "          await google.colab.output.renderOutput(dataTable, element);\n",
              "          const docLink = document.createElement('div');\n",
              "          docLink.innerHTML = docLinkHtml;\n",
              "          element.appendChild(docLink);\n",
              "        }\n",
              "      </script>\n",
              "    </div>\n",
              "  </div>\n",
              "  "
            ],
            "text/plain": [
              "    predict\n",
              "0  0.800978\n",
              "1  0.813602\n",
              "2  0.745908\n",
              "3  0.604298\n",
              "4  0.684270"
            ]
          },
          "metadata": {},
          "execution_count": 278
        }
      ],
      "source": [
        "y_pred=h2o.as_list(predictions)\n",
        "y_pred = pd.DataFrame(y_pred)\n",
        "y_pred[0:5]\n"
      ]
    },
    {
      "cell_type": "code",
      "execution_count": 279,
      "metadata": {
        "id": "7TXcSv5ka34x",
        "colab": {
          "base_uri": "https://localhost:8080/",
          "height": 204
        },
        "outputId": "3706fda1-13d8-43b1-cf3e-b59af54b3c22"
      },
      "outputs": [
        {
          "output_type": "execute_result",
          "data": {
            "text/html": [
              "\n",
              "  <div id=\"df-496c4350-8201-4b5b-b5e1-981c11e1b25e\">\n",
              "    <div class=\"colab-df-container\">\n",
              "      <div>\n",
              "<style scoped>\n",
              "    .dataframe tbody tr th:only-of-type {\n",
              "        vertical-align: middle;\n",
              "    }\n",
              "\n",
              "    .dataframe tbody tr th {\n",
              "        vertical-align: top;\n",
              "    }\n",
              "\n",
              "    .dataframe thead th {\n",
              "        text-align: right;\n",
              "    }\n",
              "</style>\n",
              "<table border=\"1\" class=\"dataframe\">\n",
              "  <thead>\n",
              "    <tr style=\"text-align: right;\">\n",
              "      <th></th>\n",
              "      <th>targeted_productivity</th>\n",
              "      <th>predict</th>\n",
              "    </tr>\n",
              "  </thead>\n",
              "  <tbody>\n",
              "    <tr>\n",
              "      <th>0</th>\n",
              "      <td>0.80</td>\n",
              "      <td>0.800978</td>\n",
              "    </tr>\n",
              "    <tr>\n",
              "      <th>1</th>\n",
              "      <td>0.75</td>\n",
              "      <td>0.813602</td>\n",
              "    </tr>\n",
              "    <tr>\n",
              "      <th>2</th>\n",
              "      <td>0.80</td>\n",
              "      <td>0.745908</td>\n",
              "    </tr>\n",
              "    <tr>\n",
              "      <th>3</th>\n",
              "      <td>0.80</td>\n",
              "      <td>0.604298</td>\n",
              "    </tr>\n",
              "    <tr>\n",
              "      <th>4</th>\n",
              "      <td>0.75</td>\n",
              "      <td>0.684270</td>\n",
              "    </tr>\n",
              "  </tbody>\n",
              "</table>\n",
              "</div>\n",
              "      <button class=\"colab-df-convert\" onclick=\"convertToInteractive('df-496c4350-8201-4b5b-b5e1-981c11e1b25e')\"\n",
              "              title=\"Convert this dataframe to an interactive table.\"\n",
              "              style=\"display:none;\">\n",
              "        \n",
              "  <svg xmlns=\"http://www.w3.org/2000/svg\" height=\"24px\"viewBox=\"0 0 24 24\"\n",
              "       width=\"24px\">\n",
              "    <path d=\"M0 0h24v24H0V0z\" fill=\"none\"/>\n",
              "    <path d=\"M18.56 5.44l.94 2.06.94-2.06 2.06-.94-2.06-.94-.94-2.06-.94 2.06-2.06.94zm-11 1L8.5 8.5l.94-2.06 2.06-.94-2.06-.94L8.5 2.5l-.94 2.06-2.06.94zm10 10l.94 2.06.94-2.06 2.06-.94-2.06-.94-.94-2.06-.94 2.06-2.06.94z\"/><path d=\"M17.41 7.96l-1.37-1.37c-.4-.4-.92-.59-1.43-.59-.52 0-1.04.2-1.43.59L10.3 9.45l-7.72 7.72c-.78.78-.78 2.05 0 2.83L4 21.41c.39.39.9.59 1.41.59.51 0 1.02-.2 1.41-.59l7.78-7.78 2.81-2.81c.8-.78.8-2.07 0-2.86zM5.41 20L4 18.59l7.72-7.72 1.47 1.35L5.41 20z\"/>\n",
              "  </svg>\n",
              "      </button>\n",
              "      \n",
              "  <style>\n",
              "    .colab-df-container {\n",
              "      display:flex;\n",
              "      flex-wrap:wrap;\n",
              "      gap: 12px;\n",
              "    }\n",
              "\n",
              "    .colab-df-convert {\n",
              "      background-color: #E8F0FE;\n",
              "      border: none;\n",
              "      border-radius: 50%;\n",
              "      cursor: pointer;\n",
              "      display: none;\n",
              "      fill: #1967D2;\n",
              "      height: 32px;\n",
              "      padding: 0 0 0 0;\n",
              "      width: 32px;\n",
              "    }\n",
              "\n",
              "    .colab-df-convert:hover {\n",
              "      background-color: #E2EBFA;\n",
              "      box-shadow: 0px 1px 2px rgba(60, 64, 67, 0.3), 0px 1px 3px 1px rgba(60, 64, 67, 0.15);\n",
              "      fill: #174EA6;\n",
              "    }\n",
              "\n",
              "    [theme=dark] .colab-df-convert {\n",
              "      background-color: #3B4455;\n",
              "      fill: #D2E3FC;\n",
              "    }\n",
              "\n",
              "    [theme=dark] .colab-df-convert:hover {\n",
              "      background-color: #434B5C;\n",
              "      box-shadow: 0px 1px 3px 1px rgba(0, 0, 0, 0.15);\n",
              "      filter: drop-shadow(0px 1px 2px rgba(0, 0, 0, 0.3));\n",
              "      fill: #FFFFFF;\n",
              "    }\n",
              "  </style>\n",
              "\n",
              "      <script>\n",
              "        const buttonEl =\n",
              "          document.querySelector('#df-496c4350-8201-4b5b-b5e1-981c11e1b25e button.colab-df-convert');\n",
              "        buttonEl.style.display =\n",
              "          google.colab.kernel.accessAllowed ? 'block' : 'none';\n",
              "\n",
              "        async function convertToInteractive(key) {\n",
              "          const element = document.querySelector('#df-496c4350-8201-4b5b-b5e1-981c11e1b25e');\n",
              "          const dataTable =\n",
              "            await google.colab.kernel.invokeFunction('convertToInteractive',\n",
              "                                                     [key], {});\n",
              "          if (!dataTable) return;\n",
              "\n",
              "          const docLinkHtml = 'Like what you see? Visit the ' +\n",
              "            '<a target=\"_blank\" href=https://colab.research.google.com/notebooks/data_table.ipynb>data table notebook</a>'\n",
              "            + ' to learn more about interactive tables.';\n",
              "          element.innerHTML = '';\n",
              "          dataTable['output_type'] = 'display_data';\n",
              "          await google.colab.output.renderOutput(dataTable, element);\n",
              "          const docLink = document.createElement('div');\n",
              "          docLink.innerHTML = docLinkHtml;\n",
              "          element.appendChild(docLink);\n",
              "        }\n",
              "      </script>\n",
              "    </div>\n",
              "  </div>\n",
              "  "
            ],
            "text/plain": [
              "   targeted_productivity   predict\n",
              "0                   0.80  0.800978\n",
              "1                   0.75  0.813602\n",
              "2                   0.80  0.745908\n",
              "3                   0.80  0.604298\n",
              "4                   0.75  0.684270"
            ]
          },
          "metadata": {},
          "execution_count": 279
        }
      ],
      "source": [
        "# #Checking for fit\n",
        "# RMSE of test > RMSE of train => OVER FITTING of the data.\n",
        "\n",
        "# RMSE of test < RMSE of train => UNDER FITTING of the data.\n",
        "import numpy as np\n",
        "# test_known_values = train['targeted productivity']\n",
        "test_known_values = h2o.as_list(train['targeted_productivity'], use_pandas=True)\n",
        "test_known_values = pd.DataFrame(test_known_values)\n",
        "test_known_values.head()\n",
        "frame = [test_known_values,y_pred]\n",
        "ActVsPred = pd.concat(frame,axis = 1, join = 'inner')\n",
        "ActVsPred.head()"
      ]
    },
    {
      "cell_type": "code",
      "execution_count": 280,
      "metadata": {
        "id": "d0vIFyWna34x",
        "colab": {
          "base_uri": "https://localhost:8080/",
          "height": 297
        },
        "outputId": "6b1d745a-b784-4150-cf82-07499474d6a4"
      },
      "outputs": [
        {
          "output_type": "execute_result",
          "data": {
            "text/plain": [
              "<matplotlib.axes._subplots.AxesSubplot at 0x7fbb3ad9a1d0>"
            ]
          },
          "metadata": {},
          "execution_count": 280
        },
        {
          "output_type": "display_data",
          "data": {
            "image/png": "[encoded data removed]",
            "text/plain": [
              "<Figure size 432x288 with 1 Axes>"
            ]
          },
          "metadata": {
            "needs_background": "light"
          }
        }
      ],
      "source": [
        "import seaborn as sns\n",
        "# sns.lmplot(x='targeted_productivity',y='predict',data=ActVsPred,fit_reg=False)\n",
        "# line_coords = np.arange(ActualVsPred.min().min(), ActVsPred.max().max())\n",
        "# plt.plot(line_coords, line_coords,  # X and y points\n",
        "#              color='darkorange', linestyle='--')\n",
        "\n",
        "\n",
        "sns.scatterplot(x='targeted_productivity', y='predict', data=ActVsPred)"
      ]
    },
    {
      "cell_type": "code",
      "execution_count": 263,
      "metadata": {
        "id": "_bVfg9apa34x",
        "colab": {
          "base_uri": "https://localhost:8080/"
        },
        "outputId": "43ef2692-179e-40a7-ef57-cdf67a740516"
      },
      "outputs": [
        {
          "output_type": "stream",
          "name": "stdout",
          "text": [
            "The RMSE of the predicted test data is: 0.16085593426334607\n"
          ]
        }
      ],
      "source": [
        "from sklearn.metrics import mean_squared_error\n",
        "from sklearn.metrics import explained_variance_score\n",
        "MSE = mean_squared_error(y_true = ActVsPred.targeted_productivity, y_pred = ActVsPred.predict)\n",
        "MSE = MSE**(0.5)\n",
        "print(\"The RMSE of the predicted test data is: {}\".format(MSE))"
      ]
    },
    {
      "cell_type": "markdown",
      "metadata": {
        "id": "Sy_9pHWKa341"
      },
      "source": [
        "<h3>Does the model make sense?</h3>"
      ]
    },
    {
      "cell_type": "markdown",
      "source": [
        "The model does is not a good for the dataset since the actual and the predicted values of the employee performance does not form a linear correlation when scattered and the RMSE of 0.16 makes a major portion of the performance range (0.00 to 1.00)"
      ],
      "metadata": {
        "id": "q7ydh0bgbqck"
      }
    },
    {
      "cell_type": "code",
      "execution_count": 266,
      "metadata": {
        "id": "u24O95Pua34y"
      },
      "outputs": [],
      "source": [
        "df_pd = pd.read_csv(url)"
      ]
    },
    {
      "cell_type": "code",
      "execution_count": 267,
      "metadata": {
        "colab": {
          "base_uri": "https://localhost:8080/",
          "height": 268
        },
        "id": "_zOKAtpNa34y",
        "outputId": "819d9a9b-dbec-4898-e142-8b1fde297359"
      },
      "outputs": [
        {
          "output_type": "execute_result",
          "data": {
            "text/html": [
              "\n",
              "  <div id=\"df-9ffffc0e-e67b-4ef0-bd48-642d5621918c\">\n",
              "    <div class=\"colab-df-container\">\n",
              "      <div>\n",
              "<style scoped>\n",
              "    .dataframe tbody tr th:only-of-type {\n",
              "        vertical-align: middle;\n",
              "    }\n",
              "\n",
              "    .dataframe tbody tr th {\n",
              "        vertical-align: top;\n",
              "    }\n",
              "\n",
              "    .dataframe thead th {\n",
              "        text-align: right;\n",
              "    }\n",
              "</style>\n",
              "<table border=\"1\" class=\"dataframe\">\n",
              "  <thead>\n",
              "    <tr style=\"text-align: right;\">\n",
              "      <th></th>\n",
              "      <th>date</th>\n",
              "      <th>quarter</th>\n",
              "      <th>department</th>\n",
              "      <th>day</th>\n",
              "      <th>team</th>\n",
              "      <th>targeted_productivity</th>\n",
              "      <th>smv</th>\n",
              "      <th>wip</th>\n",
              "      <th>over_time</th>\n",
              "      <th>incentive</th>\n",
              "      <th>idle_time</th>\n",
              "      <th>idle_men</th>\n",
              "      <th>no_of_style_change</th>\n",
              "      <th>no_of_workers</th>\n",
              "      <th>actual_productivity</th>\n",
              "    </tr>\n",
              "  </thead>\n",
              "  <tbody>\n",
              "    <tr>\n",
              "      <th>0</th>\n",
              "      <td>1/1/2015</td>\n",
              "      <td>Quarter1</td>\n",
              "      <td>sweing</td>\n",
              "      <td>Thursday</td>\n",
              "      <td>8</td>\n",
              "      <td>0.80</td>\n",
              "      <td>26.16</td>\n",
              "      <td>1108.0</td>\n",
              "      <td>7080</td>\n",
              "      <td>98</td>\n",
              "      <td>0.0</td>\n",
              "      <td>0</td>\n",
              "      <td>0</td>\n",
              "      <td>59.0</td>\n",
              "      <td>0.940725</td>\n",
              "    </tr>\n",
              "    <tr>\n",
              "      <th>1</th>\n",
              "      <td>1/1/2015</td>\n",
              "      <td>Quarter1</td>\n",
              "      <td>finishing</td>\n",
              "      <td>Thursday</td>\n",
              "      <td>1</td>\n",
              "      <td>0.75</td>\n",
              "      <td>3.94</td>\n",
              "      <td>NaN</td>\n",
              "      <td>960</td>\n",
              "      <td>0</td>\n",
              "      <td>0.0</td>\n",
              "      <td>0</td>\n",
              "      <td>0</td>\n",
              "      <td>8.0</td>\n",
              "      <td>0.886500</td>\n",
              "    </tr>\n",
              "    <tr>\n",
              "      <th>2</th>\n",
              "      <td>1/1/2015</td>\n",
              "      <td>Quarter1</td>\n",
              "      <td>sweing</td>\n",
              "      <td>Thursday</td>\n",
              "      <td>11</td>\n",
              "      <td>0.80</td>\n",
              "      <td>11.41</td>\n",
              "      <td>968.0</td>\n",
              "      <td>3660</td>\n",
              "      <td>50</td>\n",
              "      <td>0.0</td>\n",
              "      <td>0</td>\n",
              "      <td>0</td>\n",
              "      <td>30.5</td>\n",
              "      <td>0.800570</td>\n",
              "    </tr>\n",
              "    <tr>\n",
              "      <th>3</th>\n",
              "      <td>1/1/2015</td>\n",
              "      <td>Quarter1</td>\n",
              "      <td>sweing</td>\n",
              "      <td>Thursday</td>\n",
              "      <td>12</td>\n",
              "      <td>0.80</td>\n",
              "      <td>11.41</td>\n",
              "      <td>968.0</td>\n",
              "      <td>3660</td>\n",
              "      <td>50</td>\n",
              "      <td>0.0</td>\n",
              "      <td>0</td>\n",
              "      <td>0</td>\n",
              "      <td>30.5</td>\n",
              "      <td>0.800570</td>\n",
              "    </tr>\n",
              "    <tr>\n",
              "      <th>4</th>\n",
              "      <td>1/1/2015</td>\n",
              "      <td>Quarter1</td>\n",
              "      <td>sweing</td>\n",
              "      <td>Thursday</td>\n",
              "      <td>6</td>\n",
              "      <td>0.80</td>\n",
              "      <td>25.90</td>\n",
              "      <td>1170.0</td>\n",
              "      <td>1920</td>\n",
              "      <td>50</td>\n",
              "      <td>0.0</td>\n",
              "      <td>0</td>\n",
              "      <td>0</td>\n",
              "      <td>56.0</td>\n",
              "      <td>0.800382</td>\n",
              "    </tr>\n",
              "  </tbody>\n",
              "</table>\n",
              "</div>\n",
              "      <button class=\"colab-df-convert\" onclick=\"convertToInteractive('df-9ffffc0e-e67b-4ef0-bd48-642d5621918c')\"\n",
              "              title=\"Convert this dataframe to an interactive table.\"\n",
              "              style=\"display:none;\">\n",
              "        \n",
              "  <svg xmlns=\"http://www.w3.org/2000/svg\" height=\"24px\"viewBox=\"0 0 24 24\"\n",
              "       width=\"24px\">\n",
              "    <path d=\"M0 0h24v24H0V0z\" fill=\"none\"/>\n",
              "    <path d=\"M18.56 5.44l.94 2.06.94-2.06 2.06-.94-2.06-.94-.94-2.06-.94 2.06-2.06.94zm-11 1L8.5 8.5l.94-2.06 2.06-.94-2.06-.94L8.5 2.5l-.94 2.06-2.06.94zm10 10l.94 2.06.94-2.06 2.06-.94-2.06-.94-.94-2.06-.94 2.06-2.06.94z\"/><path d=\"M17.41 7.96l-1.37-1.37c-.4-.4-.92-.59-1.43-.59-.52 0-1.04.2-1.43.59L10.3 9.45l-7.72 7.72c-.78.78-.78 2.05 0 2.83L4 21.41c.39.39.9.59 1.41.59.51 0 1.02-.2 1.41-.59l7.78-7.78 2.81-2.81c.8-.78.8-2.07 0-2.86zM5.41 20L4 18.59l7.72-7.72 1.47 1.35L5.41 20z\"/>\n",
              "  </svg>\n",
              "      </button>\n",
              "      \n",
              "  <style>\n",
              "    .colab-df-container {\n",
              "      display:flex;\n",
              "      flex-wrap:wrap;\n",
              "      gap: 12px;\n",
              "    }\n",
              "\n",
              "    .colab-df-convert {\n",
              "      background-color: #E8F0FE;\n",
              "      border: none;\n",
              "      border-radius: 50%;\n",
              "      cursor: pointer;\n",
              "      display: none;\n",
              "      fill: #1967D2;\n",
              "      height: 32px;\n",
              "      padding: 0 0 0 0;\n",
              "      width: 32px;\n",
              "    }\n",
              "\n",
              "    .colab-df-convert:hover {\n",
              "      background-color: #E2EBFA;\n",
              "      box-shadow: 0px 1px 2px rgba(60, 64, 67, 0.3), 0px 1px 3px 1px rgba(60, 64, 67, 0.15);\n",
              "      fill: #174EA6;\n",
              "    }\n",
              "\n",
              "    [theme=dark] .colab-df-convert {\n",
              "      background-color: #3B4455;\n",
              "      fill: #D2E3FC;\n",
              "    }\n",
              "\n",
              "    [theme=dark] .colab-df-convert:hover {\n",
              "      background-color: #434B5C;\n",
              "      box-shadow: 0px 1px 3px 1px rgba(0, 0, 0, 0.15);\n",
              "      filter: drop-shadow(0px 1px 2px rgba(0, 0, 0, 0.3));\n",
              "      fill: #FFFFFF;\n",
              "    }\n",
              "  </style>\n",
              "\n",
              "      <script>\n",
              "        const buttonEl =\n",
              "          document.querySelector('#df-9ffffc0e-e67b-4ef0-bd48-642d5621918c button.colab-df-convert');\n",
              "        buttonEl.style.display =\n",
              "          google.colab.kernel.accessAllowed ? 'block' : 'none';\n",
              "\n",
              "        async function convertToInteractive(key) {\n",
              "          const element = document.querySelector('#df-9ffffc0e-e67b-4ef0-bd48-642d5621918c');\n",
              "          const dataTable =\n",
              "            await google.colab.kernel.invokeFunction('convertToInteractive',\n",
              "                                                     [key], {});\n",
              "          if (!dataTable) return;\n",
              "\n",
              "          const docLinkHtml = 'Like what you see? Visit the ' +\n",
              "            '<a target=\"_blank\" href=https://colab.research.google.com/notebooks/data_table.ipynb>data table notebook</a>'\n",
              "            + ' to learn more about interactive tables.';\n",
              "          element.innerHTML = '';\n",
              "          dataTable['output_type'] = 'display_data';\n",
              "          await google.colab.output.renderOutput(dataTable, element);\n",
              "          const docLink = document.createElement('div');\n",
              "          docLink.innerHTML = docLinkHtml;\n",
              "          element.appendChild(docLink);\n",
              "        }\n",
              "      </script>\n",
              "    </div>\n",
              "  </div>\n",
              "  "
            ],
            "text/plain": [
              "       date   quarter  ... no_of_workers actual_productivity\n",
              "0  1/1/2015  Quarter1  ...          59.0            0.940725\n",
              "1  1/1/2015  Quarter1  ...           8.0            0.886500\n",
              "2  1/1/2015  Quarter1  ...          30.5            0.800570\n",
              "3  1/1/2015  Quarter1  ...          30.5            0.800570\n",
              "4  1/1/2015  Quarter1  ...          56.0            0.800382\n",
              "\n",
              "[5 rows x 15 columns]"
            ]
          },
          "metadata": {},
          "execution_count": 267
        }
      ],
      "source": [
        "df_pd.head(5)"
      ]
    },
    {
      "cell_type": "code",
      "execution_count": 267,
      "metadata": {
        "id": "RbXNaE26a34z"
      },
      "outputs": [],
      "source": [
        ""
      ]
    },
    {
      "cell_type": "code",
      "execution_count": 268,
      "metadata": {
        "id": "kf-4W-1na34z"
      },
      "outputs": [],
      "source": [
        "corr = df_pd.corr()"
      ]
    },
    {
      "cell_type": "markdown",
      "metadata": {
        "id": "eWZ6Sp1Ka340"
      },
      "source": [
        "<h3>In in multivariate models rank the most significant predictor variables and exclude insignificant ones from the model.</h3>"
      ]
    },
    {
      "cell_type": "code",
      "execution_count": 269,
      "metadata": {
        "id": "d0G3xmI-a341"
      },
      "outputs": [],
      "source": [
        ""
      ]
    },
    {
      "cell_type": "code",
      "execution_count": 270,
      "metadata": {
        "colab": {
          "base_uri": "https://localhost:8080/",
          "height": 629
        },
        "id": "fKKSUKHUa341",
        "outputId": "b612a439-f7d3-45f4-f6b5-02764cc9affd"
      },
      "outputs": [
        {
          "output_type": "display_data",
          "data": {
            "image/png": "[encoded data removed]",
            "text/plain": [
              "<Figure size 1008x720 with 1 Axes>"
            ]
          },
          "metadata": {
            "needs_background": "light"
          }
        },
        {
          "output_type": "display_data",
          "data": {
            "text/plain": [
              "<Figure size 432x288 with 0 Axes>"
            ]
          },
          "metadata": {}
        }
      ],
      "source": [
        "import matplotlib.pyplot as plt\n",
        "%matplotlib inline\n",
        "\n",
        "if best_model.algo in ['gbm','drf','xrt','xgboost']:\n",
        "  best_model.varimp_plot()\n"
      ]
    },
    {
      "cell_type": "markdown",
      "metadata": {
        "id": "cfJqcWtPa34z"
      },
      "source": [
        "<h3>Is the relationship significant?</h3>\n",
        "There is a significant relationship between number of workers and smv."
      ]
    },
    {
      "cell_type": "code",
      "execution_count": 269,
      "metadata": {
        "scrolled": true,
        "colab": {
          "base_uri": "https://localhost:8080/",
          "height": 410
        },
        "id": "AEYUmb2fa34z",
        "outputId": "d23f02db-574a-4d1c-9389-fe33d30a95ec"
      },
      "outputs": [
        {
          "output_type": "execute_result",
          "data": {
            "text/html": [
              "<style type=\"text/css\">\n",
              "#T_30808_row0_col0, #T_30808_row1_col1, #T_30808_row2_col2, #T_30808_row3_col3, #T_30808_row4_col4, #T_30808_row5_col5, #T_30808_row6_col6, #T_30808_row7_col7, #T_30808_row8_col8, #T_30808_row9_col9, #T_30808_row10_col10 {\n",
              "  background-color: #b40426;\n",
              "  color: #f1f1f1;\n",
              "}\n",
              "#T_30808_row0_col1 {\n",
              "  background-color: #7a9df8;\n",
              "  color: #f1f1f1;\n",
              "}\n",
              "#T_30808_row0_col2, #T_30808_row0_col9 {\n",
              "  background-color: #3d50c3;\n",
              "  color: #f1f1f1;\n",
              "}\n",
              "#T_30808_row0_col3, #T_30808_row10_col4 {\n",
              "  background-color: #455cce;\n",
              "  color: #f1f1f1;\n",
              "}\n",
              "#T_30808_row0_col4, #T_30808_row1_col8, #T_30808_row1_col9, #T_30808_row8_col1, #T_30808_row8_col3, #T_30808_row8_col5, #T_30808_row8_col10, #T_30808_row10_col0, #T_30808_row10_col2, #T_30808_row10_col6, #T_30808_row10_col7, #T_30808_row10_col8 {\n",
              "  background-color: #3b4cc0;\n",
              "  color: #f1f1f1;\n",
              "}\n",
              "#T_30808_row0_col5 {\n",
              "  background-color: #3f53c6;\n",
              "  color: #f1f1f1;\n",
              "}\n",
              "#T_30808_row0_col6 {\n",
              "  background-color: #536edd;\n",
              "  color: #f1f1f1;\n",
              "}\n",
              "#T_30808_row0_col7, #T_30808_row7_col9 {\n",
              "  background-color: #7396f5;\n",
              "  color: #f1f1f1;\n",
              "}\n",
              "#T_30808_row0_col8, #T_30808_row6_col8 {\n",
              "  background-color: #6e90f2;\n",
              "  color: #f1f1f1;\n",
              "}\n",
              "#T_30808_row0_col10, #T_30808_row1_col2, #T_30808_row3_col6 {\n",
              "  background-color: #4961d2;\n",
              "  color: #f1f1f1;\n",
              "}\n",
              "#T_30808_row1_col0, #T_30808_row7_col0 {\n",
              "  background-color: #6b8df0;\n",
              "  color: #f1f1f1;\n",
              "}\n",
              "#T_30808_row1_col3, #T_30808_row2_col6, #T_30808_row4_col10, #T_30808_row6_col1, #T_30808_row7_col1, #T_30808_row9_col6 {\n",
              "  background-color: #6282ea;\n",
              "  color: #f1f1f1;\n",
              "}\n",
              "#T_30808_row1_col4, #T_30808_row7_col5 {\n",
              "  background-color: #3c4ec2;\n",
              "  color: #f1f1f1;\n",
              "}\n",
              "#T_30808_row1_col5, #T_30808_row2_col5 {\n",
              "  background-color: #4b64d5;\n",
              "  color: #f1f1f1;\n",
              "}\n",
              "#T_30808_row1_col6, #T_30808_row4_col5, #T_30808_row7_col3, #T_30808_row7_col10 {\n",
              "  background-color: #4055c8;\n",
              "  color: #f1f1f1;\n",
              "}\n",
              "#T_30808_row1_col7, #T_30808_row3_col4, #T_30808_row3_col9 {\n",
              "  background-color: #5b7ae5;\n",
              "  color: #f1f1f1;\n",
              "}\n",
              "#T_30808_row1_col10, #T_30808_row10_col1 {\n",
              "  background-color: #e2dad5;\n",
              "  color: #000000;\n",
              "}\n",
              "#T_30808_row2_col0, #T_30808_row2_col3 {\n",
              "  background-color: #445acc;\n",
              "  color: #f1f1f1;\n",
              "}\n",
              "#T_30808_row2_col1, #T_30808_row6_col4 {\n",
              "  background-color: #5e7de7;\n",
              "  color: #f1f1f1;\n",
              "}\n",
              "#T_30808_row2_col4 {\n",
              "  background-color: #f7aa8c;\n",
              "  color: #000000;\n",
              "}\n",
              "#T_30808_row2_col7, #T_30808_row9_col7 {\n",
              "  background-color: #8badfd;\n",
              "  color: #000000;\n",
              "}\n",
              "#T_30808_row2_col8 {\n",
              "  background-color: #cbd8ee;\n",
              "  color: #000000;\n",
              "}\n",
              "#T_30808_row2_col9, #T_30808_row9_col2 {\n",
              "  background-color: #d0473d;\n",
              "  color: #f1f1f1;\n",
              "}\n",
              "#T_30808_row2_col10, #T_30808_row7_col4, #T_30808_row9_col5 {\n",
              "  background-color: #506bda;\n",
              "  color: #f1f1f1;\n",
              "}\n",
              "#T_30808_row3_col0, #T_30808_row4_col1, #T_30808_row10_col5 {\n",
              "  background-color: #5977e3;\n",
              "  color: #f1f1f1;\n",
              "}\n",
              "#T_30808_row3_col1, #T_30808_row5_col3 {\n",
              "  background-color: #84a7fc;\n",
              "  color: #f1f1f1;\n",
              "}\n",
              "#T_30808_row3_col2 {\n",
              "  background-color: #516ddb;\n",
              "  color: #f1f1f1;\n",
              "}\n",
              "#T_30808_row3_col5, #T_30808_row10_col3 {\n",
              "  background-color: #779af7;\n",
              "  color: #f1f1f1;\n",
              "}\n",
              "#T_30808_row3_col7, #T_30808_row3_col8 {\n",
              "  background-color: #5d7ce6;\n",
              "  color: #f1f1f1;\n",
              "}\n",
              "#T_30808_row3_col10 {\n",
              "  background-color: #97b8ff;\n",
              "  color: #000000;\n",
              "}\n",
              "#T_30808_row4_col0 {\n",
              "  background-color: #485fd1;\n",
              "  color: #f1f1f1;\n",
              "}\n",
              "#T_30808_row4_col2 {\n",
              "  background-color: #f7a98b;\n",
              "  color: #000000;\n",
              "}\n",
              "#T_30808_row4_col3 {\n",
              "  background-color: #5572df;\n",
              "  color: #f1f1f1;\n",
              "}\n",
              "#T_30808_row4_col6, #T_30808_row6_col10, #T_30808_row9_col1 {\n",
              "  background-color: #5a78e4;\n",
              "  color: #f1f1f1;\n",
              "}\n",
              "#T_30808_row4_col7, #T_30808_row5_col2 {\n",
              "  background-color: #6687ed;\n",
              "  color: #f1f1f1;\n",
              "}\n",
              "#T_30808_row4_col8 {\n",
              "  background-color: #82a6fb;\n",
              "  color: #f1f1f1;\n",
              "}\n",
              "#T_30808_row4_col9, #T_30808_row9_col4 {\n",
              "  background-color: #f39778;\n",
              "  color: #000000;\n",
              "}\n",
              "#T_30808_row5_col0, #T_30808_row5_col9, #T_30808_row9_col10 {\n",
              "  background-color: #6180e9;\n",
              "  color: #f1f1f1;\n",
              "}\n",
              "#T_30808_row5_col1 {\n",
              "  background-color: #7b9ff9;\n",
              "  color: #f1f1f1;\n",
              "}\n",
              "#T_30808_row5_col4 {\n",
              "  background-color: #5470de;\n",
              "  color: #f1f1f1;\n",
              "}\n",
              "#T_30808_row5_col6, #T_30808_row8_col6, #T_30808_row9_col0 {\n",
              "  background-color: #4e68d8;\n",
              "  color: #f1f1f1;\n",
              "}\n",
              "#T_30808_row5_col7 {\n",
              "  background-color: #6485ec;\n",
              "  color: #f1f1f1;\n",
              "}\n",
              "#T_30808_row5_col8 {\n",
              "  background-color: #6a8bef;\n",
              "  color: #f1f1f1;\n",
              "}\n",
              "#T_30808_row5_col10 {\n",
              "  background-color: #88abfd;\n",
              "  color: #000000;\n",
              "}\n",
              "#T_30808_row6_col0, #T_30808_row6_col9 {\n",
              "  background-color: #6384eb;\n",
              "  color: #f1f1f1;\n",
              "}\n",
              "#T_30808_row6_col2 {\n",
              "  background-color: #6c8ff1;\n",
              "  color: #f1f1f1;\n",
              "}\n",
              "#T_30808_row6_col3 {\n",
              "  background-color: #465ecf;\n",
              "  color: #f1f1f1;\n",
              "}\n",
              "#T_30808_row6_col5 {\n",
              "  background-color: #3e51c5;\n",
              "  color: #f1f1f1;\n",
              "}\n",
              "#T_30808_row6_col7 {\n",
              "  background-color: #f5c4ac;\n",
              "  color: #000000;\n",
              "}\n",
              "#T_30808_row7_col2 {\n",
              "  background-color: #7da0f9;\n",
              "  color: #f1f1f1;\n",
              "}\n",
              "#T_30808_row7_col6 {\n",
              "  background-color: #f1cdba;\n",
              "  color: #000000;\n",
              "}\n",
              "#T_30808_row7_col8 {\n",
              "  background-color: #98b9ff;\n",
              "  color: #000000;\n",
              "}\n",
              "#T_30808_row8_col0 {\n",
              "  background-color: #5f7fe8;\n",
              "  color: #f1f1f1;\n",
              "}\n",
              "#T_30808_row8_col2 {\n",
              "  background-color: #bcd2f7;\n",
              "  color: #000000;\n",
              "}\n",
              "#T_30808_row8_col4 {\n",
              "  background-color: #6788ee;\n",
              "  color: #f1f1f1;\n",
              "}\n",
              "#T_30808_row8_col7 {\n",
              "  background-color: #93b5fe;\n",
              "  color: #000000;\n",
              "}\n",
              "#T_30808_row8_col9 {\n",
              "  background-color: #bad0f8;\n",
              "  color: #000000;\n",
              "}\n",
              "#T_30808_row9_col3 {\n",
              "  background-color: #5875e1;\n",
              "  color: #f1f1f1;\n",
              "}\n",
              "#T_30808_row9_col8 {\n",
              "  background-color: #cdd9ec;\n",
              "  color: #000000;\n",
              "}\n",
              "#T_30808_row10_col9 {\n",
              "  background-color: #4257c9;\n",
              "  color: #f1f1f1;\n",
              "}\n",
              "</style>\n",
              "<table id=\"T_30808_\" class=\"dataframe\">\n",
              "  <thead>\n",
              "    <tr>\n",
              "      <th class=\"blank level0\" >&nbsp;</th>\n",
              "      <th class=\"col_heading level0 col0\" >team</th>\n",
              "      <th class=\"col_heading level0 col1\" >targeted_productivity</th>\n",
              "      <th class=\"col_heading level0 col2\" >smv</th>\n",
              "      <th class=\"col_heading level0 col3\" >wip</th>\n",
              "      <th class=\"col_heading level0 col4\" >over_time</th>\n",
              "      <th class=\"col_heading level0 col5\" >incentive</th>\n",
              "      <th class=\"col_heading level0 col6\" >idle_time</th>\n",
              "      <th class=\"col_heading level0 col7\" >idle_men</th>\n",
              "      <th class=\"col_heading level0 col8\" >no_of_style_change</th>\n",
              "      <th class=\"col_heading level0 col9\" >no_of_workers</th>\n",
              "      <th class=\"col_heading level0 col10\" >actual_productivity</th>\n",
              "    </tr>\n",
              "  </thead>\n",
              "  <tbody>\n",
              "    <tr>\n",
              "      <th id=\"T_30808_level0_row0\" class=\"row_heading level0 row0\" >team</th>\n",
              "      <td id=\"T_30808_row0_col0\" class=\"data row0 col0\" >1.000000</td>\n",
              "      <td id=\"T_30808_row0_col1\" class=\"data row0 col1\" >0.030274</td>\n",
              "      <td id=\"T_30808_row0_col2\" class=\"data row0 col2\" >-0.110011</td>\n",
              "      <td id=\"T_30808_row0_col3\" class=\"data row0 col3\" >-0.033474</td>\n",
              "      <td id=\"T_30808_row0_col4\" class=\"data row0 col4\" >-0.096737</td>\n",
              "      <td id=\"T_30808_row0_col5\" class=\"data row0 col5\" >-0.007674</td>\n",
              "      <td id=\"T_30808_row0_col6\" class=\"data row0 col6\" >0.003796</td>\n",
              "      <td id=\"T_30808_row0_col7\" class=\"data row0 col7\" >0.026974</td>\n",
              "      <td id=\"T_30808_row0_col8\" class=\"data row0 col8\" >-0.011194</td>\n",
              "      <td id=\"T_30808_row0_col9\" class=\"data row0 col9\" >-0.075113</td>\n",
              "      <td id=\"T_30808_row0_col10\" class=\"data row0 col10\" >-0.148753</td>\n",
              "    </tr>\n",
              "    <tr>\n",
              "      <th id=\"T_30808_level0_row1\" class=\"row_heading level0 row1\" >targeted_productivity</th>\n",
              "      <td id=\"T_30808_row1_col0\" class=\"data row1 col0\" >0.030274</td>\n",
              "      <td id=\"T_30808_row1_col1\" class=\"data row1 col1\" >1.000000</td>\n",
              "      <td id=\"T_30808_row1_col2\" class=\"data row1 col2\" >-0.069489</td>\n",
              "      <td id=\"T_30808_row1_col3\" class=\"data row1 col3\" >0.062054</td>\n",
              "      <td id=\"T_30808_row1_col4\" class=\"data row1 col4\" >-0.088557</td>\n",
              "      <td id=\"T_30808_row1_col5\" class=\"data row1 col5\" >0.032768</td>\n",
              "      <td id=\"T_30808_row1_col6\" class=\"data row1 col6\" >-0.056181</td>\n",
              "      <td id=\"T_30808_row1_col7\" class=\"data row1 col7\" >-0.053818</td>\n",
              "      <td id=\"T_30808_row1_col8\" class=\"data row1 col8\" >-0.209294</td>\n",
              "      <td id=\"T_30808_row1_col9\" class=\"data row1 col9\" >-0.084288</td>\n",
              "      <td id=\"T_30808_row1_col10\" class=\"data row1 col10\" >0.421594</td>\n",
              "    </tr>\n",
              "    <tr>\n",
              "      <th id=\"T_30808_level0_row2\" class=\"row_heading level0 row2\" >smv</th>\n",
              "      <td id=\"T_30808_row2_col0\" class=\"data row2 col0\" >-0.110011</td>\n",
              "      <td id=\"T_30808_row2_col1\" class=\"data row2 col1\" >-0.069489</td>\n",
              "      <td id=\"T_30808_row2_col2\" class=\"data row2 col2\" >1.000000</td>\n",
              "      <td id=\"T_30808_row2_col3\" class=\"data row2 col3\" >-0.037837</td>\n",
              "      <td id=\"T_30808_row2_col4\" class=\"data row2 col4\" >0.674887</td>\n",
              "      <td id=\"T_30808_row2_col5\" class=\"data row2 col5\" >0.032629</td>\n",
              "      <td id=\"T_30808_row2_col6\" class=\"data row2 col6\" >0.056863</td>\n",
              "      <td id=\"T_30808_row2_col7\" class=\"data row2 col7\" >0.105901</td>\n",
              "      <td id=\"T_30808_row2_col8\" class=\"data row2 col8\" >0.315388</td>\n",
              "      <td id=\"T_30808_row2_col9\" class=\"data row2 col9\" >0.912176</td>\n",
              "      <td id=\"T_30808_row2_col10\" class=\"data row2 col10\" >-0.122089</td>\n",
              "    </tr>\n",
              "    <tr>\n",
              "      <th id=\"T_30808_level0_row3\" class=\"row_heading level0 row3\" >wip</th>\n",
              "      <td id=\"T_30808_row3_col0\" class=\"data row3 col0\" >-0.033474</td>\n",
              "      <td id=\"T_30808_row3_col1\" class=\"data row3 col1\" >0.062054</td>\n",
              "      <td id=\"T_30808_row3_col2\" class=\"data row3 col2\" >-0.037837</td>\n",
              "      <td id=\"T_30808_row3_col3\" class=\"data row3 col3\" >1.000000</td>\n",
              "      <td id=\"T_30808_row3_col4\" class=\"data row3 col4\" >0.022302</td>\n",
              "      <td id=\"T_30808_row3_col5\" class=\"data row3 col5\" >0.167210</td>\n",
              "      <td id=\"T_30808_row3_col6\" class=\"data row3 col6\" >-0.026299</td>\n",
              "      <td id=\"T_30808_row3_col7\" class=\"data row3 col7\" >-0.048718</td>\n",
              "      <td id=\"T_30808_row3_col8\" class=\"data row3 col8\" >-0.072357</td>\n",
              "      <td id=\"T_30808_row3_col9\" class=\"data row3 col9\" >0.030383</td>\n",
              "      <td id=\"T_30808_row3_col10\" class=\"data row3 col10\" >0.131147</td>\n",
              "    </tr>\n",
              "    <tr>\n",
              "      <th id=\"T_30808_level0_row4\" class=\"row_heading level0 row4\" >over_time</th>\n",
              "      <td id=\"T_30808_row4_col0\" class=\"data row4 col0\" >-0.096737</td>\n",
              "      <td id=\"T_30808_row4_col1\" class=\"data row4 col1\" >-0.088557</td>\n",
              "      <td id=\"T_30808_row4_col2\" class=\"data row4 col2\" >0.674887</td>\n",
              "      <td id=\"T_30808_row4_col3\" class=\"data row4 col3\" >0.022302</td>\n",
              "      <td id=\"T_30808_row4_col4\" class=\"data row4 col4\" >1.000000</td>\n",
              "      <td id=\"T_30808_row4_col5\" class=\"data row4 col5\" >-0.004793</td>\n",
              "      <td id=\"T_30808_row4_col6\" class=\"data row4 col6\" >0.031038</td>\n",
              "      <td id=\"T_30808_row4_col7\" class=\"data row4 col7\" >-0.017913</td>\n",
              "      <td id=\"T_30808_row4_col8\" class=\"data row4 col8\" >0.059790</td>\n",
              "      <td id=\"T_30808_row4_col9\" class=\"data row4 col9\" >0.734164</td>\n",
              "      <td id=\"T_30808_row4_col10\" class=\"data row4 col10\" >-0.054206</td>\n",
              "    </tr>\n",
              "    <tr>\n",
              "      <th id=\"T_30808_level0_row5\" class=\"row_heading level0 row5\" >incentive</th>\n",
              "      <td id=\"T_30808_row5_col0\" class=\"data row5 col0\" >-0.007674</td>\n",
              "      <td id=\"T_30808_row5_col1\" class=\"data row5 col1\" >0.032768</td>\n",
              "      <td id=\"T_30808_row5_col2\" class=\"data row5 col2\" >0.032629</td>\n",
              "      <td id=\"T_30808_row5_col3\" class=\"data row5 col3\" >0.167210</td>\n",
              "      <td id=\"T_30808_row5_col4\" class=\"data row5 col4\" >-0.004793</td>\n",
              "      <td id=\"T_30808_row5_col5\" class=\"data row5 col5\" >1.000000</td>\n",
              "      <td id=\"T_30808_row5_col6\" class=\"data row5 col6\" >-0.012024</td>\n",
              "      <td id=\"T_30808_row5_col7\" class=\"data row5 col7\" >-0.021140</td>\n",
              "      <td id=\"T_30808_row5_col8\" class=\"data row5 col8\" >-0.026607</td>\n",
              "      <td id=\"T_30808_row5_col9\" class=\"data row5 col9\" >0.049222</td>\n",
              "      <td id=\"T_30808_row5_col10\" class=\"data row5 col10\" >0.076538</td>\n",
              "    </tr>\n",
              "    <tr>\n",
              "      <th id=\"T_30808_level0_row6\" class=\"row_heading level0 row6\" >idle_time</th>\n",
              "      <td id=\"T_30808_row6_col0\" class=\"data row6 col0\" >0.003796</td>\n",
              "      <td id=\"T_30808_row6_col1\" class=\"data row6 col1\" >-0.056181</td>\n",
              "      <td id=\"T_30808_row6_col2\" class=\"data row6 col2\" >0.056863</td>\n",
              "      <td id=\"T_30808_row6_col3\" class=\"data row6 col3\" >-0.026299</td>\n",
              "      <td id=\"T_30808_row6_col4\" class=\"data row6 col4\" >0.031038</td>\n",
              "      <td id=\"T_30808_row6_col5\" class=\"data row6 col5\" >-0.012024</td>\n",
              "      <td id=\"T_30808_row6_col6\" class=\"data row6 col6\" >1.000000</td>\n",
              "      <td id=\"T_30808_row6_col7\" class=\"data row6 col7\" >0.559146</td>\n",
              "      <td id=\"T_30808_row6_col8\" class=\"data row6 col8\" >-0.011598</td>\n",
              "      <td id=\"T_30808_row6_col9\" class=\"data row6 col9\" >0.058049</td>\n",
              "      <td id=\"T_30808_row6_col10\" class=\"data row6 col10\" >-0.080851</td>\n",
              "    </tr>\n",
              "    <tr>\n",
              "      <th id=\"T_30808_level0_row7\" class=\"row_heading level0 row7\" >idle_men</th>\n",
              "      <td id=\"T_30808_row7_col0\" class=\"data row7 col0\" >0.026974</td>\n",
              "      <td id=\"T_30808_row7_col1\" class=\"data row7 col1\" >-0.053818</td>\n",
              "      <td id=\"T_30808_row7_col2\" class=\"data row7 col2\" >0.105901</td>\n",
              "      <td id=\"T_30808_row7_col3\" class=\"data row7 col3\" >-0.048718</td>\n",
              "      <td id=\"T_30808_row7_col4\" class=\"data row7 col4\" >-0.017913</td>\n",
              "      <td id=\"T_30808_row7_col5\" class=\"data row7 col5\" >-0.021140</td>\n",
              "      <td id=\"T_30808_row7_col6\" class=\"data row7 col6\" >0.559146</td>\n",
              "      <td id=\"T_30808_row7_col7\" class=\"data row7 col7\" >1.000000</td>\n",
              "      <td id=\"T_30808_row7_col8\" class=\"data row7 col8\" >0.133632</td>\n",
              "      <td id=\"T_30808_row7_col9\" class=\"data row7 col9\" >0.106946</td>\n",
              "      <td id=\"T_30808_row7_col10\" class=\"data row7 col10\" >-0.181734</td>\n",
              "    </tr>\n",
              "    <tr>\n",
              "      <th id=\"T_30808_level0_row8\" class=\"row_heading level0 row8\" >no_of_style_change</th>\n",
              "      <td id=\"T_30808_row8_col0\" class=\"data row8 col0\" >-0.011194</td>\n",
              "      <td id=\"T_30808_row8_col1\" class=\"data row8 col1\" >-0.209294</td>\n",
              "      <td id=\"T_30808_row8_col2\" class=\"data row8 col2\" >0.315388</td>\n",
              "      <td id=\"T_30808_row8_col3\" class=\"data row8 col3\" >-0.072357</td>\n",
              "      <td id=\"T_30808_row8_col4\" class=\"data row8 col4\" >0.059790</td>\n",
              "      <td id=\"T_30808_row8_col5\" class=\"data row8 col5\" >-0.026607</td>\n",
              "      <td id=\"T_30808_row8_col6\" class=\"data row8 col6\" >-0.011598</td>\n",
              "      <td id=\"T_30808_row8_col7\" class=\"data row8 col7\" >0.133632</td>\n",
              "      <td id=\"T_30808_row8_col8\" class=\"data row8 col8\" >1.000000</td>\n",
              "      <td id=\"T_30808_row8_col9\" class=\"data row8 col9\" >0.327787</td>\n",
              "      <td id=\"T_30808_row8_col10\" class=\"data row8 col10\" >-0.207366</td>\n",
              "    </tr>\n",
              "    <tr>\n",
              "      <th id=\"T_30808_level0_row9\" class=\"row_heading level0 row9\" >no_of_workers</th>\n",
              "      <td id=\"T_30808_row9_col0\" class=\"data row9 col0\" >-0.075113</td>\n",
              "      <td id=\"T_30808_row9_col1\" class=\"data row9 col1\" >-0.084288</td>\n",
              "      <td id=\"T_30808_row9_col2\" class=\"data row9 col2\" >0.912176</td>\n",
              "      <td id=\"T_30808_row9_col3\" class=\"data row9 col3\" >0.030383</td>\n",
              "      <td id=\"T_30808_row9_col4\" class=\"data row9 col4\" >0.734164</td>\n",
              "      <td id=\"T_30808_row9_col5\" class=\"data row9 col5\" >0.049222</td>\n",
              "      <td id=\"T_30808_row9_col6\" class=\"data row9 col6\" >0.058049</td>\n",
              "      <td id=\"T_30808_row9_col7\" class=\"data row9 col7\" >0.106946</td>\n",
              "      <td id=\"T_30808_row9_col8\" class=\"data row9 col8\" >0.327787</td>\n",
              "      <td id=\"T_30808_row9_col9\" class=\"data row9 col9\" >1.000000</td>\n",
              "      <td id=\"T_30808_row9_col10\" class=\"data row9 col10\" >-0.057991</td>\n",
              "    </tr>\n",
              "    <tr>\n",
              "      <th id=\"T_30808_level0_row10\" class=\"row_heading level0 row10\" >actual_productivity</th>\n",
              "      <td id=\"T_30808_row10_col0\" class=\"data row10 col0\" >-0.148753</td>\n",
              "      <td id=\"T_30808_row10_col1\" class=\"data row10 col1\" >0.421594</td>\n",
              "      <td id=\"T_30808_row10_col2\" class=\"data row10 col2\" >-0.122089</td>\n",
              "      <td id=\"T_30808_row10_col3\" class=\"data row10 col3\" >0.131147</td>\n",
              "      <td id=\"T_30808_row10_col4\" class=\"data row10 col4\" >-0.054206</td>\n",
              "      <td id=\"T_30808_row10_col5\" class=\"data row10 col5\" >0.076538</td>\n",
              "      <td id=\"T_30808_row10_col6\" class=\"data row10 col6\" >-0.080851</td>\n",
              "      <td id=\"T_30808_row10_col7\" class=\"data row10 col7\" >-0.181734</td>\n",
              "      <td id=\"T_30808_row10_col8\" class=\"data row10 col8\" >-0.207366</td>\n",
              "      <td id=\"T_30808_row10_col9\" class=\"data row10 col9\" >-0.057991</td>\n",
              "      <td id=\"T_30808_row10_col10\" class=\"data row10 col10\" >1.000000</td>\n",
              "    </tr>\n",
              "  </tbody>\n",
              "</table>\n"
            ],
            "text/plain": [
              "<pandas.io.formats.style.Styler at 0x7fbb3aea0e90>"
            ]
          },
          "metadata": {},
          "execution_count": 269
        }
      ],
      "source": [
        "corr.style.background_gradient(cmap='coolwarm')"
      ]
    },
    {
      "cell_type": "markdown",
      "metadata": {
        "id": "3QgS3oFba341"
      },
      "source": [
        "<h3>Which independent variables are significant?</h3>"
      ]
    },
    {
      "cell_type": "markdown",
      "source": [
        "Incentives is the most significant variable."
      ],
      "metadata": {
        "id": "F0_lg2S8hxE1"
      }
    },
    {
      "cell_type": "markdown",
      "metadata": {
        "id": "gHCMeVdRa341"
      },
      "source": [
        "<h3> Does regularization help?</h3>"
      ]
    },
    {
      "cell_type": "markdown",
      "source": [
        "Since the RMSE of the trained data is 0.066 and the test data is 0.16, \n",
        "RMSE of test > RMSE of train => OVER FITTING of the data. So regularization can be used to improve the fit of the Data"
      ],
      "metadata": {
        "id": "ZT9TyW4mge5I"
      }
    },
    {
      "cell_type": "markdown",
      "source": [
        "Conclusion:\n",
        "It can be concluded from the model that although Gradient Boosting Machine (GBM) is a great algotithm. A proper result cannot be achieved without properly evaluating the dataset. "
      ],
      "metadata": {
        "id": "WgcKh2OgcXbH"
      }
    },
    {
      "cell_type": "markdown",
      "source": [
        "**References:**\n",
        "\n",
        "\n",
        "\n",
        "1. Imran, A. A., Amin, M. N., Islam Rifat, M. R., & Mehreen, S. (2019). Deep Neural Network Approach for Predicting the Productivity of Garment Employees. 2019 6th International Conference on Control, Decision and Information Technologies (CoDIT).\n",
        "2. Productivity Prediction of Garment Employees\n",
        "Regression/ classification purpose - https://www.kaggle.com/ishadss/productivity-prediction-of-garment-employees\n",
        "3. Generalized linear model (GLM)¶. Generalized Linear Model (GLM) - H2O 3.36.0.2 documentation. (2022, January 25). Retrieved February 13, 2022, from https://docs.h2o.ai/h2o/latest-stable/h2o-docs/data-science/glm.html\n",
        "4. Nikbearbrown. (2022, January 26). AI_Research_Group/VAI_Churn_H2O_automl.ipynb at main · nikbearbrown/ai_research_group. GitHub. Retrieved February 13, 2022, from https://github.com/nikbearbrown/AI_Research_Group/blob/main/Kaggle_Datasets/AutoML/VAI_Churn_H2O_automl.ipynb\n",
        "\n",
        "\n",
        "\n"
      ],
      "metadata": {
        "id": "L6NXQcU3Gh2f"
      }
    }
  ],
  "metadata": {
    "colab": {
      "name": "INFO6105 Assignment 1_AutoML.ipynb",
      "provenance": []
    },
    "kernelspec": {
      "display_name": "Python 3 (ipykernel)",
      "language": "python",
      "name": "python3"
    },
    "language_info": {
      "codemirror_mode": {
        "name": "ipython",
        "version": 3
      },
      "file_extension": ".py",
      "mimetype": "text/x-python",
      "name": "python",
      "nbconvert_exporter": "python",
      "pygments_lexer": "ipython3",
      "version": "3.9.7"
    }
  },
  "nbformat": 4,
  "nbformat_minor": 0
}