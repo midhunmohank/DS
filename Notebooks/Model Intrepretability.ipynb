{
 "cells": [
  {
   "cell_type": "markdown",
   "metadata": {},
   "source": [
    "## Model Interpretability"
   ]
  },
  {
   "cell_type": "markdown",
   "metadata": {},
   "source": [
    "The following tasks are to be completed in the assignement:\n",
    "\n",
    "1. Fit a linear model and interpret the regression coefficients\n",
    "\n",
    "2. Fit a tree-based model and interpret the nodes\n",
    "\n",
    "3.  Use auto ml to find the best model\n",
    "\n",
    "4. Run SHAP analysis on the models from steps 1, 2, and 3,   interpret the SHAP values and compare them with the other model interpretability methods."
   ]
  },
  {
   "cell_type": "markdown",
   "metadata": {},
   "source": [
    "### Importing and Cleaning the Dataset\n"
   ]
  },
  {
   "cell_type": "code",
   "execution_count": 1,
   "metadata": {},
   "outputs": [],
   "source": [
    "# Required Libraries\n",
    "import pandas as pd"
   ]
  },
  {
   "cell_type": "code",
   "execution_count": 6,
   "metadata": {},
   "outputs": [],
   "source": [
    "# Dataset is hosted on my github repository\n",
    "url = \"https://raw.githubusercontent.com/midhunmohank/DS/master/Datasets/AB_NYC_2019.csv\"\n",
    "df = pd.read_csv(url)"
   ]
  },
  {
   "cell_type": "code",
   "execution_count": null,
   "metadata": {},
   "outputs": [],
   "source": [
    "import numpy as np\n",
    "from sklearn import linear_model\n",
    "from sklearn.model_selection import train_test_split"
   ]
  },
  {
   "cell_type": "code",
   "execution_count": 8,
   "metadata": {},
   "outputs": [
    {
     "data": {
      "text/html": [
       "<div>\n",
       "<style scoped>\n",
       "    .dataframe tbody tr th:only-of-type {\n",
       "        vertical-align: middle;\n",
       "    }\n",
       "\n",
       "    .dataframe tbody tr th {\n",
       "        vertical-align: top;\n",
       "    }\n",
       "\n",
       "    .dataframe thead th {\n",
       "        text-align: right;\n",
       "    }\n",
       "</style>\n",
       "<table border=\"1\" class=\"dataframe\">\n",
       "  <thead>\n",
       "    <tr style=\"text-align: right;\">\n",
       "      <th></th>\n",
       "      <th>id</th>\n",
       "      <th>name</th>\n",
       "      <th>host_id</th>\n",
       "      <th>host_name</th>\n",
       "      <th>neighbourhood_group</th>\n",
       "      <th>neighbourhood</th>\n",
       "      <th>latitude</th>\n",
       "      <th>longitude</th>\n",
       "      <th>room_type</th>\n",
       "      <th>price</th>\n",
       "      <th>minimum_nights</th>\n",
       "      <th>number_of_reviews</th>\n",
       "      <th>last_review</th>\n",
       "      <th>reviews_per_month</th>\n",
       "      <th>calculated_host_listings_count</th>\n",
       "      <th>availability_365</th>\n",
       "    </tr>\n",
       "  </thead>\n",
       "  <tbody>\n",
       "    <tr>\n",
       "      <th>0</th>\n",
       "      <td>2539</td>\n",
       "      <td>Clean &amp; quiet apt home by the park</td>\n",
       "      <td>2787</td>\n",
       "      <td>John</td>\n",
       "      <td>Brooklyn</td>\n",
       "      <td>Kensington</td>\n",
       "      <td>40.64749</td>\n",
       "      <td>-73.97237</td>\n",
       "      <td>Private room</td>\n",
       "      <td>149</td>\n",
       "      <td>1</td>\n",
       "      <td>9</td>\n",
       "      <td>2018-10-19</td>\n",
       "      <td>0.21</td>\n",
       "      <td>6</td>\n",
       "      <td>365</td>\n",
       "    </tr>\n",
       "    <tr>\n",
       "      <th>1</th>\n",
       "      <td>2595</td>\n",
       "      <td>Skylit Midtown Castle</td>\n",
       "      <td>2845</td>\n",
       "      <td>Jennifer</td>\n",
       "      <td>Manhattan</td>\n",
       "      <td>Midtown</td>\n",
       "      <td>40.75362</td>\n",
       "      <td>-73.98377</td>\n",
       "      <td>Entire home/apt</td>\n",
       "      <td>225</td>\n",
       "      <td>1</td>\n",
       "      <td>45</td>\n",
       "      <td>2019-05-21</td>\n",
       "      <td>0.38</td>\n",
       "      <td>2</td>\n",
       "      <td>355</td>\n",
       "    </tr>\n",
       "    <tr>\n",
       "      <th>2</th>\n",
       "      <td>3647</td>\n",
       "      <td>THE VILLAGE OF HARLEM....NEW YORK !</td>\n",
       "      <td>4632</td>\n",
       "      <td>Elisabeth</td>\n",
       "      <td>Manhattan</td>\n",
       "      <td>Harlem</td>\n",
       "      <td>40.80902</td>\n",
       "      <td>-73.94190</td>\n",
       "      <td>Private room</td>\n",
       "      <td>150</td>\n",
       "      <td>3</td>\n",
       "      <td>0</td>\n",
       "      <td>NaN</td>\n",
       "      <td>NaN</td>\n",
       "      <td>1</td>\n",
       "      <td>365</td>\n",
       "    </tr>\n",
       "    <tr>\n",
       "      <th>3</th>\n",
       "      <td>3831</td>\n",
       "      <td>Cozy Entire Floor of Brownstone</td>\n",
       "      <td>4869</td>\n",
       "      <td>LisaRoxanne</td>\n",
       "      <td>Brooklyn</td>\n",
       "      <td>Clinton Hill</td>\n",
       "      <td>40.68514</td>\n",
       "      <td>-73.95976</td>\n",
       "      <td>Entire home/apt</td>\n",
       "      <td>89</td>\n",
       "      <td>1</td>\n",
       "      <td>270</td>\n",
       "      <td>2019-07-05</td>\n",
       "      <td>4.64</td>\n",
       "      <td>1</td>\n",
       "      <td>194</td>\n",
       "    </tr>\n",
       "    <tr>\n",
       "      <th>4</th>\n",
       "      <td>5022</td>\n",
       "      <td>Entire Apt: Spacious Studio/Loft by central park</td>\n",
       "      <td>7192</td>\n",
       "      <td>Laura</td>\n",
       "      <td>Manhattan</td>\n",
       "      <td>East Harlem</td>\n",
       "      <td>40.79851</td>\n",
       "      <td>-73.94399</td>\n",
       "      <td>Entire home/apt</td>\n",
       "      <td>80</td>\n",
       "      <td>10</td>\n",
       "      <td>9</td>\n",
       "      <td>2018-11-19</td>\n",
       "      <td>0.10</td>\n",
       "      <td>1</td>\n",
       "      <td>0</td>\n",
       "    </tr>\n",
       "  </tbody>\n",
       "</table>\n",
       "</div>"
      ],
      "text/plain": [
       "     id                                              name  host_id  \\\n",
       "0  2539                Clean & quiet apt home by the park     2787   \n",
       "1  2595                             Skylit Midtown Castle     2845   \n",
       "2  3647               THE VILLAGE OF HARLEM....NEW YORK !     4632   \n",
       "3  3831                   Cozy Entire Floor of Brownstone     4869   \n",
       "4  5022  Entire Apt: Spacious Studio/Loft by central park     7192   \n",
       "\n",
       "     host_name neighbourhood_group neighbourhood  latitude  longitude  \\\n",
       "0         John            Brooklyn    Kensington  40.64749  -73.97237   \n",
       "1     Jennifer           Manhattan       Midtown  40.75362  -73.98377   \n",
       "2    Elisabeth           Manhattan        Harlem  40.80902  -73.94190   \n",
       "3  LisaRoxanne            Brooklyn  Clinton Hill  40.68514  -73.95976   \n",
       "4        Laura           Manhattan   East Harlem  40.79851  -73.94399   \n",
       "\n",
       "         room_type  price  minimum_nights  number_of_reviews last_review  \\\n",
       "0     Private room    149               1                  9  2018-10-19   \n",
       "1  Entire home/apt    225               1                 45  2019-05-21   \n",
       "2     Private room    150               3                  0         NaN   \n",
       "3  Entire home/apt     89               1                270  2019-07-05   \n",
       "4  Entire home/apt     80              10                  9  2018-11-19   \n",
       "\n",
       "   reviews_per_month  calculated_host_listings_count  availability_365  \n",
       "0               0.21                               6               365  \n",
       "1               0.38                               2               355  \n",
       "2                NaN                               1               365  \n",
       "3               4.64                               1               194  \n",
       "4               0.10                               1                 0  "
      ]
     },
     "execution_count": 8,
     "metadata": {},
     "output_type": "execute_result"
    }
   ],
   "source": [
    "df.head()"
   ]
  },
  {
   "cell_type": "code",
   "execution_count": 9,
   "metadata": {},
   "outputs": [
    {
     "data": {
      "text/html": [
       "<div>\n",
       "<style scoped>\n",
       "    .dataframe tbody tr th:only-of-type {\n",
       "        vertical-align: middle;\n",
       "    }\n",
       "\n",
       "    .dataframe tbody tr th {\n",
       "        vertical-align: top;\n",
       "    }\n",
       "\n",
       "    .dataframe thead th {\n",
       "        text-align: right;\n",
       "    }\n",
       "</style>\n",
       "<table border=\"1\" class=\"dataframe\">\n",
       "  <thead>\n",
       "    <tr style=\"text-align: right;\">\n",
       "      <th></th>\n",
       "      <th>id</th>\n",
       "      <th>host_id</th>\n",
       "      <th>latitude</th>\n",
       "      <th>longitude</th>\n",
       "      <th>price</th>\n",
       "      <th>minimum_nights</th>\n",
       "      <th>number_of_reviews</th>\n",
       "      <th>reviews_per_month</th>\n",
       "      <th>calculated_host_listings_count</th>\n",
       "      <th>availability_365</th>\n",
       "    </tr>\n",
       "  </thead>\n",
       "  <tbody>\n",
       "    <tr>\n",
       "      <th>count</th>\n",
       "      <td>4.889500e+04</td>\n",
       "      <td>4.889500e+04</td>\n",
       "      <td>48895.000000</td>\n",
       "      <td>48895.000000</td>\n",
       "      <td>48895.000000</td>\n",
       "      <td>48895.000000</td>\n",
       "      <td>48895.000000</td>\n",
       "      <td>38843.000000</td>\n",
       "      <td>48895.000000</td>\n",
       "      <td>48895.000000</td>\n",
       "    </tr>\n",
       "    <tr>\n",
       "      <th>mean</th>\n",
       "      <td>1.901714e+07</td>\n",
       "      <td>6.762001e+07</td>\n",
       "      <td>40.728949</td>\n",
       "      <td>-73.952170</td>\n",
       "      <td>152.720687</td>\n",
       "      <td>7.029962</td>\n",
       "      <td>23.274466</td>\n",
       "      <td>1.373221</td>\n",
       "      <td>7.143982</td>\n",
       "      <td>112.781327</td>\n",
       "    </tr>\n",
       "    <tr>\n",
       "      <th>std</th>\n",
       "      <td>1.098311e+07</td>\n",
       "      <td>7.861097e+07</td>\n",
       "      <td>0.054530</td>\n",
       "      <td>0.046157</td>\n",
       "      <td>240.154170</td>\n",
       "      <td>20.510550</td>\n",
       "      <td>44.550582</td>\n",
       "      <td>1.680442</td>\n",
       "      <td>32.952519</td>\n",
       "      <td>131.622289</td>\n",
       "    </tr>\n",
       "    <tr>\n",
       "      <th>min</th>\n",
       "      <td>2.539000e+03</td>\n",
       "      <td>2.438000e+03</td>\n",
       "      <td>40.499790</td>\n",
       "      <td>-74.244420</td>\n",
       "      <td>0.000000</td>\n",
       "      <td>1.000000</td>\n",
       "      <td>0.000000</td>\n",
       "      <td>0.010000</td>\n",
       "      <td>1.000000</td>\n",
       "      <td>0.000000</td>\n",
       "    </tr>\n",
       "    <tr>\n",
       "      <th>25%</th>\n",
       "      <td>9.471945e+06</td>\n",
       "      <td>7.822033e+06</td>\n",
       "      <td>40.690100</td>\n",
       "      <td>-73.983070</td>\n",
       "      <td>69.000000</td>\n",
       "      <td>1.000000</td>\n",
       "      <td>1.000000</td>\n",
       "      <td>0.190000</td>\n",
       "      <td>1.000000</td>\n",
       "      <td>0.000000</td>\n",
       "    </tr>\n",
       "    <tr>\n",
       "      <th>50%</th>\n",
       "      <td>1.967728e+07</td>\n",
       "      <td>3.079382e+07</td>\n",
       "      <td>40.723070</td>\n",
       "      <td>-73.955680</td>\n",
       "      <td>106.000000</td>\n",
       "      <td>3.000000</td>\n",
       "      <td>5.000000</td>\n",
       "      <td>0.720000</td>\n",
       "      <td>1.000000</td>\n",
       "      <td>45.000000</td>\n",
       "    </tr>\n",
       "    <tr>\n",
       "      <th>75%</th>\n",
       "      <td>2.915218e+07</td>\n",
       "      <td>1.074344e+08</td>\n",
       "      <td>40.763115</td>\n",
       "      <td>-73.936275</td>\n",
       "      <td>175.000000</td>\n",
       "      <td>5.000000</td>\n",
       "      <td>24.000000</td>\n",
       "      <td>2.020000</td>\n",
       "      <td>2.000000</td>\n",
       "      <td>227.000000</td>\n",
       "    </tr>\n",
       "    <tr>\n",
       "      <th>max</th>\n",
       "      <td>3.648724e+07</td>\n",
       "      <td>2.743213e+08</td>\n",
       "      <td>40.913060</td>\n",
       "      <td>-73.712990</td>\n",
       "      <td>10000.000000</td>\n",
       "      <td>1250.000000</td>\n",
       "      <td>629.000000</td>\n",
       "      <td>58.500000</td>\n",
       "      <td>327.000000</td>\n",
       "      <td>365.000000</td>\n",
       "    </tr>\n",
       "  </tbody>\n",
       "</table>\n",
       "</div>"
      ],
      "text/plain": [
       "                 id       host_id      latitude     longitude         price  \\\n",
       "count  4.889500e+04  4.889500e+04  48895.000000  48895.000000  48895.000000   \n",
       "mean   1.901714e+07  6.762001e+07     40.728949    -73.952170    152.720687   \n",
       "std    1.098311e+07  7.861097e+07      0.054530      0.046157    240.154170   \n",
       "min    2.539000e+03  2.438000e+03     40.499790    -74.244420      0.000000   \n",
       "25%    9.471945e+06  7.822033e+06     40.690100    -73.983070     69.000000   \n",
       "50%    1.967728e+07  3.079382e+07     40.723070    -73.955680    106.000000   \n",
       "75%    2.915218e+07  1.074344e+08     40.763115    -73.936275    175.000000   \n",
       "max    3.648724e+07  2.743213e+08     40.913060    -73.712990  10000.000000   \n",
       "\n",
       "       minimum_nights  number_of_reviews  reviews_per_month  \\\n",
       "count    48895.000000       48895.000000       38843.000000   \n",
       "mean         7.029962          23.274466           1.373221   \n",
       "std         20.510550          44.550582           1.680442   \n",
       "min          1.000000           0.000000           0.010000   \n",
       "25%          1.000000           1.000000           0.190000   \n",
       "50%          3.000000           5.000000           0.720000   \n",
       "75%          5.000000          24.000000           2.020000   \n",
       "max       1250.000000         629.000000          58.500000   \n",
       "\n",
       "       calculated_host_listings_count  availability_365  \n",
       "count                    48895.000000      48895.000000  \n",
       "mean                         7.143982        112.781327  \n",
       "std                         32.952519        131.622289  \n",
       "min                          1.000000          0.000000  \n",
       "25%                          1.000000          0.000000  \n",
       "50%                          1.000000         45.000000  \n",
       "75%                          2.000000        227.000000  \n",
       "max                        327.000000        365.000000  "
      ]
     },
     "execution_count": 9,
     "metadata": {},
     "output_type": "execute_result"
    }
   ],
   "source": [
    "df.describe()"
   ]
  },
  {
   "cell_type": "code",
   "execution_count": 10,
   "metadata": {},
   "outputs": [],
   "source": [
    "#Dropping irrelevant columns\n",
    "df.drop(['latitude','longitude','last_review','id','name','host_id','host_name'],axis= 1, inplace= True)"
   ]
  },
  {
   "cell_type": "code",
   "execution_count": 11,
   "metadata": {},
   "outputs": [
    {
     "data": {
      "text/html": [
       "<div>\n",
       "<style scoped>\n",
       "    .dataframe tbody tr th:only-of-type {\n",
       "        vertical-align: middle;\n",
       "    }\n",
       "\n",
       "    .dataframe tbody tr th {\n",
       "        vertical-align: top;\n",
       "    }\n",
       "\n",
       "    .dataframe thead th {\n",
       "        text-align: right;\n",
       "    }\n",
       "</style>\n",
       "<table border=\"1\" class=\"dataframe\">\n",
       "  <thead>\n",
       "    <tr style=\"text-align: right;\">\n",
       "      <th></th>\n",
       "      <th>price</th>\n",
       "      <th>minimum_nights</th>\n",
       "      <th>number_of_reviews</th>\n",
       "      <th>reviews_per_month</th>\n",
       "      <th>calculated_host_listings_count</th>\n",
       "      <th>availability_365</th>\n",
       "    </tr>\n",
       "  </thead>\n",
       "  <tbody>\n",
       "    <tr>\n",
       "      <th>count</th>\n",
       "      <td>48895.000000</td>\n",
       "      <td>48895.000000</td>\n",
       "      <td>48895.000000</td>\n",
       "      <td>38843.000000</td>\n",
       "      <td>48895.000000</td>\n",
       "      <td>48895.000000</td>\n",
       "    </tr>\n",
       "    <tr>\n",
       "      <th>mean</th>\n",
       "      <td>152.720687</td>\n",
       "      <td>7.029962</td>\n",
       "      <td>23.274466</td>\n",
       "      <td>1.373221</td>\n",
       "      <td>7.143982</td>\n",
       "      <td>112.781327</td>\n",
       "    </tr>\n",
       "    <tr>\n",
       "      <th>std</th>\n",
       "      <td>240.154170</td>\n",
       "      <td>20.510550</td>\n",
       "      <td>44.550582</td>\n",
       "      <td>1.680442</td>\n",
       "      <td>32.952519</td>\n",
       "      <td>131.622289</td>\n",
       "    </tr>\n",
       "    <tr>\n",
       "      <th>min</th>\n",
       "      <td>0.000000</td>\n",
       "      <td>1.000000</td>\n",
       "      <td>0.000000</td>\n",
       "      <td>0.010000</td>\n",
       "      <td>1.000000</td>\n",
       "      <td>0.000000</td>\n",
       "    </tr>\n",
       "    <tr>\n",
       "      <th>25%</th>\n",
       "      <td>69.000000</td>\n",
       "      <td>1.000000</td>\n",
       "      <td>1.000000</td>\n",
       "      <td>0.190000</td>\n",
       "      <td>1.000000</td>\n",
       "      <td>0.000000</td>\n",
       "    </tr>\n",
       "    <tr>\n",
       "      <th>50%</th>\n",
       "      <td>106.000000</td>\n",
       "      <td>3.000000</td>\n",
       "      <td>5.000000</td>\n",
       "      <td>0.720000</td>\n",
       "      <td>1.000000</td>\n",
       "      <td>45.000000</td>\n",
       "    </tr>\n",
       "    <tr>\n",
       "      <th>75%</th>\n",
       "      <td>175.000000</td>\n",
       "      <td>5.000000</td>\n",
       "      <td>24.000000</td>\n",
       "      <td>2.020000</td>\n",
       "      <td>2.000000</td>\n",
       "      <td>227.000000</td>\n",
       "    </tr>\n",
       "    <tr>\n",
       "      <th>max</th>\n",
       "      <td>10000.000000</td>\n",
       "      <td>1250.000000</td>\n",
       "      <td>629.000000</td>\n",
       "      <td>58.500000</td>\n",
       "      <td>327.000000</td>\n",
       "      <td>365.000000</td>\n",
       "    </tr>\n",
       "  </tbody>\n",
       "</table>\n",
       "</div>"
      ],
      "text/plain": [
       "              price  minimum_nights  number_of_reviews  reviews_per_month  \\\n",
       "count  48895.000000    48895.000000       48895.000000       38843.000000   \n",
       "mean     152.720687        7.029962          23.274466           1.373221   \n",
       "std      240.154170       20.510550          44.550582           1.680442   \n",
       "min        0.000000        1.000000           0.000000           0.010000   \n",
       "25%       69.000000        1.000000           1.000000           0.190000   \n",
       "50%      106.000000        3.000000           5.000000           0.720000   \n",
       "75%      175.000000        5.000000          24.000000           2.020000   \n",
       "max    10000.000000     1250.000000         629.000000          58.500000   \n",
       "\n",
       "       calculated_host_listings_count  availability_365  \n",
       "count                    48895.000000      48895.000000  \n",
       "mean                         7.143982        112.781327  \n",
       "std                         32.952519        131.622289  \n",
       "min                          1.000000          0.000000  \n",
       "25%                          1.000000          0.000000  \n",
       "50%                          1.000000         45.000000  \n",
       "75%                          2.000000        227.000000  \n",
       "max                        327.000000        365.000000  "
      ]
     },
     "execution_count": 11,
     "metadata": {},
     "output_type": "execute_result"
    }
   ],
   "source": [
    "df.describe()"
   ]
  },
  {
   "cell_type": "code",
   "execution_count": 12,
   "metadata": {},
   "outputs": [
    {
     "data": {
      "text/html": [
       "<div>\n",
       "<style scoped>\n",
       "    .dataframe tbody tr th:only-of-type {\n",
       "        vertical-align: middle;\n",
       "    }\n",
       "\n",
       "    .dataframe tbody tr th {\n",
       "        vertical-align: top;\n",
       "    }\n",
       "\n",
       "    .dataframe thead th {\n",
       "        text-align: right;\n",
       "    }\n",
       "</style>\n",
       "<table border=\"1\" class=\"dataframe\">\n",
       "  <thead>\n",
       "    <tr style=\"text-align: right;\">\n",
       "      <th></th>\n",
       "      <th>neighbourhood_group</th>\n",
       "      <th>neighbourhood</th>\n",
       "      <th>room_type</th>\n",
       "      <th>price</th>\n",
       "      <th>minimum_nights</th>\n",
       "      <th>number_of_reviews</th>\n",
       "      <th>reviews_per_month</th>\n",
       "      <th>calculated_host_listings_count</th>\n",
       "      <th>availability_365</th>\n",
       "    </tr>\n",
       "  </thead>\n",
       "  <tbody>\n",
       "    <tr>\n",
       "      <th>0</th>\n",
       "      <td>Brooklyn</td>\n",
       "      <td>Kensington</td>\n",
       "      <td>Private room</td>\n",
       "      <td>149</td>\n",
       "      <td>1</td>\n",
       "      <td>9</td>\n",
       "      <td>0.21</td>\n",
       "      <td>6</td>\n",
       "      <td>365</td>\n",
       "    </tr>\n",
       "    <tr>\n",
       "      <th>1</th>\n",
       "      <td>Manhattan</td>\n",
       "      <td>Midtown</td>\n",
       "      <td>Entire home/apt</td>\n",
       "      <td>225</td>\n",
       "      <td>1</td>\n",
       "      <td>45</td>\n",
       "      <td>0.38</td>\n",
       "      <td>2</td>\n",
       "      <td>355</td>\n",
       "    </tr>\n",
       "    <tr>\n",
       "      <th>2</th>\n",
       "      <td>Manhattan</td>\n",
       "      <td>Harlem</td>\n",
       "      <td>Private room</td>\n",
       "      <td>150</td>\n",
       "      <td>3</td>\n",
       "      <td>0</td>\n",
       "      <td>NaN</td>\n",
       "      <td>1</td>\n",
       "      <td>365</td>\n",
       "    </tr>\n",
       "    <tr>\n",
       "      <th>3</th>\n",
       "      <td>Brooklyn</td>\n",
       "      <td>Clinton Hill</td>\n",
       "      <td>Entire home/apt</td>\n",
       "      <td>89</td>\n",
       "      <td>1</td>\n",
       "      <td>270</td>\n",
       "      <td>4.64</td>\n",
       "      <td>1</td>\n",
       "      <td>194</td>\n",
       "    </tr>\n",
       "    <tr>\n",
       "      <th>4</th>\n",
       "      <td>Manhattan</td>\n",
       "      <td>East Harlem</td>\n",
       "      <td>Entire home/apt</td>\n",
       "      <td>80</td>\n",
       "      <td>10</td>\n",
       "      <td>9</td>\n",
       "      <td>0.10</td>\n",
       "      <td>1</td>\n",
       "      <td>0</td>\n",
       "    </tr>\n",
       "  </tbody>\n",
       "</table>\n",
       "</div>"
      ],
      "text/plain": [
       "  neighbourhood_group neighbourhood        room_type  price  minimum_nights  \\\n",
       "0            Brooklyn    Kensington     Private room    149               1   \n",
       "1           Manhattan       Midtown  Entire home/apt    225               1   \n",
       "2           Manhattan        Harlem     Private room    150               3   \n",
       "3            Brooklyn  Clinton Hill  Entire home/apt     89               1   \n",
       "4           Manhattan   East Harlem  Entire home/apt     80              10   \n",
       "\n",
       "   number_of_reviews  reviews_per_month  calculated_host_listings_count  \\\n",
       "0                  9               0.21                               6   \n",
       "1                 45               0.38                               2   \n",
       "2                  0                NaN                               1   \n",
       "3                270               4.64                               1   \n",
       "4                  9               0.10                               1   \n",
       "\n",
       "   availability_365  \n",
       "0               365  \n",
       "1               355  \n",
       "2               365  \n",
       "3               194  \n",
       "4                 0  "
      ]
     },
     "execution_count": 12,
     "metadata": {},
     "output_type": "execute_result"
    }
   ],
   "source": [
    "df.head()"
   ]
  },
  {
   "cell_type": "code",
   "execution_count": 13,
   "metadata": {},
   "outputs": [
    {
     "name": "stdout",
     "output_type": "stream",
     "text": [
      "<class 'pandas.core.frame.DataFrame'>\n",
      "RangeIndex: 48895 entries, 0 to 48894\n",
      "Data columns (total 9 columns):\n",
      " #   Column                          Non-Null Count  Dtype  \n",
      "---  ------                          --------------  -----  \n",
      " 0   neighbourhood_group             48895 non-null  object \n",
      " 1   neighbourhood                   48895 non-null  object \n",
      " 2   room_type                       48895 non-null  object \n",
      " 3   price                           48895 non-null  int64  \n",
      " 4   minimum_nights                  48895 non-null  int64  \n",
      " 5   number_of_reviews               48895 non-null  int64  \n",
      " 6   reviews_per_month               38843 non-null  float64\n",
      " 7   calculated_host_listings_count  48895 non-null  int64  \n",
      " 8   availability_365                48895 non-null  int64  \n",
      "dtypes: float64(1), int64(5), object(3)\n",
      "memory usage: 3.4+ MB\n"
     ]
    }
   ],
   "source": [
    "df.info()"
   ]
  },
  {
   "cell_type": "code",
   "execution_count": 14,
   "metadata": {},
   "outputs": [
    {
     "data": {
      "text/plain": [
       "neighbourhood_group                   0\n",
       "neighbourhood                         0\n",
       "room_type                             0\n",
       "price                                 0\n",
       "minimum_nights                        0\n",
       "number_of_reviews                     0\n",
       "reviews_per_month                 10052\n",
       "calculated_host_listings_count        0\n",
       "availability_365                      0\n",
       "dtype: int64"
      ]
     },
     "execution_count": 14,
     "metadata": {},
     "output_type": "execute_result"
    }
   ],
   "source": [
    "df.isna().sum()"
   ]
  },
  {
   "cell_type": "code",
   "execution_count": 15,
   "metadata": {},
   "outputs": [],
   "source": [
    "#Enoding the categorical variables with cat.codes\n",
    "\n",
    "df['room_type'] = df['room_type'].astype('category').cat.codes\n"
   ]
  },
  {
   "cell_type": "code",
   "execution_count": 16,
   "metadata": {},
   "outputs": [],
   "source": [
    "df['neighbourhood_group'] = df['neighbourhood_group'].astype('category').cat.codes"
   ]
  },
  {
   "cell_type": "code",
   "execution_count": 17,
   "metadata": {},
   "outputs": [],
   "source": [
    "df['neighbourhood'] = df['neighbourhood'].astype('category').cat.codes"
   ]
  },
  {
   "cell_type": "code",
   "execution_count": 18,
   "metadata": {},
   "outputs": [
    {
     "data": {
      "text/plain": [
       "neighbourhood_group                   0\n",
       "neighbourhood                         0\n",
       "room_type                             0\n",
       "price                                 0\n",
       "minimum_nights                        0\n",
       "number_of_reviews                     0\n",
       "reviews_per_month                 10052\n",
       "calculated_host_listings_count        0\n",
       "availability_365                      0\n",
       "dtype: int64"
      ]
     },
     "execution_count": 18,
     "metadata": {},
     "output_type": "execute_result"
    }
   ],
   "source": [
    "df.isna().sum()"
   ]
  },
  {
   "cell_type": "code",
   "execution_count": 19,
   "metadata": {},
   "outputs": [],
   "source": [
    "df.fillna(df.median(), inplace=True)"
   ]
  },
  {
   "cell_type": "code",
   "execution_count": 20,
   "metadata": {},
   "outputs": [
    {
     "data": {
      "text/plain": [
       "Index(['neighbourhood_group', 'neighbourhood', 'room_type', 'price',\n",
       "       'minimum_nights', 'number_of_reviews', 'reviews_per_month',\n",
       "       'calculated_host_listings_count', 'availability_365'],\n",
       "      dtype='object')"
      ]
     },
     "execution_count": 20,
     "metadata": {},
     "output_type": "execute_result"
    }
   ],
   "source": [
    "df.columns"
   ]
  },
  {
   "cell_type": "code",
   "execution_count": 21,
   "metadata": {},
   "outputs": [],
   "source": [
    "target = df[\"price\"]"
   ]
  },
  {
   "cell_type": "code",
   "execution_count": 22,
   "metadata": {},
   "outputs": [
    {
     "data": {
      "text/plain": [
       "(48895,)"
      ]
     },
     "execution_count": 22,
     "metadata": {},
     "output_type": "execute_result"
    }
   ],
   "source": [
    "target.shape"
   ]
  },
  {
   "cell_type": "code",
   "execution_count": 23,
   "metadata": {},
   "outputs": [],
   "source": [
    "features = df[['neighbourhood_group', 'neighbourhood', 'room_type',\n",
    "       'minimum_nights', 'number_of_reviews', 'reviews_per_month',\n",
    "       'calculated_host_listings_count', 'availability_365']]"
   ]
  },
  {
   "cell_type": "code",
   "execution_count": 24,
   "metadata": {},
   "outputs": [
    {
     "data": {
      "text/plain": [
       "(48895, 8)"
      ]
     },
     "execution_count": 24,
     "metadata": {},
     "output_type": "execute_result"
    }
   ],
   "source": [
    "features.shape"
   ]
  },
  {
   "cell_type": "code",
   "execution_count": 25,
   "metadata": {},
   "outputs": [],
   "source": [
    "datasetClean = pd.concat([features,target], axis = 1, join = 'inner')"
   ]
  },
  {
   "cell_type": "code",
   "execution_count": 26,
   "metadata": {},
   "outputs": [
    {
     "data": {
      "text/plain": [
       "(48895, 9)"
      ]
     },
     "execution_count": 26,
     "metadata": {},
     "output_type": "execute_result"
    }
   ],
   "source": [
    "datasetClean.shape"
   ]
  },
  {
   "cell_type": "code",
   "execution_count": 27,
   "metadata": {},
   "outputs": [
    {
     "data": {
      "text/plain": [
       "neighbourhood_group               0\n",
       "neighbourhood                     0\n",
       "room_type                         0\n",
       "minimum_nights                    0\n",
       "number_of_reviews                 0\n",
       "reviews_per_month                 0\n",
       "calculated_host_listings_count    0\n",
       "availability_365                  0\n",
       "price                             0\n",
       "dtype: int64"
      ]
     },
     "execution_count": 27,
     "metadata": {},
     "output_type": "execute_result"
    }
   ],
   "source": [
    "datasetClean.isna().sum()"
   ]
  },
  {
   "cell_type": "code",
   "execution_count": 28,
   "metadata": {},
   "outputs": [
    {
     "data": {
      "text/plain": [
       "(48895, 9)"
      ]
     },
     "execution_count": 28,
     "metadata": {},
     "output_type": "execute_result"
    }
   ],
   "source": [
    "datasetClean.shape"
   ]
  },
  {
   "cell_type": "code",
   "execution_count": 29,
   "metadata": {},
   "outputs": [
    {
     "data": {
      "text/plain": [
       "neighbourhood_group               0\n",
       "neighbourhood                     0\n",
       "room_type                         0\n",
       "minimum_nights                    0\n",
       "number_of_reviews                 0\n",
       "reviews_per_month                 0\n",
       "calculated_host_listings_count    0\n",
       "availability_365                  0\n",
       "price                             0\n",
       "dtype: int64"
      ]
     },
     "execution_count": 29,
     "metadata": {},
     "output_type": "execute_result"
    }
   ],
   "source": [
    "datasetClean.isna().sum()"
   ]
  },
  {
   "cell_type": "code",
   "execution_count": 30,
   "metadata": {},
   "outputs": [
    {
     "data": {
      "text/plain": [
       "(48895,)"
      ]
     },
     "execution_count": 30,
     "metadata": {},
     "output_type": "execute_result"
    }
   ],
   "source": [
    "target.shape"
   ]
  },
  {
   "cell_type": "code",
   "execution_count": 31,
   "metadata": {},
   "outputs": [
    {
     "data": {
      "text/plain": [
       "(48895, 8)"
      ]
     },
     "execution_count": 31,
     "metadata": {},
     "output_type": "execute_result"
    }
   ],
   "source": [
    "features.shape"
   ]
  },
  {
   "cell_type": "code",
   "execution_count": 32,
   "metadata": {},
   "outputs": [],
   "source": [
    "df = df.reset_index()"
   ]
  },
  {
   "cell_type": "code",
   "execution_count": 33,
   "metadata": {},
   "outputs": [],
   "source": [
    "df.replace([np.inf, -np.inf], np.nan, inplace=True)"
   ]
  },
  {
   "cell_type": "code",
   "execution_count": 34,
   "metadata": {},
   "outputs": [],
   "source": [
    "X_train, X_test, y_train, y_test = train_test_split(features, target, test_size=0.33, random_state=42)"
   ]
  },
  {
   "cell_type": "markdown",
   "metadata": {},
   "source": []
  },
  {
   "cell_type": "code",
   "execution_count": 35,
   "metadata": {},
   "outputs": [
    {
     "data": {
      "text/html": [
       "<div>\n",
       "<style scoped>\n",
       "    .dataframe tbody tr th:only-of-type {\n",
       "        vertical-align: middle;\n",
       "    }\n",
       "\n",
       "    .dataframe tbody tr th {\n",
       "        vertical-align: top;\n",
       "    }\n",
       "\n",
       "    .dataframe thead th {\n",
       "        text-align: right;\n",
       "    }\n",
       "</style>\n",
       "<table border=\"1\" class=\"dataframe\">\n",
       "  <thead>\n",
       "    <tr style=\"text-align: right;\">\n",
       "      <th></th>\n",
       "      <th>neighbourhood_group</th>\n",
       "      <th>neighbourhood</th>\n",
       "      <th>room_type</th>\n",
       "      <th>minimum_nights</th>\n",
       "      <th>number_of_reviews</th>\n",
       "      <th>reviews_per_month</th>\n",
       "      <th>calculated_host_listings_count</th>\n",
       "      <th>availability_365</th>\n",
       "    </tr>\n",
       "  </thead>\n",
       "  <tbody>\n",
       "    <tr>\n",
       "      <th>35706</th>\n",
       "      <td>1</td>\n",
       "      <td>28</td>\n",
       "      <td>1</td>\n",
       "      <td>1</td>\n",
       "      <td>28</td>\n",
       "      <td>2.75</td>\n",
       "      <td>1</td>\n",
       "      <td>36</td>\n",
       "    </tr>\n",
       "    <tr>\n",
       "      <th>2434</th>\n",
       "      <td>2</td>\n",
       "      <td>95</td>\n",
       "      <td>1</td>\n",
       "      <td>4</td>\n",
       "      <td>77</td>\n",
       "      <td>1.81</td>\n",
       "      <td>1</td>\n",
       "      <td>21</td>\n",
       "    </tr>\n",
       "    <tr>\n",
       "      <th>44725</th>\n",
       "      <td>2</td>\n",
       "      <td>127</td>\n",
       "      <td>0</td>\n",
       "      <td>5</td>\n",
       "      <td>2</td>\n",
       "      <td>1.00</td>\n",
       "      <td>1</td>\n",
       "      <td>132</td>\n",
       "    </tr>\n",
       "    <tr>\n",
       "      <th>32341</th>\n",
       "      <td>2</td>\n",
       "      <td>201</td>\n",
       "      <td>0</td>\n",
       "      <td>4</td>\n",
       "      <td>58</td>\n",
       "      <td>4.26</td>\n",
       "      <td>1</td>\n",
       "      <td>158</td>\n",
       "    </tr>\n",
       "    <tr>\n",
       "      <th>9648</th>\n",
       "      <td>1</td>\n",
       "      <td>214</td>\n",
       "      <td>0</td>\n",
       "      <td>2</td>\n",
       "      <td>28</td>\n",
       "      <td>0.61</td>\n",
       "      <td>1</td>\n",
       "      <td>170</td>\n",
       "    </tr>\n",
       "  </tbody>\n",
       "</table>\n",
       "</div>"
      ],
      "text/plain": [
       "       neighbourhood_group  neighbourhood  room_type  minimum_nights  \\\n",
       "35706                    1             28          1               1   \n",
       "2434                     2             95          1               4   \n",
       "44725                    2            127          0               5   \n",
       "32341                    2            201          0               4   \n",
       "9648                     1            214          0               2   \n",
       "\n",
       "       number_of_reviews  reviews_per_month  calculated_host_listings_count  \\\n",
       "35706                 28               2.75                               1   \n",
       "2434                  77               1.81                               1   \n",
       "44725                  2               1.00                               1   \n",
       "32341                 58               4.26                               1   \n",
       "9648                  28               0.61                               1   \n",
       "\n",
       "       availability_365  \n",
       "35706                36  \n",
       "2434                 21  \n",
       "44725               132  \n",
       "32341               158  \n",
       "9648                170  "
      ]
     },
     "execution_count": 35,
     "metadata": {},
     "output_type": "execute_result"
    }
   ],
   "source": [
    "X_train.head()"
   ]
  },
  {
   "cell_type": "code",
   "execution_count": 36,
   "metadata": {},
   "outputs": [
    {
     "data": {
      "text/plain": [
       "(32759,)"
      ]
     },
     "execution_count": 36,
     "metadata": {},
     "output_type": "execute_result"
    }
   ],
   "source": [
    "y_train.shape"
   ]
  },
  {
   "cell_type": "code",
   "execution_count": 37,
   "metadata": {},
   "outputs": [],
   "source": [
    "from sklearn.linear_model import LinearRegression"
   ]
  },
  {
   "cell_type": "code",
   "execution_count": 38,
   "metadata": {},
   "outputs": [
    {
     "data": {
      "text/plain": [
       "LinearRegression()"
      ]
     },
     "execution_count": 38,
     "metadata": {},
     "output_type": "execute_result"
    }
   ],
   "source": [
    "reg = LinearRegression()\n",
    "reg.fit(X_train,y_train)\n",
    "\n",
    "#Convert categroaical variables to cat codes\n"
   ]
  },
  {
   "cell_type": "code",
   "execution_count": 39,
   "metadata": {},
   "outputs": [
    {
     "name": "stdout",
     "output_type": "stream",
     "text": [
      "[ 1.05486328e+01  1.54307734e-01 -1.09089706e+02  1.09150101e-01\n",
      " -3.05681340e-01 -1.86596492e+00  1.54723866e-02  1.77320375e-01]\n"
     ]
    }
   ],
   "source": [
    "print(reg.coef_)"
   ]
  },
  {
   "cell_type": "code",
   "execution_count": 40,
   "metadata": {},
   "outputs": [
    {
     "name": "stdout",
     "output_type": "stream",
     "text": [
      "163.56676712537106\n"
     ]
    }
   ],
   "source": [
    "print(reg.intercept_)"
   ]
  },
  {
   "cell_type": "code",
   "execution_count": 41,
   "metadata": {},
   "outputs": [],
   "source": [
    "from sklearn.metrics import mean_squared_error\n",
    "from sklearn.metrics import mean_absolute_error\n",
    "from math import sqrt\n",
    "from sklearn.metrics import r2_score"
   ]
  },
  {
   "cell_type": "code",
   "execution_count": 42,
   "metadata": {},
   "outputs": [],
   "source": [
    "#Predictions\n",
    "\n"
   ]
  },
  {
   "cell_type": "code",
   "execution_count": 43,
   "metadata": {},
   "outputs": [],
   "source": [
    "# #Checking accuracy of predictions\n",
    "# print('--Phase-1--')\n",
    "# print('MAE: %f'% mean_absolute_error(y_test, lr_pred))\n",
    "# print('RMSE: %f'% np.sqrt(mean_squared_error(y_test, lr_pred)))   \n",
    "# print('R2 %f' % r2_score(y_test, lr_pred))\n",
    "\n"
   ]
  },
  {
   "cell_type": "markdown",
   "metadata": {},
   "source": [
    "### Linear Model"
   ]
  },
  {
   "cell_type": "code",
   "execution_count": 44,
   "metadata": {},
   "outputs": [],
   "source": [
    "import statsmodels.api as sm\n",
    "\n",
    "OLS_model = sm.OLS(y_train,X_train).fit()\n",
    "\n"
   ]
  },
  {
   "cell_type": "code",
   "execution_count": 45,
   "metadata": {},
   "outputs": [
    {
     "data": {
      "text/html": [
       "<table class=\"simpletable\">\n",
       "<caption>OLS Regression Results</caption>\n",
       "<tr>\n",
       "  <th>Dep. Variable:</th>          <td>price</td>      <th>  R-squared (uncentered):</th>       <td>   0.287</td>  \n",
       "</tr>\n",
       "<tr>\n",
       "  <th>Model:</th>                   <td>OLS</td>       <th>  Adj. R-squared (uncentered):</th>  <td>   0.286</td>  \n",
       "</tr>\n",
       "<tr>\n",
       "  <th>Method:</th>             <td>Least Squares</td>  <th>  F-statistic:       </th>           <td>   1645.</td>  \n",
       "</tr>\n",
       "<tr>\n",
       "  <th>Date:</th>             <td>Sun, 24 Apr 2022</td> <th>  Prob (F-statistic):</th>            <td>  0.00</td>   \n",
       "</tr>\n",
       "<tr>\n",
       "  <th>Time:</th>                 <td>17:03:46</td>     <th>  Log-Likelihood:    </th>          <td>-2.2774e+05</td>\n",
       "</tr>\n",
       "<tr>\n",
       "  <th>No. Observations:</th>      <td> 32759</td>      <th>  AIC:               </th>           <td>4.555e+05</td> \n",
       "</tr>\n",
       "<tr>\n",
       "  <th>Df Residuals:</th>          <td> 32751</td>      <th>  BIC:               </th>           <td>4.556e+05</td> \n",
       "</tr>\n",
       "<tr>\n",
       "  <th>Df Model:</th>              <td>     8</td>      <th>                     </th>               <td> </td>     \n",
       "</tr>\n",
       "<tr>\n",
       "  <th>Covariance Type:</th>      <td>nonrobust</td>    <th>                     </th>               <td> </td>     \n",
       "</tr>\n",
       "</table>\n",
       "<table class=\"simpletable\">\n",
       "<tr>\n",
       "                 <td></td>                   <th>coef</th>     <th>std err</th>      <th>t</th>      <th>P>|t|</th>  <th>[0.025</th>    <th>0.975]</th>  \n",
       "</tr>\n",
       "<tr>\n",
       "  <th>neighbourhood_group</th>            <td>   56.0313</td> <td>    1.489</td> <td>   37.623</td> <td> 0.000</td> <td>   53.112</td> <td>   58.950</td>\n",
       "</tr>\n",
       "<tr>\n",
       "  <th>neighbourhood</th>                  <td>    0.4969</td> <td>    0.018</td> <td>   27.116</td> <td> 0.000</td> <td>    0.461</td> <td>    0.533</td>\n",
       "</tr>\n",
       "<tr>\n",
       "  <th>room_type</th>                      <td>  -77.5305</td> <td>    2.444</td> <td>  -31.725</td> <td> 0.000</td> <td>  -82.320</td> <td>  -72.741</td>\n",
       "</tr>\n",
       "<tr>\n",
       "  <th>minimum_nights</th>                 <td>    0.3535</td> <td>    0.067</td> <td>    5.264</td> <td> 0.000</td> <td>    0.222</td> <td>    0.485</td>\n",
       "</tr>\n",
       "<tr>\n",
       "  <th>number_of_reviews</th>              <td>   -0.2337</td> <td>    0.038</td> <td>   -6.089</td> <td> 0.000</td> <td>   -0.309</td> <td>   -0.159</td>\n",
       "</tr>\n",
       "<tr>\n",
       "  <th>reviews_per_month</th>              <td>    4.0524</td> <td>    1.096</td> <td>    3.696</td> <td> 0.000</td> <td>    1.903</td> <td>    6.201</td>\n",
       "</tr>\n",
       "<tr>\n",
       "  <th>calculated_host_listings_count</th> <td>    0.0307</td> <td>    0.044</td> <td>    0.699</td> <td> 0.485</td> <td>   -0.055</td> <td>    0.117</td>\n",
       "</tr>\n",
       "<tr>\n",
       "  <th>availability_365</th>               <td>    0.2457</td> <td>    0.011</td> <td>   22.046</td> <td> 0.000</td> <td>    0.224</td> <td>    0.268</td>\n",
       "</tr>\n",
       "</table>\n",
       "<table class=\"simpletable\">\n",
       "<tr>\n",
       "  <th>Omnibus:</th>       <td>71048.992</td> <th>  Durbin-Watson:     </th>   <td>   1.979</td>   \n",
       "</tr>\n",
       "<tr>\n",
       "  <th>Prob(Omnibus):</th>  <td> 0.000</td>   <th>  Jarque-Bera (JB):  </th> <td>460803624.805</td>\n",
       "</tr>\n",
       "<tr>\n",
       "  <th>Skew:</th>           <td>19.553</td>   <th>  Prob(JB):          </th>   <td>    0.00</td>   \n",
       "</tr>\n",
       "<tr>\n",
       "  <th>Kurtosis:</th>       <td>582.712</td>  <th>  Cond. No.          </th>   <td>    346.</td>   \n",
       "</tr>\n",
       "</table><br/><br/>Notes:<br/>[1] R² is computed without centering (uncentered) since the model does not contain a constant.<br/>[2] Standard Errors assume that the covariance matrix of the errors is correctly specified."
      ],
      "text/plain": [
       "<class 'statsmodels.iolib.summary.Summary'>\n",
       "\"\"\"\n",
       "                                 OLS Regression Results                                \n",
       "=======================================================================================\n",
       "Dep. Variable:                  price   R-squared (uncentered):                   0.287\n",
       "Model:                            OLS   Adj. R-squared (uncentered):              0.286\n",
       "Method:                 Least Squares   F-statistic:                              1645.\n",
       "Date:                Sun, 24 Apr 2022   Prob (F-statistic):                        0.00\n",
       "Time:                        17:03:46   Log-Likelihood:                     -2.2774e+05\n",
       "No. Observations:               32759   AIC:                                  4.555e+05\n",
       "Df Residuals:                   32751   BIC:                                  4.556e+05\n",
       "Df Model:                           8                                                  \n",
       "Covariance Type:            nonrobust                                                  \n",
       "==================================================================================================\n",
       "                                     coef    std err          t      P>|t|      [0.025      0.975]\n",
       "--------------------------------------------------------------------------------------------------\n",
       "neighbourhood_group               56.0313      1.489     37.623      0.000      53.112      58.950\n",
       "neighbourhood                      0.4969      0.018     27.116      0.000       0.461       0.533\n",
       "room_type                        -77.5305      2.444    -31.725      0.000     -82.320     -72.741\n",
       "minimum_nights                     0.3535      0.067      5.264      0.000       0.222       0.485\n",
       "number_of_reviews                 -0.2337      0.038     -6.089      0.000      -0.309      -0.159\n",
       "reviews_per_month                  4.0524      1.096      3.696      0.000       1.903       6.201\n",
       "calculated_host_listings_count     0.0307      0.044      0.699      0.485      -0.055       0.117\n",
       "availability_365                   0.2457      0.011     22.046      0.000       0.224       0.268\n",
       "==============================================================================\n",
       "Omnibus:                    71048.992   Durbin-Watson:                   1.979\n",
       "Prob(Omnibus):                  0.000   Jarque-Bera (JB):        460803624.805\n",
       "Skew:                          19.553   Prob(JB):                         0.00\n",
       "Kurtosis:                     582.712   Cond. No.                         346.\n",
       "==============================================================================\n",
       "\n",
       "Notes:\n",
       "[1] R² is computed without centering (uncentered) since the model does not contain a constant.\n",
       "[2] Standard Errors assume that the covariance matrix of the errors is correctly specified.\n",
       "\"\"\""
      ]
     },
     "execution_count": 45,
     "metadata": {},
     "output_type": "execute_result"
    }
   ],
   "source": [
    "OLS_model.summary()"
   ]
  },
  {
   "cell_type": "code",
   "execution_count": 46,
   "metadata": {},
   "outputs": [],
   "source": [
    "#Predicting the values\n",
    "lr_pred = OLS_model.predict(X_test)"
   ]
  },
  {
   "cell_type": "markdown",
   "metadata": {},
   "source": [
    "### Tree based Model"
   ]
  },
  {
   "cell_type": "code",
   "execution_count": 81,
   "metadata": {},
   "outputs": [
    {
     "name": "stdout",
     "output_type": "stream",
     "text": [
      "-0.13579095803040997\n"
     ]
    }
   ],
   "source": [
    "from sklearn.tree import DecisionTreeRegressor\n",
    "DTree=DecisionTreeRegressor(min_samples_leaf=.0001)\n",
    "DTree.fit(X_train,y_train)\n",
    "\n",
    "DTree_score = DTree.score(X_test, y_test)\n",
    "print(DTree_score)"
   ]
  },
  {
   "cell_type": "code",
   "execution_count": 82,
   "metadata": {},
   "outputs": [],
   "source": [
    "from sklearn.metrics import r2_score,mean_absolute_error\n",
    "def model_sel(model):\n",
    "    y_pred = model.predict(X_test)\n",
    "    print(\"MODEL EVALUATION\")\n",
    "    print(\"\\nr2_score of the model: \")\n",
    "    print(r2_score(y_test,y_pred))"
   ]
  },
  {
   "cell_type": "code",
   "execution_count": 83,
   "metadata": {},
   "outputs": [
    {
     "name": "stdout",
     "output_type": "stream",
     "text": [
      "DECISION TREE REGRESSION: \n",
      "-x-x-x-x-x-x-x-x-x-x-x-x-x-x-x-x-x-x-x-x-x-x-x-x-x\n",
      "MODEL EVALUATION\n",
      "\n",
      "r2_score of the model: \n",
      "-0.13579095803040997\n"
     ]
    }
   ],
   "source": [
    "# Model Evaluation on DecisionTreeRegressor\n",
    "print(\"DECISION TREE REGRESSION: \")\n",
    "print(\"-x\"*25)\n",
    "model_sel(DTree)"
   ]
  },
  {
   "cell_type": "markdown",
   "metadata": {},
   "source": [
    "## AutoML"
   ]
  },
  {
   "cell_type": "code",
   "execution_count": 60,
   "metadata": {},
   "outputs": [],
   "source": [
    "import h2o\n",
    "from h2o.automl import H2OAutoML\n"
   ]
  },
  {
   "cell_type": "code",
   "execution_count": 61,
   "metadata": {},
   "outputs": [
    {
     "name": "stdout",
     "output_type": "stream",
     "text": [
      "Checking whether there is an H2O instance running at http://localhost:54321 . connected.\n"
     ]
    },
    {
     "data": {
      "text/html": [
       "<div style=\"overflow:auto\"><table style=\"width:50%\"><tr><td>H2O_cluster_uptime:</td>\n",
       "<td>14 hours 28 mins</td></tr>\n",
       "<tr><td>H2O_cluster_timezone:</td>\n",
       "<td>America/New_York</td></tr>\n",
       "<tr><td>H2O_data_parsing_timezone:</td>\n",
       "<td>UTC</td></tr>\n",
       "<tr><td>H2O_cluster_version:</td>\n",
       "<td>3.36.1.1</td></tr>\n",
       "<tr><td>H2O_cluster_version_age:</td>\n",
       "<td>10 days </td></tr>\n",
       "<tr><td>H2O_cluster_name:</td>\n",
       "<td>H2O_from_python_midhunmohan_ej6s1p</td></tr>\n",
       "<tr><td>H2O_cluster_total_nodes:</td>\n",
       "<td>1</td></tr>\n",
       "<tr><td>H2O_cluster_free_memory:</td>\n",
       "<td>1.303 Gb</td></tr>\n",
       "<tr><td>H2O_cluster_total_cores:</td>\n",
       "<td>8</td></tr>\n",
       "<tr><td>H2O_cluster_allowed_cores:</td>\n",
       "<td>8</td></tr>\n",
       "<tr><td>H2O_cluster_status:</td>\n",
       "<td>locked, healthy</td></tr>\n",
       "<tr><td>H2O_connection_url:</td>\n",
       "<td>http://localhost:54321</td></tr>\n",
       "<tr><td>H2O_connection_proxy:</td>\n",
       "<td>{\"http\": null, \"https\": null}</td></tr>\n",
       "<tr><td>H2O_internal_security:</td>\n",
       "<td>False</td></tr>\n",
       "<tr><td>Python_version:</td>\n",
       "<td>3.8.9 final</td></tr></table></div>"
      ],
      "text/plain": [
       "--------------------------  ----------------------------------\n",
       "H2O_cluster_uptime:         14 hours 28 mins\n",
       "H2O_cluster_timezone:       America/New_York\n",
       "H2O_data_parsing_timezone:  UTC\n",
       "H2O_cluster_version:        3.36.1.1\n",
       "H2O_cluster_version_age:    10 days\n",
       "H2O_cluster_name:           H2O_from_python_midhunmohan_ej6s1p\n",
       "H2O_cluster_total_nodes:    1\n",
       "H2O_cluster_free_memory:    1.303 Gb\n",
       "H2O_cluster_total_cores:    8\n",
       "H2O_cluster_allowed_cores:  8\n",
       "H2O_cluster_status:         locked, healthy\n",
       "H2O_connection_url:         http://localhost:54321\n",
       "H2O_connection_proxy:       {\"http\": null, \"https\": null}\n",
       "H2O_internal_security:      False\n",
       "Python_version:             3.8.9 final\n",
       "--------------------------  ----------------------------------"
      ]
     },
     "metadata": {},
     "output_type": "display_data"
    }
   ],
   "source": [
    "h2o.init()"
   ]
  },
  {
   "cell_type": "code",
   "execution_count": 62,
   "metadata": {},
   "outputs": [
    {
     "data": {
      "text/plain": [
       "neighbourhood_group               0\n",
       "neighbourhood                     0\n",
       "room_type                         0\n",
       "minimum_nights                    0\n",
       "number_of_reviews                 0\n",
       "reviews_per_month                 0\n",
       "calculated_host_listings_count    0\n",
       "availability_365                  0\n",
       "price                             0\n",
       "dtype: int64"
      ]
     },
     "execution_count": 62,
     "metadata": {},
     "output_type": "execute_result"
    }
   ],
   "source": [
    "datasetClean.isna().sum()"
   ]
  },
  {
   "cell_type": "code",
   "execution_count": 63,
   "metadata": {},
   "outputs": [],
   "source": [
    "#Reducing the size of the dataset to 50% due to permormance issues with my hardware\n",
    "dataset_train = datasetClean.sample(frac=.5)\n",
    "dataset_test = datasetClean.drop(dataset_train.index)"
   ]
  },
  {
   "cell_type": "code",
   "execution_count": 76,
   "metadata": {},
   "outputs": [],
   "source": [
    "dataset_test = dataset_test.sample(frac=.5)"
   ]
  },
  {
   "cell_type": "code",
   "execution_count": 64,
   "metadata": {},
   "outputs": [
    {
     "data": {
      "text/plain": [
       "neighbourhood_group               0\n",
       "neighbourhood                     0\n",
       "room_type                         0\n",
       "minimum_nights                    0\n",
       "number_of_reviews                 0\n",
       "reviews_per_month                 0\n",
       "calculated_host_listings_count    0\n",
       "availability_365                  0\n",
       "price                             0\n",
       "dtype: int64"
      ]
     },
     "execution_count": 64,
     "metadata": {},
     "output_type": "execute_result"
    }
   ],
   "source": [
    "dataset_train.isna().sum()"
   ]
  },
  {
   "cell_type": "code",
   "execution_count": 65,
   "metadata": {},
   "outputs": [
    {
     "data": {
      "text/plain": [
       "['neighbourhood_group',\n",
       " 'neighbourhood',\n",
       " 'room_type',\n",
       " 'minimum_nights',\n",
       " 'number_of_reviews',\n",
       " 'reviews_per_month',\n",
       " 'calculated_host_listings_count',\n",
       " 'availability_365']"
      ]
     },
     "execution_count": 65,
     "metadata": {},
     "output_type": "execute_result"
    }
   ],
   "source": [
    "features_autoML = list(features.columns)\n",
    "features_autoML"
   ]
  },
  {
   "cell_type": "code",
   "execution_count": 66,
   "metadata": {},
   "outputs": [],
   "source": [
    "target_autoML = 'price'"
   ]
  },
  {
   "cell_type": "code",
   "execution_count": 67,
   "metadata": {},
   "outputs": [
    {
     "data": {
      "text/html": [
       "<div>\n",
       "<style scoped>\n",
       "    .dataframe tbody tr th:only-of-type {\n",
       "        vertical-align: middle;\n",
       "    }\n",
       "\n",
       "    .dataframe tbody tr th {\n",
       "        vertical-align: top;\n",
       "    }\n",
       "\n",
       "    .dataframe thead th {\n",
       "        text-align: right;\n",
       "    }\n",
       "</style>\n",
       "<table border=\"1\" class=\"dataframe\">\n",
       "  <thead>\n",
       "    <tr style=\"text-align: right;\">\n",
       "      <th></th>\n",
       "      <th>neighbourhood_group</th>\n",
       "      <th>neighbourhood</th>\n",
       "      <th>room_type</th>\n",
       "      <th>minimum_nights</th>\n",
       "      <th>number_of_reviews</th>\n",
       "      <th>reviews_per_month</th>\n",
       "      <th>calculated_host_listings_count</th>\n",
       "      <th>availability_365</th>\n",
       "      <th>price</th>\n",
       "    </tr>\n",
       "  </thead>\n",
       "  <tbody>\n",
       "    <tr>\n",
       "      <th>25534</th>\n",
       "      <td>1</td>\n",
       "      <td>28</td>\n",
       "      <td>1</td>\n",
       "      <td>2</td>\n",
       "      <td>10</td>\n",
       "      <td>0.43</td>\n",
       "      <td>2</td>\n",
       "      <td>0</td>\n",
       "      <td>54</td>\n",
       "    </tr>\n",
       "    <tr>\n",
       "      <th>627</th>\n",
       "      <td>2</td>\n",
       "      <td>64</td>\n",
       "      <td>0</td>\n",
       "      <td>4</td>\n",
       "      <td>0</td>\n",
       "      <td>0.72</td>\n",
       "      <td>1</td>\n",
       "      <td>0</td>\n",
       "      <td>160</td>\n",
       "    </tr>\n",
       "    <tr>\n",
       "      <th>8379</th>\n",
       "      <td>2</td>\n",
       "      <td>201</td>\n",
       "      <td>0</td>\n",
       "      <td>4</td>\n",
       "      <td>6</td>\n",
       "      <td>0.14</td>\n",
       "      <td>2</td>\n",
       "      <td>4</td>\n",
       "      <td>449</td>\n",
       "    </tr>\n",
       "    <tr>\n",
       "      <th>3044</th>\n",
       "      <td>2</td>\n",
       "      <td>64</td>\n",
       "      <td>0</td>\n",
       "      <td>5</td>\n",
       "      <td>4</td>\n",
       "      <td>0.06</td>\n",
       "      <td>1</td>\n",
       "      <td>0</td>\n",
       "      <td>199</td>\n",
       "    </tr>\n",
       "    <tr>\n",
       "      <th>2325</th>\n",
       "      <td>2</td>\n",
       "      <td>94</td>\n",
       "      <td>1</td>\n",
       "      <td>3</td>\n",
       "      <td>61</td>\n",
       "      <td>0.81</td>\n",
       "      <td>1</td>\n",
       "      <td>285</td>\n",
       "      <td>47</td>\n",
       "    </tr>\n",
       "  </tbody>\n",
       "</table>\n",
       "</div>"
      ],
      "text/plain": [
       "       neighbourhood_group  neighbourhood  room_type  minimum_nights  \\\n",
       "25534                    1             28          1               2   \n",
       "627                      2             64          0               4   \n",
       "8379                     2            201          0               4   \n",
       "3044                     2             64          0               5   \n",
       "2325                     2             94          1               3   \n",
       "\n",
       "       number_of_reviews  reviews_per_month  calculated_host_listings_count  \\\n",
       "25534                 10               0.43                               2   \n",
       "627                    0               0.72                               1   \n",
       "8379                   6               0.14                               2   \n",
       "3044                   4               0.06                               1   \n",
       "2325                  61               0.81                               1   \n",
       "\n",
       "       availability_365  price  \n",
       "25534                 0     54  \n",
       "627                   0    160  \n",
       "8379                  4    449  \n",
       "3044                  0    199  \n",
       "2325                285     47  "
      ]
     },
     "execution_count": 67,
     "metadata": {},
     "output_type": "execute_result"
    }
   ],
   "source": [
    "dataset_train.head()"
   ]
  },
  {
   "cell_type": "code",
   "execution_count": 77,
   "metadata": {},
   "outputs": [
    {
     "name": "stdout",
     "output_type": "stream",
     "text": [
      "Parse progress: |████████████████████████████████████████████████████████████████| (done) 100%\n",
      "Parse progress: |████████████████████████████████████████████████████████████████| (done) 100%\n"
     ]
    }
   ],
   "source": [
    "#Converting from pandas dataframe to Automl Dataset\n",
    "datasetAutoML = h2o.H2OFrame(dataset_train)\n",
    "datasetAutoMLTest = h2o.H2OFrame(dataset_test)"
   ]
  },
  {
   "cell_type": "code",
   "execution_count": 69,
   "metadata": {},
   "outputs": [
    {
     "data": {
      "text/html": [
       "<table>\n",
       "<thead>\n",
       "<tr><th style=\"text-align: right;\">  neighbourhood_group</th><th style=\"text-align: right;\">  neighbourhood</th><th style=\"text-align: right;\">  room_type</th><th style=\"text-align: right;\">  minimum_nights</th><th style=\"text-align: right;\">  number_of_reviews</th><th style=\"text-align: right;\">  reviews_per_month</th><th style=\"text-align: right;\">  calculated_host_listings_count</th><th style=\"text-align: right;\">  availability_365</th><th style=\"text-align: right;\">  price</th></tr>\n",
       "</thead>\n",
       "<tbody>\n",
       "<tr><td style=\"text-align: right;\">                    1</td><td style=\"text-align: right;\">             28</td><td style=\"text-align: right;\">          1</td><td style=\"text-align: right;\">               2</td><td style=\"text-align: right;\">                 10</td><td style=\"text-align: right;\">               0.43</td><td style=\"text-align: right;\">                               2</td><td style=\"text-align: right;\">                 0</td><td style=\"text-align: right;\">     54</td></tr>\n",
       "<tr><td style=\"text-align: right;\">                    2</td><td style=\"text-align: right;\">             64</td><td style=\"text-align: right;\">          0</td><td style=\"text-align: right;\">               4</td><td style=\"text-align: right;\">                  0</td><td style=\"text-align: right;\">               0.72</td><td style=\"text-align: right;\">                               1</td><td style=\"text-align: right;\">                 0</td><td style=\"text-align: right;\">    160</td></tr>\n",
       "<tr><td style=\"text-align: right;\">                    2</td><td style=\"text-align: right;\">            201</td><td style=\"text-align: right;\">          0</td><td style=\"text-align: right;\">               4</td><td style=\"text-align: right;\">                  6</td><td style=\"text-align: right;\">               0.14</td><td style=\"text-align: right;\">                               2</td><td style=\"text-align: right;\">                 4</td><td style=\"text-align: right;\">    449</td></tr>\n",
       "<tr><td style=\"text-align: right;\">                    2</td><td style=\"text-align: right;\">             64</td><td style=\"text-align: right;\">          0</td><td style=\"text-align: right;\">               5</td><td style=\"text-align: right;\">                  4</td><td style=\"text-align: right;\">               0.06</td><td style=\"text-align: right;\">                               1</td><td style=\"text-align: right;\">                 0</td><td style=\"text-align: right;\">    199</td></tr>\n",
       "<tr><td style=\"text-align: right;\">                    2</td><td style=\"text-align: right;\">             94</td><td style=\"text-align: right;\">          1</td><td style=\"text-align: right;\">               3</td><td style=\"text-align: right;\">                 61</td><td style=\"text-align: right;\">               0.81</td><td style=\"text-align: right;\">                               1</td><td style=\"text-align: right;\">               285</td><td style=\"text-align: right;\">     47</td></tr>\n",
       "<tr><td style=\"text-align: right;\">                    2</td><td style=\"text-align: right;\">            206</td><td style=\"text-align: right;\">          0</td><td style=\"text-align: right;\">               2</td><td style=\"text-align: right;\">                119</td><td style=\"text-align: right;\">               2.95</td><td style=\"text-align: right;\">                               1</td><td style=\"text-align: right;\">               300</td><td style=\"text-align: right;\">    150</td></tr>\n",
       "<tr><td style=\"text-align: right;\">                    0</td><td style=\"text-align: right;\">             38</td><td style=\"text-align: right;\">          1</td><td style=\"text-align: right;\">               3</td><td style=\"text-align: right;\">                  0</td><td style=\"text-align: right;\">               0.72</td><td style=\"text-align: right;\">                               1</td><td style=\"text-align: right;\">               365</td><td style=\"text-align: right;\">    100</td></tr>\n",
       "<tr><td style=\"text-align: right;\">                    1</td><td style=\"text-align: right;\">             19</td><td style=\"text-align: right;\">          1</td><td style=\"text-align: right;\">               2</td><td style=\"text-align: right;\">                 15</td><td style=\"text-align: right;\">               1.8 </td><td style=\"text-align: right;\">                               2</td><td style=\"text-align: right;\">                 0</td><td style=\"text-align: right;\">     65</td></tr>\n",
       "<tr><td style=\"text-align: right;\">                    4</td><td style=\"text-align: right;\">            122</td><td style=\"text-align: right;\">          0</td><td style=\"text-align: right;\">               5</td><td style=\"text-align: right;\">                 16</td><td style=\"text-align: right;\">               0.33</td><td style=\"text-align: right;\">                               1</td><td style=\"text-align: right;\">               299</td><td style=\"text-align: right;\">    150</td></tr>\n",
       "<tr><td style=\"text-align: right;\">                    3</td><td style=\"text-align: right;\">            125</td><td style=\"text-align: right;\">          1</td><td style=\"text-align: right;\">               1</td><td style=\"text-align: right;\">                  1</td><td style=\"text-align: right;\">               0.02</td><td style=\"text-align: right;\">                               1</td><td style=\"text-align: right;\">               364</td><td style=\"text-align: right;\">     70</td></tr>\n",
       "</tbody>\n",
       "</table>"
      ]
     },
     "metadata": {},
     "output_type": "display_data"
    },
    {
     "data": {
      "text/plain": []
     },
     "execution_count": 69,
     "metadata": {},
     "output_type": "execute_result"
    }
   ],
   "source": [
    "datasetAutoML.head()"
   ]
  },
  {
   "cell_type": "code",
   "execution_count": 70,
   "metadata": {},
   "outputs": [
    {
     "name": "stdout",
     "output_type": "stream",
     "text": [
      "AutoML progress: |\n",
      "08:31:30.401: AutoML: XGBoost is not available; skipping it.\n",
      "\n",
      "███████████████████████████████████████████████████████████████| (done) 100%\n",
      "Model Details\n",
      "=============\n",
      "H2OGradientBoostingEstimator :  Gradient Boosting Machine\n",
      "Model Key:  GBM_3_AutoML_2_20220424_83130\n",
      "\n",
      "\n",
      "Model Summary: \n"
     ]
    },
    {
     "data": {
      "text/html": [
       "<div>\n",
       "<style scoped>\n",
       "    .dataframe tbody tr th:only-of-type {\n",
       "        vertical-align: middle;\n",
       "    }\n",
       "\n",
       "    .dataframe tbody tr th {\n",
       "        vertical-align: top;\n",
       "    }\n",
       "\n",
       "    .dataframe thead th {\n",
       "        text-align: right;\n",
       "    }\n",
       "</style>\n",
       "<table border=\"1\" class=\"dataframe\">\n",
       "  <thead>\n",
       "    <tr style=\"text-align: right;\">\n",
       "      <th></th>\n",
       "      <th></th>\n",
       "      <th>number_of_trees</th>\n",
       "      <th>number_of_internal_trees</th>\n",
       "      <th>model_size_in_bytes</th>\n",
       "      <th>min_depth</th>\n",
       "      <th>max_depth</th>\n",
       "      <th>mean_depth</th>\n",
       "      <th>min_leaves</th>\n",
       "      <th>max_leaves</th>\n",
       "      <th>mean_leaves</th>\n",
       "    </tr>\n",
       "  </thead>\n",
       "  <tbody>\n",
       "    <tr>\n",
       "      <th>0</th>\n",
       "      <td></td>\n",
       "      <td>50.0</td>\n",
       "      <td>50.0</td>\n",
       "      <td>79860.0</td>\n",
       "      <td>8.0</td>\n",
       "      <td>8.0</td>\n",
       "      <td>8.0</td>\n",
       "      <td>50.0</td>\n",
       "      <td>177.0</td>\n",
       "      <td>122.38</td>\n",
       "    </tr>\n",
       "  </tbody>\n",
       "</table>\n",
       "</div>"
      ],
      "text/plain": [
       "     number_of_trees  number_of_internal_trees  model_size_in_bytes  \\\n",
       "0               50.0                      50.0              79860.0   \n",
       "\n",
       "   min_depth  max_depth  mean_depth  min_leaves  max_leaves  mean_leaves  \n",
       "0        8.0        8.0         8.0        50.0       177.0       122.38  "
      ]
     },
     "metadata": {},
     "output_type": "display_data"
    },
    {
     "name": "stdout",
     "output_type": "stream",
     "text": [
      "\n",
      "\n",
      "ModelMetricsRegression: gbm\n",
      "** Reported on train data. **\n",
      "\n",
      "MSE: 40643.80510493697\n",
      "RMSE: 201.6030880342287\n",
      "MAE: 63.990984779693605\n",
      "RMSLE: NaN\n",
      "Mean Residual Deviance: 40643.80510493697\n",
      "\n",
      "ModelMetricsRegression: gbm\n",
      "** Reported on cross-validation data. **\n",
      "\n",
      "MSE: 50807.71688754925\n",
      "RMSE: 225.40567181761256\n",
      "MAE: 69.38137179833414\n",
      "RMSLE: NaN\n",
      "Mean Residual Deviance: 50807.71688754925\n",
      "\n",
      "Cross-Validation Metrics Summary: \n"
     ]
    },
    {
     "data": {
      "text/html": [
       "<div>\n",
       "<style scoped>\n",
       "    .dataframe tbody tr th:only-of-type {\n",
       "        vertical-align: middle;\n",
       "    }\n",
       "\n",
       "    .dataframe tbody tr th {\n",
       "        vertical-align: top;\n",
       "    }\n",
       "\n",
       "    .dataframe thead th {\n",
       "        text-align: right;\n",
       "    }\n",
       "</style>\n",
       "<table border=\"1\" class=\"dataframe\">\n",
       "  <thead>\n",
       "    <tr style=\"text-align: right;\">\n",
       "      <th></th>\n",
       "      <th></th>\n",
       "      <th>mean</th>\n",
       "      <th>sd</th>\n",
       "      <th>cv_1_valid</th>\n",
       "      <th>cv_2_valid</th>\n",
       "      <th>cv_3_valid</th>\n",
       "      <th>cv_4_valid</th>\n",
       "      <th>cv_5_valid</th>\n",
       "    </tr>\n",
       "  </thead>\n",
       "  <tbody>\n",
       "    <tr>\n",
       "      <th>0</th>\n",
       "      <td>mae</td>\n",
       "      <td>69.481380</td>\n",
       "      <td>2.461434</td>\n",
       "      <td>72.708550</td>\n",
       "      <td>67.460365</td>\n",
       "      <td>66.845184</td>\n",
       "      <td>71.13541</td>\n",
       "      <td>69.257380</td>\n",
       "    </tr>\n",
       "    <tr>\n",
       "      <th>1</th>\n",
       "      <td>mean_residual_deviance</td>\n",
       "      <td>50880.660000</td>\n",
       "      <td>10378.033000</td>\n",
       "      <td>56318.594000</td>\n",
       "      <td>40530.234000</td>\n",
       "      <td>44589.066000</td>\n",
       "      <td>46690.82400</td>\n",
       "      <td>66274.586000</td>\n",
       "    </tr>\n",
       "    <tr>\n",
       "      <th>2</th>\n",
       "      <td>mse</td>\n",
       "      <td>50880.660000</td>\n",
       "      <td>10378.033000</td>\n",
       "      <td>56318.594000</td>\n",
       "      <td>40530.234000</td>\n",
       "      <td>44589.066000</td>\n",
       "      <td>46690.82400</td>\n",
       "      <td>66274.586000</td>\n",
       "    </tr>\n",
       "    <tr>\n",
       "      <th>3</th>\n",
       "      <td>r2</td>\n",
       "      <td>0.156957</td>\n",
       "      <td>0.034202</td>\n",
       "      <td>0.178275</td>\n",
       "      <td>0.140370</td>\n",
       "      <td>0.175769</td>\n",
       "      <td>0.18592</td>\n",
       "      <td>0.104453</td>\n",
       "    </tr>\n",
       "    <tr>\n",
       "      <th>4</th>\n",
       "      <td>residual_deviance</td>\n",
       "      <td>50880.660000</td>\n",
       "      <td>10378.033000</td>\n",
       "      <td>56318.594000</td>\n",
       "      <td>40530.234000</td>\n",
       "      <td>44589.066000</td>\n",
       "      <td>46690.82400</td>\n",
       "      <td>66274.586000</td>\n",
       "    </tr>\n",
       "    <tr>\n",
       "      <th>5</th>\n",
       "      <td>rmse</td>\n",
       "      <td>224.663390</td>\n",
       "      <td>22.556100</td>\n",
       "      <td>237.315380</td>\n",
       "      <td>201.321230</td>\n",
       "      <td>211.161220</td>\n",
       "      <td>216.08060</td>\n",
       "      <td>257.438500</td>\n",
       "    </tr>\n",
       "    <tr>\n",
       "      <th>6</th>\n",
       "      <td>rmsle</td>\n",
       "      <td>0.516670</td>\n",
       "      <td>0.011745</td>\n",
       "      <td>NaN</td>\n",
       "      <td>0.508365</td>\n",
       "      <td>NaN</td>\n",
       "      <td>NaN</td>\n",
       "      <td>0.524975</td>\n",
       "    </tr>\n",
       "  </tbody>\n",
       "</table>\n",
       "</div>"
      ],
      "text/plain": [
       "                                   mean            sd    cv_1_valid  \\\n",
       "0                     mae     69.481380      2.461434     72.708550   \n",
       "1  mean_residual_deviance  50880.660000  10378.033000  56318.594000   \n",
       "2                     mse  50880.660000  10378.033000  56318.594000   \n",
       "3                      r2      0.156957      0.034202      0.178275   \n",
       "4       residual_deviance  50880.660000  10378.033000  56318.594000   \n",
       "5                    rmse    224.663390     22.556100    237.315380   \n",
       "6                   rmsle      0.516670      0.011745           NaN   \n",
       "\n",
       "     cv_2_valid    cv_3_valid   cv_4_valid    cv_5_valid  \n",
       "0     67.460365     66.845184     71.13541     69.257380  \n",
       "1  40530.234000  44589.066000  46690.82400  66274.586000  \n",
       "2  40530.234000  44589.066000  46690.82400  66274.586000  \n",
       "3      0.140370      0.175769      0.18592      0.104453  \n",
       "4  40530.234000  44589.066000  46690.82400  66274.586000  \n",
       "5    201.321230    211.161220    216.08060    257.438500  \n",
       "6      0.508365           NaN          NaN      0.524975  "
      ]
     },
     "metadata": {},
     "output_type": "display_data"
    },
    {
     "name": "stdout",
     "output_type": "stream",
     "text": [
      "\n",
      "Scoring History: \n"
     ]
    },
    {
     "data": {
      "text/html": [
       "<div>\n",
       "<style scoped>\n",
       "    .dataframe tbody tr th:only-of-type {\n",
       "        vertical-align: middle;\n",
       "    }\n",
       "\n",
       "    .dataframe tbody tr th {\n",
       "        vertical-align: top;\n",
       "    }\n",
       "\n",
       "    .dataframe thead th {\n",
       "        text-align: right;\n",
       "    }\n",
       "</style>\n",
       "<table border=\"1\" class=\"dataframe\">\n",
       "  <thead>\n",
       "    <tr style=\"text-align: right;\">\n",
       "      <th></th>\n",
       "      <th></th>\n",
       "      <th>timestamp</th>\n",
       "      <th>duration</th>\n",
       "      <th>number_of_trees</th>\n",
       "      <th>training_rmse</th>\n",
       "      <th>training_mae</th>\n",
       "      <th>training_deviance</th>\n",
       "    </tr>\n",
       "  </thead>\n",
       "  <tbody>\n",
       "    <tr>\n",
       "      <th>0</th>\n",
       "      <td></td>\n",
       "      <td>2022-04-24 08:31:40</td>\n",
       "      <td>0.976 sec</td>\n",
       "      <td>0.0</td>\n",
       "      <td>245.415475</td>\n",
       "      <td>94.108719</td>\n",
       "      <td>60228.755146</td>\n",
       "    </tr>\n",
       "    <tr>\n",
       "      <th>1</th>\n",
       "      <td></td>\n",
       "      <td>2022-04-24 08:31:40</td>\n",
       "      <td>1.002 sec</td>\n",
       "      <td>5.0</td>\n",
       "      <td>233.823938</td>\n",
       "      <td>79.287539</td>\n",
       "      <td>54673.634105</td>\n",
       "    </tr>\n",
       "    <tr>\n",
       "      <th>2</th>\n",
       "      <td></td>\n",
       "      <td>2022-04-24 08:31:40</td>\n",
       "      <td>1.026 sec</td>\n",
       "      <td>10.0</td>\n",
       "      <td>225.718956</td>\n",
       "      <td>72.325446</td>\n",
       "      <td>50949.046899</td>\n",
       "    </tr>\n",
       "    <tr>\n",
       "      <th>3</th>\n",
       "      <td></td>\n",
       "      <td>2022-04-24 08:31:40</td>\n",
       "      <td>1.050 sec</td>\n",
       "      <td>15.0</td>\n",
       "      <td>221.017300</td>\n",
       "      <td>69.042994</td>\n",
       "      <td>48848.646865</td>\n",
       "    </tr>\n",
       "    <tr>\n",
       "      <th>4</th>\n",
       "      <td></td>\n",
       "      <td>2022-04-24 08:31:40</td>\n",
       "      <td>1.075 sec</td>\n",
       "      <td>20.0</td>\n",
       "      <td>216.409429</td>\n",
       "      <td>67.425900</td>\n",
       "      <td>46833.041173</td>\n",
       "    </tr>\n",
       "    <tr>\n",
       "      <th>5</th>\n",
       "      <td></td>\n",
       "      <td>2022-04-24 08:31:40</td>\n",
       "      <td>1.099 sec</td>\n",
       "      <td>25.0</td>\n",
       "      <td>213.251722</td>\n",
       "      <td>66.203481</td>\n",
       "      <td>45476.297024</td>\n",
       "    </tr>\n",
       "    <tr>\n",
       "      <th>6</th>\n",
       "      <td></td>\n",
       "      <td>2022-04-24 08:31:40</td>\n",
       "      <td>1.126 sec</td>\n",
       "      <td>30.0</td>\n",
       "      <td>210.216463</td>\n",
       "      <td>65.295358</td>\n",
       "      <td>44190.961338</td>\n",
       "    </tr>\n",
       "    <tr>\n",
       "      <th>7</th>\n",
       "      <td></td>\n",
       "      <td>2022-04-24 08:31:40</td>\n",
       "      <td>1.159 sec</td>\n",
       "      <td>35.0</td>\n",
       "      <td>207.192747</td>\n",
       "      <td>64.892540</td>\n",
       "      <td>42928.834268</td>\n",
       "    </tr>\n",
       "    <tr>\n",
       "      <th>8</th>\n",
       "      <td></td>\n",
       "      <td>2022-04-24 08:31:40</td>\n",
       "      <td>1.183 sec</td>\n",
       "      <td>40.0</td>\n",
       "      <td>205.675019</td>\n",
       "      <td>64.492306</td>\n",
       "      <td>42302.213510</td>\n",
       "    </tr>\n",
       "    <tr>\n",
       "      <th>9</th>\n",
       "      <td></td>\n",
       "      <td>2022-04-24 08:31:40</td>\n",
       "      <td>1.206 sec</td>\n",
       "      <td>45.0</td>\n",
       "      <td>203.658558</td>\n",
       "      <td>64.265632</td>\n",
       "      <td>41476.808353</td>\n",
       "    </tr>\n",
       "    <tr>\n",
       "      <th>10</th>\n",
       "      <td></td>\n",
       "      <td>2022-04-24 08:31:40</td>\n",
       "      <td>1.229 sec</td>\n",
       "      <td>50.0</td>\n",
       "      <td>201.603088</td>\n",
       "      <td>63.990985</td>\n",
       "      <td>40643.805105</td>\n",
       "    </tr>\n",
       "  </tbody>\n",
       "</table>\n",
       "</div>"
      ],
      "text/plain": [
       "                timestamp    duration  number_of_trees  training_rmse  \\\n",
       "0     2022-04-24 08:31:40   0.976 sec              0.0     245.415475   \n",
       "1     2022-04-24 08:31:40   1.002 sec              5.0     233.823938   \n",
       "2     2022-04-24 08:31:40   1.026 sec             10.0     225.718956   \n",
       "3     2022-04-24 08:31:40   1.050 sec             15.0     221.017300   \n",
       "4     2022-04-24 08:31:40   1.075 sec             20.0     216.409429   \n",
       "5     2022-04-24 08:31:40   1.099 sec             25.0     213.251722   \n",
       "6     2022-04-24 08:31:40   1.126 sec             30.0     210.216463   \n",
       "7     2022-04-24 08:31:40   1.159 sec             35.0     207.192747   \n",
       "8     2022-04-24 08:31:40   1.183 sec             40.0     205.675019   \n",
       "9     2022-04-24 08:31:40   1.206 sec             45.0     203.658558   \n",
       "10    2022-04-24 08:31:40   1.229 sec             50.0     201.603088   \n",
       "\n",
       "    training_mae  training_deviance  \n",
       "0      94.108719       60228.755146  \n",
       "1      79.287539       54673.634105  \n",
       "2      72.325446       50949.046899  \n",
       "3      69.042994       48848.646865  \n",
       "4      67.425900       46833.041173  \n",
       "5      66.203481       45476.297024  \n",
       "6      65.295358       44190.961338  \n",
       "7      64.892540       42928.834268  \n",
       "8      64.492306       42302.213510  \n",
       "9      64.265632       41476.808353  \n",
       "10     63.990985       40643.805105  "
      ]
     },
     "metadata": {},
     "output_type": "display_data"
    },
    {
     "name": "stdout",
     "output_type": "stream",
     "text": [
      "\n",
      "Variable Importances: \n"
     ]
    },
    {
     "data": {
      "text/html": [
       "<div>\n",
       "<style scoped>\n",
       "    .dataframe tbody tr th:only-of-type {\n",
       "        vertical-align: middle;\n",
       "    }\n",
       "\n",
       "    .dataframe tbody tr th {\n",
       "        vertical-align: top;\n",
       "    }\n",
       "\n",
       "    .dataframe thead th {\n",
       "        text-align: right;\n",
       "    }\n",
       "</style>\n",
       "<table border=\"1\" class=\"dataframe\">\n",
       "  <thead>\n",
       "    <tr style=\"text-align: right;\">\n",
       "      <th></th>\n",
       "      <th>variable</th>\n",
       "      <th>relative_importance</th>\n",
       "      <th>scaled_importance</th>\n",
       "      <th>percentage</th>\n",
       "    </tr>\n",
       "  </thead>\n",
       "  <tbody>\n",
       "    <tr>\n",
       "      <th>0</th>\n",
       "      <td>room_type</td>\n",
       "      <td>514417888.0</td>\n",
       "      <td>1.000000</td>\n",
       "      <td>0.206614</td>\n",
       "    </tr>\n",
       "    <tr>\n",
       "      <th>1</th>\n",
       "      <td>neighbourhood</td>\n",
       "      <td>458230432.0</td>\n",
       "      <td>0.890775</td>\n",
       "      <td>0.184047</td>\n",
       "    </tr>\n",
       "    <tr>\n",
       "      <th>2</th>\n",
       "      <td>availability_365</td>\n",
       "      <td>427792480.0</td>\n",
       "      <td>0.831605</td>\n",
       "      <td>0.171821</td>\n",
       "    </tr>\n",
       "    <tr>\n",
       "      <th>3</th>\n",
       "      <td>calculated_host_listings_count</td>\n",
       "      <td>328708992.0</td>\n",
       "      <td>0.638992</td>\n",
       "      <td>0.132025</td>\n",
       "    </tr>\n",
       "    <tr>\n",
       "      <th>4</th>\n",
       "      <td>minimum_nights</td>\n",
       "      <td>262120096.0</td>\n",
       "      <td>0.509547</td>\n",
       "      <td>0.105280</td>\n",
       "    </tr>\n",
       "    <tr>\n",
       "      <th>5</th>\n",
       "      <td>reviews_per_month</td>\n",
       "      <td>183050608.0</td>\n",
       "      <td>0.355840</td>\n",
       "      <td>0.073522</td>\n",
       "    </tr>\n",
       "    <tr>\n",
       "      <th>6</th>\n",
       "      <td>neighbourhood_group</td>\n",
       "      <td>168548848.0</td>\n",
       "      <td>0.327650</td>\n",
       "      <td>0.067697</td>\n",
       "    </tr>\n",
       "    <tr>\n",
       "      <th>7</th>\n",
       "      <td>number_of_reviews</td>\n",
       "      <td>146880480.0</td>\n",
       "      <td>0.285528</td>\n",
       "      <td>0.058994</td>\n",
       "    </tr>\n",
       "  </tbody>\n",
       "</table>\n",
       "</div>"
      ],
      "text/plain": [
       "                         variable  relative_importance  scaled_importance  \\\n",
       "0                       room_type          514417888.0           1.000000   \n",
       "1                   neighbourhood          458230432.0           0.890775   \n",
       "2                availability_365          427792480.0           0.831605   \n",
       "3  calculated_host_listings_count          328708992.0           0.638992   \n",
       "4                  minimum_nights          262120096.0           0.509547   \n",
       "5               reviews_per_month          183050608.0           0.355840   \n",
       "6             neighbourhood_group          168548848.0           0.327650   \n",
       "7               number_of_reviews          146880480.0           0.285528   \n",
       "\n",
       "   percentage  \n",
       "0    0.206614  \n",
       "1    0.184047  \n",
       "2    0.171821  \n",
       "3    0.132025  \n",
       "4    0.105280  \n",
       "5    0.073522  \n",
       "6    0.067697  \n",
       "7    0.058994  "
      ]
     },
     "metadata": {},
     "output_type": "display_data"
    },
    {
     "data": {
      "text/plain": []
     },
     "execution_count": 70,
     "metadata": {},
     "output_type": "execute_result"
    }
   ],
   "source": [
    "aml = H2OAutoML()\n",
    "aml.train(x = features_autoML, y = target_autoML, training_frame= datasetAutoML)"
   ]
  },
  {
   "cell_type": "code",
   "execution_count": 73,
   "metadata": {},
   "outputs": [
    {
     "data": {
      "text/html": [
       "<table>\n",
       "<thead>\n",
       "<tr><th>model_id                                              </th><th style=\"text-align: right;\">   rmse</th><th style=\"text-align: right;\">    mse</th><th style=\"text-align: right;\">    mae</th><th style=\"text-align: right;\">     rmsle</th><th style=\"text-align: right;\">  mean_residual_deviance</th></tr>\n",
       "</thead>\n",
       "<tbody>\n",
       "<tr><td>GBM_3_AutoML_2_20220424_83130                         </td><td style=\"text-align: right;\">225.406</td><td style=\"text-align: right;\">50807.7</td><td style=\"text-align: right;\">69.3814</td><td style=\"text-align: right;\">nan       </td><td style=\"text-align: right;\">                 50807.7</td></tr>\n",
       "<tr><td>StackedEnsemble_BestOfFamily_2_AutoML_2_20220424_83130</td><td style=\"text-align: right;\">225.425</td><td style=\"text-align: right;\">50816.4</td><td style=\"text-align: right;\">68.7847</td><td style=\"text-align: right;\">nan       </td><td style=\"text-align: right;\">                 50816.4</td></tr>\n",
       "<tr><td>StackedEnsemble_BestOfFamily_3_AutoML_2_20220424_83130</td><td style=\"text-align: right;\">225.628</td><td style=\"text-align: right;\">50908  </td><td style=\"text-align: right;\">68.6331</td><td style=\"text-align: right;\">nan       </td><td style=\"text-align: right;\">                 50908  </td></tr>\n",
       "<tr><td>StackedEnsemble_AllModels_1_AutoML_2_20220424_83130   </td><td style=\"text-align: right;\">225.71 </td><td style=\"text-align: right;\">50945  </td><td style=\"text-align: right;\">68.5467</td><td style=\"text-align: right;\">nan       </td><td style=\"text-align: right;\">                 50945  </td></tr>\n",
       "<tr><td>StackedEnsemble_AllModels_3_AutoML_2_20220424_83130   </td><td style=\"text-align: right;\">225.898</td><td style=\"text-align: right;\">51029.9</td><td style=\"text-align: right;\">68.9316</td><td style=\"text-align: right;\">nan       </td><td style=\"text-align: right;\">                 51029.9</td></tr>\n",
       "<tr><td>GBM_2_AutoML_2_20220424_83130                         </td><td style=\"text-align: right;\">226.318</td><td style=\"text-align: right;\">51219.7</td><td style=\"text-align: right;\">69.7875</td><td style=\"text-align: right;\">nan       </td><td style=\"text-align: right;\">                 51219.7</td></tr>\n",
       "<tr><td>StackedEnsemble_AllModels_2_AutoML_2_20220424_83130   </td><td style=\"text-align: right;\">226.338</td><td style=\"text-align: right;\">51229  </td><td style=\"text-align: right;\">68.6263</td><td style=\"text-align: right;\">nan       </td><td style=\"text-align: right;\">                 51229  </td></tr>\n",
       "<tr><td>GBM_grid_1_AutoML_2_20220424_83130_model_8            </td><td style=\"text-align: right;\">226.64 </td><td style=\"text-align: right;\">51365.7</td><td style=\"text-align: right;\">69.8674</td><td style=\"text-align: right;\">nan       </td><td style=\"text-align: right;\">                 51365.7</td></tr>\n",
       "<tr><td>GBM_grid_1_AutoML_2_20220424_83130_model_15           </td><td style=\"text-align: right;\">226.663</td><td style=\"text-align: right;\">51376.1</td><td style=\"text-align: right;\">70.1982</td><td style=\"text-align: right;\">nan       </td><td style=\"text-align: right;\">                 51376.1</td></tr>\n",
       "<tr><td>GBM_4_AutoML_2_20220424_83130                         </td><td style=\"text-align: right;\">226.838</td><td style=\"text-align: right;\">51455.3</td><td style=\"text-align: right;\">70.6838</td><td style=\"text-align: right;\">nan       </td><td style=\"text-align: right;\">                 51455.3</td></tr>\n",
       "<tr><td>GBM_grid_1_AutoML_2_20220424_83130_model_3            </td><td style=\"text-align: right;\">227.119</td><td style=\"text-align: right;\">51583.1</td><td style=\"text-align: right;\">72.1358</td><td style=\"text-align: right;\">nan       </td><td style=\"text-align: right;\">                 51583.1</td></tr>\n",
       "<tr><td>GBM_grid_1_AutoML_2_20220424_83130_model_16           </td><td style=\"text-align: right;\">227.311</td><td style=\"text-align: right;\">51670.3</td><td style=\"text-align: right;\">69.8835</td><td style=\"text-align: right;\">nan       </td><td style=\"text-align: right;\">                 51670.3</td></tr>\n",
       "<tr><td>GBM_grid_1_AutoML_2_20220424_83130_model_19           </td><td style=\"text-align: right;\">227.366</td><td style=\"text-align: right;\">51695.3</td><td style=\"text-align: right;\">69.9224</td><td style=\"text-align: right;\">nan       </td><td style=\"text-align: right;\">                 51695.3</td></tr>\n",
       "<tr><td>GBM_grid_1_AutoML_2_20220424_83130_model_25           </td><td style=\"text-align: right;\">227.383</td><td style=\"text-align: right;\">51703  </td><td style=\"text-align: right;\">70.2748</td><td style=\"text-align: right;\">nan       </td><td style=\"text-align: right;\">                 51703  </td></tr>\n",
       "<tr><td>GBM_grid_1_AutoML_2_20220424_83130_model_23           </td><td style=\"text-align: right;\">227.514</td><td style=\"text-align: right;\">51762.5</td><td style=\"text-align: right;\">70.3741</td><td style=\"text-align: right;\">nan       </td><td style=\"text-align: right;\">                 51762.5</td></tr>\n",
       "<tr><td>GBM_grid_1_AutoML_2_20220424_83130_model_4            </td><td style=\"text-align: right;\">227.569</td><td style=\"text-align: right;\">51787.6</td><td style=\"text-align: right;\">70.5121</td><td style=\"text-align: right;\">nan       </td><td style=\"text-align: right;\">                 51787.6</td></tr>\n",
       "<tr><td>GBM_grid_1_AutoML_2_20220424_83130_model_7            </td><td style=\"text-align: right;\">227.842</td><td style=\"text-align: right;\">51912  </td><td style=\"text-align: right;\">70.6315</td><td style=\"text-align: right;\">nan       </td><td style=\"text-align: right;\">                 51912  </td></tr>\n",
       "<tr><td>GBM_grid_1_AutoML_2_20220424_83130_model_27           </td><td style=\"text-align: right;\">227.851</td><td style=\"text-align: right;\">51915.9</td><td style=\"text-align: right;\">69.8105</td><td style=\"text-align: right;\">nan       </td><td style=\"text-align: right;\">                 51915.9</td></tr>\n",
       "<tr><td>GBM_grid_1_AutoML_2_20220424_83130_model_14           </td><td style=\"text-align: right;\">227.952</td><td style=\"text-align: right;\">51962  </td><td style=\"text-align: right;\">70.0553</td><td style=\"text-align: right;\">nan       </td><td style=\"text-align: right;\">                 51962  </td></tr>\n",
       "<tr><td>GBM_grid_1_AutoML_2_20220424_83130_model_26           </td><td style=\"text-align: right;\">227.974</td><td style=\"text-align: right;\">51972  </td><td style=\"text-align: right;\">70.0861</td><td style=\"text-align: right;\">nan       </td><td style=\"text-align: right;\">                 51972  </td></tr>\n",
       "<tr><td>GBM_grid_1_AutoML_2_20220424_83130_model_13           </td><td style=\"text-align: right;\">228.017</td><td style=\"text-align: right;\">51991.6</td><td style=\"text-align: right;\">70.2407</td><td style=\"text-align: right;\">nan       </td><td style=\"text-align: right;\">                 51991.6</td></tr>\n",
       "<tr><td>GBM_1_AutoML_2_20220424_83130                         </td><td style=\"text-align: right;\">228.113</td><td style=\"text-align: right;\">52035.6</td><td style=\"text-align: right;\">70.0245</td><td style=\"text-align: right;\">nan       </td><td style=\"text-align: right;\">                 52035.6</td></tr>\n",
       "<tr><td>StackedEnsemble_BestOfFamily_1_AutoML_2_20220424_83130</td><td style=\"text-align: right;\">228.211</td><td style=\"text-align: right;\">52080.4</td><td style=\"text-align: right;\">70.1653</td><td style=\"text-align: right;\">nan       </td><td style=\"text-align: right;\">                 52080.4</td></tr>\n",
       "<tr><td>GBM_grid_1_AutoML_2_20220424_83130_model_22           </td><td style=\"text-align: right;\">228.511</td><td style=\"text-align: right;\">52217.2</td><td style=\"text-align: right;\">70.6655</td><td style=\"text-align: right;\">nan       </td><td style=\"text-align: right;\">                 52217.2</td></tr>\n",
       "<tr><td>GBM_grid_1_AutoML_2_20220424_83130_model_10           </td><td style=\"text-align: right;\">228.521</td><td style=\"text-align: right;\">52221.8</td><td style=\"text-align: right;\">70.1317</td><td style=\"text-align: right;\">nan       </td><td style=\"text-align: right;\">                 52221.8</td></tr>\n",
       "<tr><td>GBM_5_AutoML_2_20220424_83130                         </td><td style=\"text-align: right;\">228.649</td><td style=\"text-align: right;\">52280.4</td><td style=\"text-align: right;\">70.0752</td><td style=\"text-align: right;\">nan       </td><td style=\"text-align: right;\">                 52280.4</td></tr>\n",
       "<tr><td>GBM_grid_1_AutoML_2_20220424_83130_model_6            </td><td style=\"text-align: right;\">228.675</td><td style=\"text-align: right;\">52292.2</td><td style=\"text-align: right;\">69.9532</td><td style=\"text-align: right;\">  0.520024</td><td style=\"text-align: right;\">                 52292.2</td></tr>\n",
       "<tr><td>GBM_grid_1_AutoML_2_20220424_83130_model_21           </td><td style=\"text-align: right;\">228.879</td><td style=\"text-align: right;\">52385.6</td><td style=\"text-align: right;\">72.0177</td><td style=\"text-align: right;\">nan       </td><td style=\"text-align: right;\">                 52385.6</td></tr>\n",
       "<tr><td>GBM_grid_1_AutoML_2_20220424_83130_model_1            </td><td style=\"text-align: right;\">228.974</td><td style=\"text-align: right;\">52429  </td><td style=\"text-align: right;\">71.2517</td><td style=\"text-align: right;\">nan       </td><td style=\"text-align: right;\">                 52429  </td></tr>\n",
       "<tr><td>GBM_grid_1_AutoML_2_20220424_83130_model_20           </td><td style=\"text-align: right;\">229.039</td><td style=\"text-align: right;\">52458.9</td><td style=\"text-align: right;\">70.3376</td><td style=\"text-align: right;\">nan       </td><td style=\"text-align: right;\">                 52458.9</td></tr>\n",
       "<tr><td>GBM_grid_1_AutoML_2_20220424_83130_model_17           </td><td style=\"text-align: right;\">229.33 </td><td style=\"text-align: right;\">52592.3</td><td style=\"text-align: right;\">71.2002</td><td style=\"text-align: right;\">  0.535054</td><td style=\"text-align: right;\">                 52592.3</td></tr>\n",
       "<tr><td>GBM_grid_1_AutoML_2_20220424_83130_model_12           </td><td style=\"text-align: right;\">229.434</td><td style=\"text-align: right;\">52639.9</td><td style=\"text-align: right;\">70.972 </td><td style=\"text-align: right;\">nan       </td><td style=\"text-align: right;\">                 52639.9</td></tr>\n",
       "<tr><td>GBM_grid_1_AutoML_2_20220424_83130_model_2            </td><td style=\"text-align: right;\">229.513</td><td style=\"text-align: right;\">52676.4</td><td style=\"text-align: right;\">71.4713</td><td style=\"text-align: right;\">nan       </td><td style=\"text-align: right;\">                 52676.4</td></tr>\n",
       "<tr><td>GBM_grid_1_AutoML_2_20220424_83130_model_5            </td><td style=\"text-align: right;\">229.818</td><td style=\"text-align: right;\">52816.5</td><td style=\"text-align: right;\">71.3113</td><td style=\"text-align: right;\">nan       </td><td style=\"text-align: right;\">                 52816.5</td></tr>\n",
       "<tr><td>DRF_1_AutoML_2_20220424_83130                         </td><td style=\"text-align: right;\">231.506</td><td style=\"text-align: right;\">53595  </td><td style=\"text-align: right;\">70.8491</td><td style=\"text-align: right;\">  0.520754</td><td style=\"text-align: right;\">                 53595  </td></tr>\n",
       "<tr><td>GBM_grid_1_AutoML_2_20220424_83130_model_11           </td><td style=\"text-align: right;\">231.822</td><td style=\"text-align: right;\">53741.5</td><td style=\"text-align: right;\">72.3688</td><td style=\"text-align: right;\">nan       </td><td style=\"text-align: right;\">                 53741.5</td></tr>\n",
       "<tr><td>XRT_1_AutoML_2_20220424_83130                         </td><td style=\"text-align: right;\">232.289</td><td style=\"text-align: right;\">53958.3</td><td style=\"text-align: right;\">72.3466</td><td style=\"text-align: right;\">  0.545556</td><td style=\"text-align: right;\">                 53958.3</td></tr>\n",
       "<tr><td>DeepLearning_1_AutoML_2_20220424_83130                </td><td style=\"text-align: right;\">232.488</td><td style=\"text-align: right;\">54050.6</td><td style=\"text-align: right;\">70.717 </td><td style=\"text-align: right;\">nan       </td><td style=\"text-align: right;\">                 54050.6</td></tr>\n",
       "<tr><td>DeepLearning_grid_1_AutoML_2_20220424_83130_model_4   </td><td style=\"text-align: right;\">232.969</td><td style=\"text-align: right;\">54274.4</td><td style=\"text-align: right;\">68.117 </td><td style=\"text-align: right;\">nan       </td><td style=\"text-align: right;\">                 54274.4</td></tr>\n",
       "<tr><td>GBM_grid_1_AutoML_2_20220424_83130_model_18           </td><td style=\"text-align: right;\">233.005</td><td style=\"text-align: right;\">54291.3</td><td style=\"text-align: right;\">75.1433</td><td style=\"text-align: right;\">nan       </td><td style=\"text-align: right;\">                 54291.3</td></tr>\n",
       "<tr><td>DeepLearning_grid_1_AutoML_2_20220424_83130_model_2   </td><td style=\"text-align: right;\">233.09 </td><td style=\"text-align: right;\">54330.9</td><td style=\"text-align: right;\">68.9125</td><td style=\"text-align: right;\">nan       </td><td style=\"text-align: right;\">                 54330.9</td></tr>\n",
       "<tr><td>DeepLearning_grid_1_AutoML_2_20220424_83130_model_1   </td><td style=\"text-align: right;\">233.278</td><td style=\"text-align: right;\">54418.9</td><td style=\"text-align: right;\">70.0472</td><td style=\"text-align: right;\">nan       </td><td style=\"text-align: right;\">                 54418.9</td></tr>\n",
       "<tr><td>DeepLearning_grid_1_AutoML_2_20220424_83130_model_3   </td><td style=\"text-align: right;\">233.342</td><td style=\"text-align: right;\">54448.3</td><td style=\"text-align: right;\">73.2069</td><td style=\"text-align: right;\">nan       </td><td style=\"text-align: right;\">                 54448.3</td></tr>\n",
       "<tr><td>GBM_grid_1_AutoML_2_20220424_83130_model_9            </td><td style=\"text-align: right;\">239.069</td><td style=\"text-align: right;\">57153.9</td><td style=\"text-align: right;\">73.746 </td><td style=\"text-align: right;\">nan       </td><td style=\"text-align: right;\">                 57153.9</td></tr>\n",
       "<tr><td>GBM_grid_1_AutoML_2_20220424_83130_model_24           </td><td style=\"text-align: right;\">239.791</td><td style=\"text-align: right;\">57499.7</td><td style=\"text-align: right;\">72.6244</td><td style=\"text-align: right;\">nan       </td><td style=\"text-align: right;\">                 57499.7</td></tr>\n",
       "<tr><td>GLM_1_AutoML_2_20220424_83130                         </td><td style=\"text-align: right;\">245.405</td><td style=\"text-align: right;\">60223.8</td><td style=\"text-align: right;\">94.0886</td><td style=\"text-align: right;\">  0.762528</td><td style=\"text-align: right;\">                 60223.8</td></tr>\n",
       "</tbody>\n",
       "</table>"
      ]
     },
     "metadata": {},
     "output_type": "display_data"
    },
    {
     "data": {
      "text/plain": []
     },
     "execution_count": 73,
     "metadata": {},
     "output_type": "execute_result"
    }
   ],
   "source": [
    "lb = aml.leaderboard\n",
    "lb.head(rows=lb.nrows)"
   ]
  },
  {
   "cell_type": "code",
   "execution_count": 79,
   "metadata": {},
   "outputs": [
    {
     "name": "stdout",
     "output_type": "stream",
     "text": [
      "gbm prediction progress: |███████████████████████████████████████████████████████| (done) 100%\n"
     ]
    }
   ],
   "source": [
    "# To generate predictions on a test set, you can make predictions\n",
    "# directly on the `H2OAutoML` object or on the leader model\n",
    "# object directly\n",
    "preds = aml.predict(datasetAutoMLTest)"
   ]
  },
  {
   "cell_type": "code",
   "execution_count": 80,
   "metadata": {},
   "outputs": [
    {
     "data": {
      "text/html": [
       "<table>\n",
       "<thead>\n",
       "<tr><th>model_id                                              </th><th style=\"text-align: right;\">   rmse</th><th style=\"text-align: right;\">    mse</th><th style=\"text-align: right;\">    mae</th><th style=\"text-align: right;\">  rmsle</th><th style=\"text-align: right;\">  mean_residual_deviance</th><th style=\"text-align: right;\">  training_time_ms</th><th style=\"text-align: right;\">  predict_time_per_row_ms</th><th>algo           </th></tr>\n",
       "</thead>\n",
       "<tbody>\n",
       "<tr><td>GBM_3_AutoML_2_20220424_83130                         </td><td style=\"text-align: right;\">225.406</td><td style=\"text-align: right;\">50807.7</td><td style=\"text-align: right;\">69.3814</td><td style=\"text-align: right;\">    nan</td><td style=\"text-align: right;\">                 50807.7</td><td style=\"text-align: right;\">               255</td><td style=\"text-align: right;\">                 0.009766</td><td>GBM            </td></tr>\n",
       "<tr><td>StackedEnsemble_BestOfFamily_2_AutoML_2_20220424_83130</td><td style=\"text-align: right;\">225.425</td><td style=\"text-align: right;\">50816.4</td><td style=\"text-align: right;\">68.7847</td><td style=\"text-align: right;\">    nan</td><td style=\"text-align: right;\">                 50816.4</td><td style=\"text-align: right;\">               228</td><td style=\"text-align: right;\">                 0.014368</td><td>StackedEnsemble</td></tr>\n",
       "<tr><td>StackedEnsemble_BestOfFamily_3_AutoML_2_20220424_83130</td><td style=\"text-align: right;\">225.628</td><td style=\"text-align: right;\">50908  </td><td style=\"text-align: right;\">68.6331</td><td style=\"text-align: right;\">    nan</td><td style=\"text-align: right;\">                 50908  </td><td style=\"text-align: right;\">               244</td><td style=\"text-align: right;\">                 0.014333</td><td>StackedEnsemble</td></tr>\n",
       "<tr><td>StackedEnsemble_AllModels_1_AutoML_2_20220424_83130   </td><td style=\"text-align: right;\">225.71 </td><td style=\"text-align: right;\">50945  </td><td style=\"text-align: right;\">68.5467</td><td style=\"text-align: right;\">    nan</td><td style=\"text-align: right;\">                 50945  </td><td style=\"text-align: right;\">               235</td><td style=\"text-align: right;\">                 0.016149</td><td>StackedEnsemble</td></tr>\n",
       "<tr><td>StackedEnsemble_AllModels_3_AutoML_2_20220424_83130   </td><td style=\"text-align: right;\">225.898</td><td style=\"text-align: right;\">51029.9</td><td style=\"text-align: right;\">68.9316</td><td style=\"text-align: right;\">    nan</td><td style=\"text-align: right;\">                 51029.9</td><td style=\"text-align: right;\">               320</td><td style=\"text-align: right;\">                 0.024008</td><td>StackedEnsemble</td></tr>\n",
       "<tr><td>GBM_2_AutoML_2_20220424_83130                         </td><td style=\"text-align: right;\">226.318</td><td style=\"text-align: right;\">51219.7</td><td style=\"text-align: right;\">69.7875</td><td style=\"text-align: right;\">    nan</td><td style=\"text-align: right;\">                 51219.7</td><td style=\"text-align: right;\">               251</td><td style=\"text-align: right;\">                 0.006111</td><td>GBM            </td></tr>\n",
       "<tr><td>StackedEnsemble_AllModels_2_AutoML_2_20220424_83130   </td><td style=\"text-align: right;\">226.338</td><td style=\"text-align: right;\">51229  </td><td style=\"text-align: right;\">68.6263</td><td style=\"text-align: right;\">    nan</td><td style=\"text-align: right;\">                 51229  </td><td style=\"text-align: right;\">               249</td><td style=\"text-align: right;\">                 0.013915</td><td>StackedEnsemble</td></tr>\n",
       "<tr><td>GBM_grid_1_AutoML_2_20220424_83130_model_8            </td><td style=\"text-align: right;\">226.64 </td><td style=\"text-align: right;\">51365.7</td><td style=\"text-align: right;\">69.8674</td><td style=\"text-align: right;\">    nan</td><td style=\"text-align: right;\">                 51365.7</td><td style=\"text-align: right;\">               187</td><td style=\"text-align: right;\">                 0.005045</td><td>GBM            </td></tr>\n",
       "<tr><td>GBM_grid_1_AutoML_2_20220424_83130_model_15           </td><td style=\"text-align: right;\">226.663</td><td style=\"text-align: right;\">51376.1</td><td style=\"text-align: right;\">70.1982</td><td style=\"text-align: right;\">    nan</td><td style=\"text-align: right;\">                 51376.1</td><td style=\"text-align: right;\">               317</td><td style=\"text-align: right;\">                 0.007542</td><td>GBM            </td></tr>\n",
       "<tr><td>GBM_4_AutoML_2_20220424_83130                         </td><td style=\"text-align: right;\">226.838</td><td style=\"text-align: right;\">51455.3</td><td style=\"text-align: right;\">70.6838</td><td style=\"text-align: right;\">    nan</td><td style=\"text-align: right;\">                 51455.3</td><td style=\"text-align: right;\">               312</td><td style=\"text-align: right;\">                 0.007594</td><td>GBM            </td></tr>\n",
       "</tbody>\n",
       "</table>"
      ]
     },
     "metadata": {},
     "output_type": "display_data"
    },
    {
     "data": {
      "text/plain": []
     },
     "execution_count": 80,
     "metadata": {},
     "output_type": "execute_result"
    }
   ],
   "source": [
    "# Get leaderboard with all possible columns\n",
    "lb = h2o.automl.get_leaderboard(aml, extra_columns = \"ALL\")\n",
    "lb"
   ]
  },
  {
   "cell_type": "markdown",
   "metadata": {},
   "source": [
    "## Shap Analysis"
   ]
  },
  {
   "cell_type": "code",
   "execution_count": 1,
   "metadata": {},
   "outputs": [
    {
     "name": "stdout",
     "output_type": "stream",
     "text": [
      "Requirement already satisfied: shap in /Users/midhunmohan/opt/anaconda3/lib/python3.9/site-packages (0.40.0)\n",
      "Requirement already satisfied: tqdm>4.25.0 in /Users/midhunmohan/opt/anaconda3/lib/python3.9/site-packages (from shap) (4.62.3)\n",
      "Requirement already satisfied: numpy in /Users/midhunmohan/opt/anaconda3/lib/python3.9/site-packages (from shap) (1.20.3)\n",
      "Requirement already satisfied: scikit-learn in /Users/midhunmohan/opt/anaconda3/lib/python3.9/site-packages (from shap) (0.24.2)\n",
      "Requirement already satisfied: pandas in /Users/midhunmohan/opt/anaconda3/lib/python3.9/site-packages (from shap) (1.3.4)\n",
      "Requirement already satisfied: scipy in /Users/midhunmohan/opt/anaconda3/lib/python3.9/site-packages (from shap) (1.7.1)\n",
      "Requirement already satisfied: numba in /Users/midhunmohan/opt/anaconda3/lib/python3.9/site-packages (from shap) (0.54.1)\n",
      "Requirement already satisfied: cloudpickle in /Users/midhunmohan/opt/anaconda3/lib/python3.9/site-packages (from shap) (2.0.0)\n",
      "Requirement already satisfied: packaging>20.9 in /Users/midhunmohan/opt/anaconda3/lib/python3.9/site-packages (from shap) (21.0)\n",
      "Requirement already satisfied: slicer==0.0.7 in /Users/midhunmohan/opt/anaconda3/lib/python3.9/site-packages (from shap) (0.0.7)\n",
      "Requirement already satisfied: pyparsing>=2.0.2 in /Users/midhunmohan/opt/anaconda3/lib/python3.9/site-packages (from packaging>20.9->shap) (3.0.4)\n",
      "Requirement already satisfied: setuptools in /Users/midhunmohan/opt/anaconda3/lib/python3.9/site-packages (from numba->shap) (58.0.4)\n",
      "Requirement already satisfied: llvmlite<0.38,>=0.37.0rc1 in /Users/midhunmohan/opt/anaconda3/lib/python3.9/site-packages (from numba->shap) (0.37.0)\n",
      "Requirement already satisfied: python-dateutil>=2.7.3 in /Users/midhunmohan/opt/anaconda3/lib/python3.9/site-packages (from pandas->shap) (2.8.2)\n",
      "Requirement already satisfied: pytz>=2017.3 in /Users/midhunmohan/opt/anaconda3/lib/python3.9/site-packages (from pandas->shap) (2021.3)\n",
      "Requirement already satisfied: joblib>=0.11 in /Users/midhunmohan/opt/anaconda3/lib/python3.9/site-packages (from scikit-learn->shap) (1.1.0)\n",
      "Requirement already satisfied: threadpoolctl>=2.0.0 in /Users/midhunmohan/opt/anaconda3/lib/python3.9/site-packages (from scikit-learn->shap) (2.2.0)\n",
      "Requirement already satisfied: six>=1.5 in /Users/midhunmohan/opt/anaconda3/lib/python3.9/site-packages (from python-dateutil>=2.7.3->pandas->shap) (1.16.0)\n"
     ]
    }
   ],
   "source": [
    "!pip3 install shap"
   ]
  },
  {
   "cell_type": "code",
   "execution_count": 46,
   "metadata": {},
   "outputs": [],
   "source": [
    "import shap"
   ]
  },
  {
   "cell_type": "code",
   "execution_count": 62,
   "metadata": {},
   "outputs": [
    {
     "ename": "Exception",
     "evalue": "The passed model is not callable and cannot be analyzed directly with the given masker! Model: <statsmodels.regression.linear_model.RegressionResultsWrapper object at 0x7fddb8e57160>",
     "output_type": "error",
     "traceback": [
      "\u001b[0;31m---------------------------------------------------------------------------\u001b[0m",
      "\u001b[0;31mException\u001b[0m                                 Traceback (most recent call last)",
      "\u001b[0;32m/var/folders/6n/jn9tfjdx2f98kc2l68s832bm0000gn/T/ipykernel_15912/2277727348.py\u001b[0m in \u001b[0;36m<module>\u001b[0;34m\u001b[0m\n\u001b[1;32m      1\u001b[0m \u001b[0;31m# shap_values = shap.LinearExplainer(OLS_model).shap_values(X_train)\u001b[0m\u001b[0;34m\u001b[0m\u001b[0;34m\u001b[0m\u001b[0m\n\u001b[0;32m----> 2\u001b[0;31m \u001b[0mexplainer\u001b[0m \u001b[0;34m=\u001b[0m \u001b[0mshap\u001b[0m\u001b[0;34m.\u001b[0m\u001b[0mExplainer\u001b[0m\u001b[0;34m(\u001b[0m\u001b[0mOLS_model\u001b[0m\u001b[0;34m,\u001b[0m\u001b[0mX_train\u001b[0m\u001b[0;34m,\u001b[0m \u001b[0mfeature_dependence\u001b[0m \u001b[0;34m=\u001b[0m \u001b[0;34m\"independent\"\u001b[0m\u001b[0;34m)\u001b[0m\u001b[0;34m\u001b[0m\u001b[0;34m\u001b[0m\u001b[0m\n\u001b[0m",
      "\u001b[0;32m~/opt/anaconda3/lib/python3.9/site-packages/shap/explainers/_explainer.py\u001b[0m in \u001b[0;36m__init__\u001b[0;34m(self, model, masker, link, algorithm, output_names, feature_names, linearize_link, **kwargs)\u001b[0m\n\u001b[1;32m    166\u001b[0m                 \u001b[0;31m# if we get here then we don't know how to handle what was given to us\u001b[0m\u001b[0;34m\u001b[0m\u001b[0;34m\u001b[0m\u001b[0m\n\u001b[1;32m    167\u001b[0m                 \u001b[0;32melse\u001b[0m\u001b[0;34m:\u001b[0m\u001b[0;34m\u001b[0m\u001b[0;34m\u001b[0m\u001b[0m\n\u001b[0;32m--> 168\u001b[0;31m                     \u001b[0;32mraise\u001b[0m \u001b[0mException\u001b[0m\u001b[0;34m(\u001b[0m\u001b[0;34m\"The passed model is not callable and cannot be analyzed directly with the given masker! Model: \"\u001b[0m \u001b[0;34m+\u001b[0m \u001b[0mstr\u001b[0m\u001b[0;34m(\u001b[0m\u001b[0mmodel\u001b[0m\u001b[0;34m)\u001b[0m\u001b[0;34m)\u001b[0m\u001b[0;34m\u001b[0m\u001b[0;34m\u001b[0m\u001b[0m\n\u001b[0m\u001b[1;32m    169\u001b[0m \u001b[0;34m\u001b[0m\u001b[0m\n\u001b[1;32m    170\u001b[0m             \u001b[0;31m# build the right subclass\u001b[0m\u001b[0;34m\u001b[0m\u001b[0;34m\u001b[0m\u001b[0m\n",
      "\u001b[0;31mException\u001b[0m: The passed model is not callable and cannot be analyzed directly with the given masker! Model: <statsmodels.regression.linear_model.RegressionResultsWrapper object at 0x7fddb8e57160>"
     ]
    }
   ],
   "source": [
    "# shap_values = shap.LinearExplainer(OLS_model).shap_values(X_train)\n",
    "explainer = shap.Explainer(OLS_model,X_train, feature_dependence = \"independent\")"
   ]
  },
  {
   "cell_type": "code",
   "execution_count": 55,
   "metadata": {},
   "outputs": [
    {
     "ename": "NameError",
     "evalue": "name 'shap_values' is not defined",
     "output_type": "error",
     "traceback": [
      "\u001b[0;31m---------------------------------------------------------------------------\u001b[0m",
      "\u001b[0;31mNameError\u001b[0m                                 Traceback (most recent call last)",
      "\u001b[0;32m/var/folders/6n/jn9tfjdx2f98kc2l68s832bm0000gn/T/ipykernel_15912/149686474.py\u001b[0m in \u001b[0;36m<module>\u001b[0;34m\u001b[0m\n\u001b[0;32m----> 1\u001b[0;31m \u001b[0mshap\u001b[0m\u001b[0;34m.\u001b[0m\u001b[0msummary_plot\u001b[0m\u001b[0;34m(\u001b[0m\u001b[0mshap_values\u001b[0m\u001b[0;34m,\u001b[0m \u001b[0mX_train\u001b[0m\u001b[0;34m,\u001b[0m \u001b[0mplot_type\u001b[0m\u001b[0;34m=\u001b[0m\u001b[0;34m\"bar\"\u001b[0m\u001b[0;34m)\u001b[0m\u001b[0;34m\u001b[0m\u001b[0;34m\u001b[0m\u001b[0m\n\u001b[0m",
      "\u001b[0;31mNameError\u001b[0m: name 'shap_values' is not defined"
     ]
    }
   ],
   "source": [
    "shap.summary_plot(shap_values, X_train, plot_type=\"bar\")"
   ]
  },
  {
   "cell_type": "code",
   "execution_count": 63,
   "metadata": {},
   "outputs": [
    {
     "ename": "NameError",
     "evalue": "name 'explainer' is not defined",
     "output_type": "error",
     "traceback": [
      "\u001b[0;31m---------------------------------------------------------------------------\u001b[0m",
      "\u001b[0;31mNameError\u001b[0m                                 Traceback (most recent call last)",
      "\u001b[0;32m/var/folders/6n/jn9tfjdx2f98kc2l68s832bm0000gn/T/ipykernel_15912/3778324554.py\u001b[0m in \u001b[0;36m<module>\u001b[0;34m\u001b[0m\n\u001b[0;32m----> 1\u001b[0;31m \u001b[0mexp\u001b[0m \u001b[0;34m=\u001b[0m \u001b[0mexplainer\u001b[0m\u001b[0;34m.\u001b[0m\u001b[0mexplain_instance\u001b[0m\u001b[0;34m(\u001b[0m\u001b[0mX_test\u001b[0m\u001b[0;34m[\u001b[0m\u001b[0mi\u001b[0m\u001b[0;34m]\u001b[0m\u001b[0;34m,\u001b[0m \u001b[0mlin_reg\u001b[0m\u001b[0;34m.\u001b[0m\u001b[0mpredict\u001b[0m\u001b[0;34m,\u001b[0m \u001b[0mnum_features\u001b[0m\u001b[0;34m=\u001b[0m\u001b[0;36m5\u001b[0m\u001b[0;34m)\u001b[0m\u001b[0;34m\u001b[0m\u001b[0;34m\u001b[0m\u001b[0m\n\u001b[0m",
      "\u001b[0;31mNameError\u001b[0m: name 'explainer' is not defined"
     ]
    }
   ],
   "source": [
    "exp = explainer.explain_instance(X_test[i], lin_reg.predict, num_features=5)"
   ]
  },
  {
   "cell_type": "code",
   "execution_count": null,
   "metadata": {},
   "outputs": [],
   "source": []
  }
 ],
 "metadata": {
  "interpreter": {
   "hash": "31f2aee4e71d21fbe5cf8b01ff0e069b9275f58929596ceb00d14d90e3e16cd6"
  },
  "kernelspec": {
   "display_name": "Python 3 (ipykernel)",
   "language": "python",
   "name": "python3"
  },
  "language_info": {
   "codemirror_mode": {
    "name": "ipython",
    "version": 3
   },
   "file_extension": ".py",
   "mimetype": "text/x-python",
   "name": "python",
   "nbconvert_exporter": "python",
   "pygments_lexer": "ipython3",
   "version": "3.8.9"
  }
 },
 "nbformat": 4,
 "nbformat_minor": 2
}
